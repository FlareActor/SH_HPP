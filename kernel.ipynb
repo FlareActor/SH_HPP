{
 "cells": [
  {
   "cell_type": "code",
   "execution_count": 1,
   "metadata": {},
   "outputs": [
    {
     "name": "stderr",
     "output_type": "stream",
     "text": [
      "/usr/local/lib/python3.6/site-packages/IPython/html.py:14: ShimWarning: The `IPython.html` package has been deprecated since IPython 4.0. You should import from `notebook` instead. `IPython.html.widgets` has moved to `ipywidgets`.\n",
      "  \"`IPython.html.widgets` has moved to `ipywidgets`.\", ShimWarning)\n"
     ]
    }
   ],
   "source": [
    "import numpy as np\n",
    "import pandas as pd\n",
    "import matplotlib\n",
    "import matplotlib.pyplot as plt\n",
    "import seaborn as sns\n",
    "import time,os,gc,re\n",
    "from tqdm import tqdm\n",
    "from geohash import encode\n",
    "from scipy.stats import skew\n",
    "\n",
    "%config InlineBackend.figure_format = 'retina' # set 'png' here when working on notebook\n",
    "%matplotlib inline\n",
    "\n",
    "# 小区名正则过滤\n",
    "name_filter=lambda x:re.sub(r'\\(.*?\\)', '', re.sub(r'\\（.*?\\）', '', x))\n",
    "# 楼层映射\n",
    "floor_map=lambda x:list(pd.cut(x,[0,3,6,9,np.inf],labels=['低层','多层','小高层','高层']))"
   ]
  },
  {
   "cell_type": "markdown",
   "metadata": {},
   "source": [
    "## 加载数据"
   ]
  },
  {
   "cell_type": "code",
   "execution_count": 3,
   "metadata": {},
   "outputs": [
    {
     "name": "stderr",
     "output_type": "stream",
     "text": [
      "100%|██████████| 573118/573118 [00:03<00:00, 154996.07it/s]\n",
      "100%|██████████| 512854/512854 [00:02<00:00, 174463.11it/s]\n",
      "100%|██████████| 686220/686220 [00:04<00:00, 150930.06it/s]\n",
      "100%|██████████| 525652/525652 [00:03<00:00, 157660.39it/s]\n",
      "100%|██████████| 610066/610066 [00:04<00:00, 135667.06it/s]\n",
      "100%|██████████| 417357/417357 [00:02<00:00, 165463.83it/s]\n",
      "100%|██████████| 583987/583987 [00:04<00:00, 131850.24it/s]\n",
      "100%|██████████| 765993/765993 [00:05<00:00, 134249.38it/s]\n",
      "100%|██████████| 499696/499696 [00:03<00:00, 149959.97it/s]\n"
     ]
    }
   ],
   "source": [
    "# 读取挂牌数据\n",
    "dfs=[]\n",
    "for k in range(1,10):\n",
    "    with open('/Users/wangdexun/Documents/gubbins/房价大数据/数据/2017挂牌数据/2017-0{}/挂牌.txt'.format(k)) as f:\n",
    "        l=[]\n",
    "        for i in tqdm(f.readlines()):\n",
    "            l.append(i.split('\\t'))\n",
    "        meta_df=pd.DataFrame(l)\n",
    "        _drop_col=[0,15,16,18,19,20,21]\n",
    "        if k>=6:\n",
    "            _drop_col.append(22)\n",
    "        meta_df.drop(_drop_col,axis=1,inplace=True) # 去除无用列\n",
    "        meta_df.columns=['area','address','name','price','unit_price','acreage','room_type','all_floor','floor','shore','house_type','fitment','time','Source','house_trait']\n",
    "#         meta_df=meta_df[meta_df.Source=='链家']\n",
    "        meta_df['month']=k\n",
    "        dfs.append(meta_df)"
   ]
  },
  {
   "cell_type": "code",
   "execution_count": 4,
   "metadata": {
    "collapsed": true
   },
   "outputs": [],
   "source": [
    "# 缓存\n",
    "all_df=pd.concat(dfs,ignore_index=True)\n",
    "all_df.to_hdf('./cache/guapai.hdf','data')"
   ]
  },
  {
   "cell_type": "code",
   "execution_count": 2,
   "metadata": {
    "scrolled": false
   },
   "outputs": [
    {
     "data": {
      "text/html": [
       "<div>\n",
       "<table border=\"1\" class=\"dataframe\">\n",
       "  <thead>\n",
       "    <tr style=\"text-align: right;\">\n",
       "      <th></th>\n",
       "      <th>area</th>\n",
       "      <th>address</th>\n",
       "      <th>name</th>\n",
       "      <th>price</th>\n",
       "      <th>unit_price</th>\n",
       "      <th>acreage</th>\n",
       "      <th>room_type</th>\n",
       "      <th>all_floor</th>\n",
       "      <th>floor</th>\n",
       "      <th>shore</th>\n",
       "      <th>house_type</th>\n",
       "      <th>fitment</th>\n",
       "      <th>time</th>\n",
       "      <th>Source</th>\n",
       "      <th>house_trait</th>\n",
       "      <th>month</th>\n",
       "    </tr>\n",
       "  </thead>\n",
       "  <tbody>\n",
       "    <tr>\n",
       "      <th>0</th>\n",
       "      <td>长宁</td>\n",
       "      <td>番禺路222弄11支弄</td>\n",
       "      <td>番禺路222弄小区</td>\n",
       "      <td>3400000</td>\n",
       "      <td>72340</td>\n",
       "      <td>47.00</td>\n",
       "      <td>2室1厅1厨1卫</td>\n",
       "      <td>6</td>\n",
       "      <td>2</td>\n",
       "      <td>南北</td>\n",
       "      <td>公寓</td>\n",
       "      <td>中装修</td>\n",
       "      <td>1984-01-01</td>\n",
       "      <td>房天下</td>\n",
       "      <td>普通住宅</td>\n",
       "      <td>1</td>\n",
       "    </tr>\n",
       "    <tr>\n",
       "      <th>1</th>\n",
       "      <td>浦东</td>\n",
       "      <td>博兴路1676弄</td>\n",
       "      <td>东陆新村九街坊</td>\n",
       "      <td>2750000</td>\n",
       "      <td>51210</td>\n",
       "      <td>53.70</td>\n",
       "      <td>1室1厅1厨1卫</td>\n",
       "      <td>6</td>\n",
       "      <td>2</td>\n",
       "      <td>南北</td>\n",
       "      <td>公寓</td>\n",
       "      <td>精装修</td>\n",
       "      <td>2000-01-01</td>\n",
       "      <td>房天下</td>\n",
       "      <td>普通住宅</td>\n",
       "      <td>1</td>\n",
       "    </tr>\n",
       "    <tr>\n",
       "      <th>2</th>\n",
       "      <td>浦东</td>\n",
       "      <td>城南路359号</td>\n",
       "      <td>东都小区</td>\n",
       "      <td>1920000</td>\n",
       "      <td>39024</td>\n",
       "      <td>49.20</td>\n",
       "      <td>2室1厅1厨1卫</td>\n",
       "      <td>5</td>\n",
       "      <td>4</td>\n",
       "      <td>南北</td>\n",
       "      <td>公寓</td>\n",
       "      <td>中装修</td>\n",
       "      <td>1986-01-01</td>\n",
       "      <td>房天下</td>\n",
       "      <td>普通住宅</td>\n",
       "      <td>1</td>\n",
       "    </tr>\n",
       "    <tr>\n",
       "      <th>3</th>\n",
       "      <td>松江</td>\n",
       "      <td>明华路366弄102-1148号</td>\n",
       "      <td>绿洲比华利花园</td>\n",
       "      <td>18000000</td>\n",
       "      <td>42705</td>\n",
       "      <td>421.50</td>\n",
       "      <td>4室2厅1厨4卫</td>\n",
       "      <td>2</td>\n",
       "      <td>1</td>\n",
       "      <td>南</td>\n",
       "      <td>别墅洋房</td>\n",
       "      <td>精装修</td>\n",
       "      <td>2000-01-01</td>\n",
       "      <td>房天下</td>\n",
       "      <td>别墅</td>\n",
       "      <td>1</td>\n",
       "    </tr>\n",
       "    <tr>\n",
       "      <th>4</th>\n",
       "      <td>浦东</td>\n",
       "      <td>御青路328弄</td>\n",
       "      <td>民乐苑</td>\n",
       "      <td>2950000</td>\n",
       "      <td>57843</td>\n",
       "      <td>51.00</td>\n",
       "      <td>1室1厅1厨1卫</td>\n",
       "      <td>6</td>\n",
       "      <td>2</td>\n",
       "      <td>南</td>\n",
       "      <td>公寓</td>\n",
       "      <td>简装修</td>\n",
       "      <td>1996-01-01</td>\n",
       "      <td>房天下</td>\n",
       "      <td>普通住宅</td>\n",
       "      <td>1</td>\n",
       "    </tr>\n",
       "  </tbody>\n",
       "</table>\n",
       "</div>"
      ],
      "text/plain": [
       "  area           address       name     price unit_price acreage room_type  \\\n",
       "0   长宁       番禺路222弄11支弄  番禺路222弄小区   3400000      72340   47.00  2室1厅1厨1卫   \n",
       "1   浦东          博兴路1676弄    东陆新村九街坊   2750000      51210   53.70  1室1厅1厨1卫   \n",
       "2   浦东           城南路359号       东都小区   1920000      39024   49.20  2室1厅1厨1卫   \n",
       "3   松江  明华路366弄102-1148号    绿洲比华利花园  18000000      42705  421.50  4室2厅1厨4卫   \n",
       "4   浦东           御青路328弄        民乐苑   2950000      57843   51.00  1室1厅1厨1卫   \n",
       "\n",
       "  all_floor floor shore house_type fitment        time Source house_trait  \\\n",
       "0         6     2    南北         公寓     中装修  1984-01-01    房天下        普通住宅   \n",
       "1         6     2    南北         公寓     精装修  2000-01-01    房天下        普通住宅   \n",
       "2         5     4    南北         公寓     中装修  1986-01-01    房天下        普通住宅   \n",
       "3         2     1     南       别墅洋房     精装修  2000-01-01    房天下          别墅   \n",
       "4         6     2     南         公寓     简装修  1996-01-01    房天下        普通住宅   \n",
       "\n",
       "   month  \n",
       "0      1  \n",
       "1      1  \n",
       "2      1  \n",
       "3      1  \n",
       "4      1  "
      ]
     },
     "execution_count": 2,
     "metadata": {},
     "output_type": "execute_result"
    }
   ],
   "source": [
    "all_df=pd.read_hdf('./cache/guapai.hdf','data')\n",
    "all_df.head()"
   ]
  },
  {
   "cell_type": "code",
   "execution_count": 68,
   "metadata": {},
   "outputs": [
    {
     "data": {
      "text/html": [
       "<div>\n",
       "<table border=\"1\" class=\"dataframe\">\n",
       "  <thead>\n",
       "    <tr style=\"text-align: right;\">\n",
       "      <th></th>\n",
       "      <th>NewDiskID</th>\n",
       "      <th>PropertyID</th>\n",
       "      <th>name</th>\n",
       "      <th>Coordinates</th>\n",
       "    </tr>\n",
       "  </thead>\n",
       "  <tbody>\n",
       "    <tr>\n",
       "      <th>0</th>\n",
       "      <td>1</td>\n",
       "      <td>14578</td>\n",
       "      <td>海伦国际大厦</td>\n",
       "      <td>121.48593904918,31.268556126592</td>\n",
       "    </tr>\n",
       "    <tr>\n",
       "      <th>1</th>\n",
       "      <td>2</td>\n",
       "      <td>14583</td>\n",
       "      <td>和源大楼</td>\n",
       "      <td>121.47417360118,31.271112531812</td>\n",
       "    </tr>\n",
       "    <tr>\n",
       "      <th>2</th>\n",
       "      <td>3</td>\n",
       "      <td>14584</td>\n",
       "      <td>财富中心</td>\n",
       "      <td>121.46979487834,31.259056541178</td>\n",
       "    </tr>\n",
       "    <tr>\n",
       "      <th>3</th>\n",
       "      <td>4</td>\n",
       "      <td>14602</td>\n",
       "      <td>科创动力</td>\n",
       "      <td>121.42412471181,31.181237621707</td>\n",
       "    </tr>\n",
       "    <tr>\n",
       "      <th>4</th>\n",
       "      <td>5</td>\n",
       "      <td>14613</td>\n",
       "      <td>绿地伯顿商务广场</td>\n",
       "      <td>121.25327636955,31.022714501392</td>\n",
       "    </tr>\n",
       "  </tbody>\n",
       "</table>\n",
       "</div>"
      ],
      "text/plain": [
       "   NewDiskID  PropertyID      name                      Coordinates\n",
       "0          1       14578    海伦国际大厦  121.48593904918,31.268556126592\n",
       "1          2       14583      和源大楼  121.47417360118,31.271112531812\n",
       "2          3       14584      财富中心  121.46979487834,31.259056541178\n",
       "3          4       14602      科创动力  121.42412471181,31.181237621707\n",
       "4          5       14613  绿地伯顿商务广场  121.25327636955,31.022714501392"
      ]
     },
     "execution_count": 68,
     "metadata": {},
     "output_type": "execute_result"
    }
   ],
   "source": [
    "# 获取经纬度信息\n",
    "newdisk_df=pd.read_csv('../数据/GC_dbo_AD_NewDisk.csv',usecols=['NewDiskID','PropertyID','NewDiskName','Coordinates'])\n",
    "newdisk_df.rename(columns={'NewDiskName':'name'},inplace=True)\n",
    "newdisk_df.dropna(inplace=True)\n",
    "newdisk_df.drop_duplicates('PropertyID',inplace=True)\n",
    "newdisk_df.head()"
   ]
  },
  {
   "cell_type": "code",
   "execution_count": 69,
   "metadata": {},
   "outputs": [
    {
     "data": {
      "text/html": [
       "<div>\n",
       "<table border=\"1\" class=\"dataframe\">\n",
       "  <thead>\n",
       "    <tr style=\"text-align: right;\">\n",
       "      <th></th>\n",
       "      <th>PropertyID</th>\n",
       "      <th>area</th>\n",
       "      <th>Plate</th>\n",
       "      <th>Module</th>\n",
       "      <th>name</th>\n",
       "    </tr>\n",
       "  </thead>\n",
       "  <tbody>\n",
       "    <tr>\n",
       "      <th>0</th>\n",
       "      <td>1</td>\n",
       "      <td>嘉定</td>\n",
       "      <td>安亭汽车城</td>\n",
       "      <td>外环以外</td>\n",
       "      <td>澳丽映象嘉园</td>\n",
       "    </tr>\n",
       "    <tr>\n",
       "      <th>1</th>\n",
       "      <td>2</td>\n",
       "      <td>普陀</td>\n",
       "      <td>武宁</td>\n",
       "      <td>内环以内</td>\n",
       "      <td>浅水湾恺悦名城</td>\n",
       "    </tr>\n",
       "    <tr>\n",
       "      <th>2</th>\n",
       "      <td>3</td>\n",
       "      <td>徐汇</td>\n",
       "      <td>徐汇中心</td>\n",
       "      <td>内环以内</td>\n",
       "      <td>青松小区</td>\n",
       "    </tr>\n",
       "    <tr>\n",
       "      <th>3</th>\n",
       "      <td>4</td>\n",
       "      <td>浦东</td>\n",
       "      <td>洋泾</td>\n",
       "      <td>内环以内</td>\n",
       "      <td>巨洋小区</td>\n",
       "    </tr>\n",
       "    <tr>\n",
       "      <th>4</th>\n",
       "      <td>5</td>\n",
       "      <td>金山</td>\n",
       "      <td>石化</td>\n",
       "      <td>外环以外</td>\n",
       "      <td>海趣馨苑</td>\n",
       "    </tr>\n",
       "  </tbody>\n",
       "</table>\n",
       "</div>"
      ],
      "text/plain": [
       "   PropertyID area  Plate Module     name\n",
       "0           1   嘉定  安亭汽车城   外环以外   澳丽映象嘉园\n",
       "1           2   普陀     武宁   内环以内  浅水湾恺悦名城\n",
       "2           3   徐汇   徐汇中心   内环以内     青松小区\n",
       "3           4   浦东     洋泾   内环以内     巨洋小区\n",
       "4           5   金山     石化   外环以外     海趣馨苑"
      ]
     },
     "execution_count": 69,
     "metadata": {},
     "output_type": "execute_result"
    }
   ],
   "source": [
    "# 获取板块、环线信息\n",
    "property_df=pd.read_csv('../数据/GC_dbo_AD_Property.csv',usecols=['PropertyID','Area','Plate','Module','HousingName'])\n",
    "property_df.rename(columns={'Area':'area','HousingName':'name'},inplace=True)\n",
    "property_df.head()"
   ]
  },
  {
   "cell_type": "code",
   "execution_count": 8,
   "metadata": {},
   "outputs": [
    {
     "data": {
      "text/html": [
       "<div>\n",
       "<table border=\"1\" class=\"dataframe\">\n",
       "  <thead>\n",
       "    <tr style=\"text-align: right;\">\n",
       "      <th></th>\n",
       "      <th>PropertyID</th>\n",
       "      <th>area</th>\n",
       "      <th>Plate</th>\n",
       "      <th>Module</th>\n",
       "      <th>name</th>\n",
       "      <th>Coordinates</th>\n",
       "    </tr>\n",
       "  </thead>\n",
       "  <tbody>\n",
       "    <tr>\n",
       "      <th>0</th>\n",
       "      <td>1</td>\n",
       "      <td>嘉定</td>\n",
       "      <td>安亭汽车城</td>\n",
       "      <td>外环以外</td>\n",
       "      <td>澳丽映象嘉园</td>\n",
       "      <td>121.15659808595,31.31139200258</td>\n",
       "    </tr>\n",
       "    <tr>\n",
       "      <th>1</th>\n",
       "      <td>2</td>\n",
       "      <td>普陀</td>\n",
       "      <td>武宁</td>\n",
       "      <td>内环以内</td>\n",
       "      <td>浅水湾恺悦名城</td>\n",
       "      <td>121.44773671616,31.255725959165</td>\n",
       "    </tr>\n",
       "    <tr>\n",
       "      <th>2</th>\n",
       "      <td>3</td>\n",
       "      <td>徐汇</td>\n",
       "      <td>徐汇中心</td>\n",
       "      <td>内环以内</td>\n",
       "      <td>青松小区</td>\n",
       "      <td>121.45489281368,31.203688194162</td>\n",
       "    </tr>\n",
       "    <tr>\n",
       "      <th>3</th>\n",
       "      <td>4</td>\n",
       "      <td>浦东</td>\n",
       "      <td>洋泾</td>\n",
       "      <td>内环以内</td>\n",
       "      <td>巨洋小区</td>\n",
       "      <td>121.55264713792,31.244887868785</td>\n",
       "    </tr>\n",
       "    <tr>\n",
       "      <th>4</th>\n",
       "      <td>5</td>\n",
       "      <td>金山</td>\n",
       "      <td>石化</td>\n",
       "      <td>外环以外</td>\n",
       "      <td>海趣馨苑</td>\n",
       "      <td>121.34017951087,30.752088574465</td>\n",
       "    </tr>\n",
       "  </tbody>\n",
       "</table>\n",
       "</div>"
      ],
      "text/plain": [
       "   PropertyID area  Plate Module     name                      Coordinates\n",
       "0           1   嘉定  安亭汽车城   外环以外   澳丽映象嘉园   121.15659808595,31.31139200258\n",
       "1           2   普陀     武宁   内环以内  浅水湾恺悦名城  121.44773671616,31.255725959165\n",
       "2           3   徐汇   徐汇中心   内环以内     青松小区  121.45489281368,31.203688194162\n",
       "3           4   浦东     洋泾   内环以内     巨洋小区  121.55264713792,31.244887868785\n",
       "4           5   金山     石化   外环以外     海趣馨苑  121.34017951087,30.752088574465"
      ]
     },
     "execution_count": 8,
     "metadata": {},
     "output_type": "execute_result"
    }
   ],
   "source": [
    "# merge them\n",
    "property_df=pd.merge(property_df,newdisk_df[['PropertyID','Coordinates']],on='PropertyID',how='inner')\n",
    "property_df.head()"
   ]
  },
  {
   "cell_type": "code",
   "execution_count": 10,
   "metadata": {},
   "outputs": [],
   "source": [
    "# 小区名称清洗\n",
    "property_df.drop_duplicates(['area','name'],inplace=True)\n",
    "property_df.name=property_df.name.apply(name_filter)\n",
    "all_df.name=all_df.name.apply(name_filter)"
   ]
  },
  {
   "cell_type": "code",
   "execution_count": 113,
   "metadata": {},
   "outputs": [],
   "source": [
    "# 合并信息\n",
    "all_df=pd.merge(all_df,property_df,on=['name','area'],how='inner')\n",
    "all_df.to_hdf('./cache/train.hdf','data')"
   ]
  },
  {
   "cell_type": "code",
   "execution_count": 2,
   "metadata": {},
   "outputs": [
    {
     "data": {
      "text/html": [
       "<div>\n",
       "<table border=\"1\" class=\"dataframe\">\n",
       "  <thead>\n",
       "    <tr style=\"text-align: right;\">\n",
       "      <th></th>\n",
       "      <th>area</th>\n",
       "      <th>address</th>\n",
       "      <th>name</th>\n",
       "      <th>price</th>\n",
       "      <th>unit_price</th>\n",
       "      <th>acreage</th>\n",
       "      <th>room_type</th>\n",
       "      <th>all_floor</th>\n",
       "      <th>floor</th>\n",
       "      <th>shore</th>\n",
       "      <th>house_type</th>\n",
       "      <th>fitment</th>\n",
       "      <th>time</th>\n",
       "      <th>Source</th>\n",
       "      <th>house_trait</th>\n",
       "      <th>month</th>\n",
       "      <th>PropertyID</th>\n",
       "      <th>Plate</th>\n",
       "      <th>Module</th>\n",
       "      <th>Coordinates</th>\n",
       "    </tr>\n",
       "  </thead>\n",
       "  <tbody>\n",
       "    <tr>\n",
       "      <th>0</th>\n",
       "      <td>浦东</td>\n",
       "      <td>城南路359号</td>\n",
       "      <td>东都小区</td>\n",
       "      <td>1920000.0</td>\n",
       "      <td>39024.0</td>\n",
       "      <td>49.2</td>\n",
       "      <td>2室1厅1厨1卫</td>\n",
       "      <td>5.0</td>\n",
       "      <td>4.0</td>\n",
       "      <td>南北</td>\n",
       "      <td>公寓</td>\n",
       "      <td>中装修</td>\n",
       "      <td>1986-01-01</td>\n",
       "      <td>房天下</td>\n",
       "      <td>普通住宅</td>\n",
       "      <td>1</td>\n",
       "      <td>4781</td>\n",
       "      <td>川沙</td>\n",
       "      <td>外环以外</td>\n",
       "      <td>121.70855449796,31.198134594037</td>\n",
       "    </tr>\n",
       "    <tr>\n",
       "      <th>1</th>\n",
       "      <td>浦东</td>\n",
       "      <td>城南路329弄</td>\n",
       "      <td>东都小区</td>\n",
       "      <td>1900000.0</td>\n",
       "      <td>38618.0</td>\n",
       "      <td>49.2</td>\n",
       "      <td>2室1厅1厨1卫</td>\n",
       "      <td>6.0</td>\n",
       "      <td>2.0</td>\n",
       "      <td>南北</td>\n",
       "      <td>公寓</td>\n",
       "      <td>中装修</td>\n",
       "      <td>1986-01-01</td>\n",
       "      <td>房天下</td>\n",
       "      <td>普通住宅</td>\n",
       "      <td>1</td>\n",
       "      <td>4781</td>\n",
       "      <td>川沙</td>\n",
       "      <td>外环以外</td>\n",
       "      <td>121.70855449796,31.198134594037</td>\n",
       "    </tr>\n",
       "    <tr>\n",
       "      <th>2</th>\n",
       "      <td>浦东</td>\n",
       "      <td>城南路341弄</td>\n",
       "      <td>东都小区</td>\n",
       "      <td>1920000.0</td>\n",
       "      <td>38400.0</td>\n",
       "      <td>50.0</td>\n",
       "      <td>2室1厅1厨1卫</td>\n",
       "      <td>6.0</td>\n",
       "      <td>2.0</td>\n",
       "      <td>南北</td>\n",
       "      <td>公寓</td>\n",
       "      <td>简装修</td>\n",
       "      <td>1992-01-01</td>\n",
       "      <td>房天下</td>\n",
       "      <td>普通住宅</td>\n",
       "      <td>1</td>\n",
       "      <td>4781</td>\n",
       "      <td>川沙</td>\n",
       "      <td>外环以外</td>\n",
       "      <td>121.70855449796,31.198134594037</td>\n",
       "    </tr>\n",
       "    <tr>\n",
       "      <th>3</th>\n",
       "      <td>浦东</td>\n",
       "      <td>城南路359号</td>\n",
       "      <td>东都小区</td>\n",
       "      <td>1850000.0</td>\n",
       "      <td>37000.0</td>\n",
       "      <td>50.0</td>\n",
       "      <td>1室1厅1厨1卫</td>\n",
       "      <td>6.0</td>\n",
       "      <td>6.0</td>\n",
       "      <td>南北</td>\n",
       "      <td>公寓</td>\n",
       "      <td>精装修</td>\n",
       "      <td>1983-01-01</td>\n",
       "      <td>房天下</td>\n",
       "      <td>普通住宅</td>\n",
       "      <td>1</td>\n",
       "      <td>4781</td>\n",
       "      <td>川沙</td>\n",
       "      <td>外环以外</td>\n",
       "      <td>121.70855449796,31.198134594037</td>\n",
       "    </tr>\n",
       "    <tr>\n",
       "      <th>4</th>\n",
       "      <td>浦东</td>\n",
       "      <td>城南路359号</td>\n",
       "      <td>东都小区</td>\n",
       "      <td>1920000.0</td>\n",
       "      <td>39184.0</td>\n",
       "      <td>49.0</td>\n",
       "      <td>2室1厅1厨1卫</td>\n",
       "      <td>5.0</td>\n",
       "      <td>4.0</td>\n",
       "      <td>南</td>\n",
       "      <td>公寓</td>\n",
       "      <td>中装修</td>\n",
       "      <td>1986-01-01</td>\n",
       "      <td>房天下</td>\n",
       "      <td>普通住宅</td>\n",
       "      <td>1</td>\n",
       "      <td>4781</td>\n",
       "      <td>川沙</td>\n",
       "      <td>外环以外</td>\n",
       "      <td>121.70855449796,31.198134594037</td>\n",
       "    </tr>\n",
       "  </tbody>\n",
       "</table>\n",
       "</div>"
      ],
      "text/plain": [
       "  area  address  name      price  unit_price  acreage room_type  all_floor  \\\n",
       "0   浦东  城南路359号  东都小区  1920000.0     39024.0     49.2  2室1厅1厨1卫        5.0   \n",
       "1   浦东  城南路329弄  东都小区  1900000.0     38618.0     49.2  2室1厅1厨1卫        6.0   \n",
       "2   浦东  城南路341弄  东都小区  1920000.0     38400.0     50.0  2室1厅1厨1卫        6.0   \n",
       "3   浦东  城南路359号  东都小区  1850000.0     37000.0     50.0  1室1厅1厨1卫        6.0   \n",
       "4   浦东  城南路359号  东都小区  1920000.0     39184.0     49.0  2室1厅1厨1卫        5.0   \n",
       "\n",
       "   floor shore house_type fitment        time Source house_trait  month  \\\n",
       "0    4.0    南北         公寓     中装修  1986-01-01    房天下        普通住宅      1   \n",
       "1    2.0    南北         公寓     中装修  1986-01-01    房天下        普通住宅      1   \n",
       "2    2.0    南北         公寓     简装修  1992-01-01    房天下        普通住宅      1   \n",
       "3    6.0    南北         公寓     精装修  1983-01-01    房天下        普通住宅      1   \n",
       "4    4.0     南         公寓     中装修  1986-01-01    房天下        普通住宅      1   \n",
       "\n",
       "   PropertyID Plate Module                      Coordinates  \n",
       "0        4781    川沙   外环以外  121.70855449796,31.198134594037  \n",
       "1        4781    川沙   外环以外  121.70855449796,31.198134594037  \n",
       "2        4781    川沙   外环以外  121.70855449796,31.198134594037  \n",
       "3        4781    川沙   外环以外  121.70855449796,31.198134594037  \n",
       "4        4781    川沙   外环以外  121.70855449796,31.198134594037  "
      ]
     },
     "execution_count": 2,
     "metadata": {},
     "output_type": "execute_result"
    }
   ],
   "source": [
    "all_df=pd.read_hdf('./cache/train.hdf','data')\n",
    "all_df.head()"
   ]
  },
  {
   "cell_type": "code",
   "execution_count": 3,
   "metadata": {},
   "outputs": [],
   "source": [
    "# 转换数值类型\n",
    "numerical_columns=['price','unit_price','acreage','all_floor','floor'] # str->float\n",
    "all_df[numerical_columns]=all_df[numerical_columns].astype(float)"
   ]
  },
  {
   "cell_type": "code",
   "execution_count": 4,
   "metadata": {},
   "outputs": [
    {
     "data": {
      "text/html": [
       "<div>\n",
       "<table border=\"1\" class=\"dataframe\">\n",
       "  <thead>\n",
       "    <tr style=\"text-align: right;\">\n",
       "      <th></th>\n",
       "      <th>price</th>\n",
       "      <th>unit_price</th>\n",
       "      <th>acreage</th>\n",
       "      <th>all_floor</th>\n",
       "      <th>floor</th>\n",
       "    </tr>\n",
       "  </thead>\n",
       "  <tbody>\n",
       "    <tr>\n",
       "      <th>count</th>\n",
       "      <td>3.480067e+06</td>\n",
       "      <td>3.480067e+06</td>\n",
       "      <td>3.480067e+06</td>\n",
       "      <td>3.480067e+06</td>\n",
       "      <td>3.480067e+06</td>\n",
       "    </tr>\n",
       "    <tr>\n",
       "      <th>mean</th>\n",
       "      <td>5.548903e+06</td>\n",
       "      <td>5.504989e+04</td>\n",
       "      <td>9.601145e+01</td>\n",
       "      <td>1.110598e+01</td>\n",
       "      <td>5.283538e+00</td>\n",
       "    </tr>\n",
       "    <tr>\n",
       "      <th>std</th>\n",
       "      <td>7.559677e+06</td>\n",
       "      <td>2.932402e+04</td>\n",
       "      <td>7.650108e+01</td>\n",
       "      <td>8.573028e+00</td>\n",
       "      <td>5.555178e+00</td>\n",
       "    </tr>\n",
       "    <tr>\n",
       "      <th>min</th>\n",
       "      <td>4.500000e+01</td>\n",
       "      <td>2.798000e+03</td>\n",
       "      <td>2.100000e+00</td>\n",
       "      <td>0.000000e+00</td>\n",
       "      <td>-5.000000e+00</td>\n",
       "    </tr>\n",
       "    <tr>\n",
       "      <th>25%</th>\n",
       "      <td>2.700000e+06</td>\n",
       "      <td>4.042600e+04</td>\n",
       "      <td>5.611000e+01</td>\n",
       "      <td>6.000000e+00</td>\n",
       "      <td>2.000000e+00</td>\n",
       "    </tr>\n",
       "    <tr>\n",
       "      <th>50%</th>\n",
       "      <td>3.800000e+06</td>\n",
       "      <td>5.314800e+04</td>\n",
       "      <td>7.992000e+01</td>\n",
       "      <td>6.000000e+00</td>\n",
       "      <td>3.000000e+00</td>\n",
       "    </tr>\n",
       "    <tr>\n",
       "      <th>75%</th>\n",
       "      <td>6.000000e+06</td>\n",
       "      <td>6.590950e+04</td>\n",
       "      <td>1.090000e+02</td>\n",
       "      <td>1.500000e+01</td>\n",
       "      <td>6.000000e+00</td>\n",
       "    </tr>\n",
       "    <tr>\n",
       "      <th>max</th>\n",
       "      <td>9.999900e+08</td>\n",
       "      <td>1.101909e+07</td>\n",
       "      <td>4.388000e+03</td>\n",
       "      <td>9.000000e+01</td>\n",
       "      <td>6.300000e+01</td>\n",
       "    </tr>\n",
       "  </tbody>\n",
       "</table>\n",
       "</div>"
      ],
      "text/plain": [
       "              price    unit_price       acreage     all_floor         floor\n",
       "count  3.480067e+06  3.480067e+06  3.480067e+06  3.480067e+06  3.480067e+06\n",
       "mean   5.548903e+06  5.504989e+04  9.601145e+01  1.110598e+01  5.283538e+00\n",
       "std    7.559677e+06  2.932402e+04  7.650108e+01  8.573028e+00  5.555178e+00\n",
       "min    4.500000e+01  2.798000e+03  2.100000e+00  0.000000e+00 -5.000000e+00\n",
       "25%    2.700000e+06  4.042600e+04  5.611000e+01  6.000000e+00  2.000000e+00\n",
       "50%    3.800000e+06  5.314800e+04  7.992000e+01  6.000000e+00  3.000000e+00\n",
       "75%    6.000000e+06  6.590950e+04  1.090000e+02  1.500000e+01  6.000000e+00\n",
       "max    9.999900e+08  1.101909e+07  4.388000e+03  9.000000e+01  6.300000e+01"
      ]
     },
     "execution_count": 4,
     "metadata": {},
     "output_type": "execute_result"
    }
   ],
   "source": [
    "all_df[numerical_columns].describe()"
   ]
  },
  {
   "cell_type": "code",
   "execution_count": 5,
   "metadata": {},
   "outputs": [
    {
     "data": {
      "text/plain": [
       "<matplotlib.axes._subplots.AxesSubplot at 0x21944e6a0>"
      ]
     },
     "execution_count": 5,
     "metadata": {},
     "output_type": "execute_result"
    },
    {
     "data": {
      "image/png": "[encoded data removed]",
      "text/plain": [
       "<matplotlib.figure.Figure at 0x1108947b8>"
      ]
     },
     "metadata": {
      "image/png": {
       "height": 465,
       "width": 458
      }
     },
     "output_type": "display_data"
    }
   ],
   "source": [
    "# 变量间相关性\n",
    "sns.set({'figure.figsize':(8,8)})\n",
    "sns.heatmap(all_df.corr(),annot=True)"
   ]
  },
  {
   "cell_type": "markdown",
   "metadata": {},
   "source": [
    "## 特征预处理"
   ]
  },
  {
   "cell_type": "markdown",
   "metadata": {},
   "source": [
    "* 修正面积"
   ]
  },
  {
   "cell_type": "code",
   "execution_count": 6,
   "metadata": {},
   "outputs": [
    {
     "name": "stdout",
     "output_type": "stream",
     "text": [
      "count    3.480067e+06\n",
      "mean     9.601145e+01\n",
      "std      7.650108e+01\n",
      "min      2.100000e+00\n",
      "25%      5.611000e+01\n",
      "50%      7.992000e+01\n",
      "75%      1.090000e+02\n",
      "max      4.388000e+03\n",
      "Name: acreage, dtype: float64\n"
     ]
    },
    {
     "data": {
      "text/plain": [
       "<matplotlib.axes._subplots.AxesSubplot at 0x1229ca0f0>"
      ]
     },
     "execution_count": 6,
     "metadata": {},
     "output_type": "execute_result"
    },
    {
     "data": {
      "image/png": "[encoded data removed]",
      "text/plain": [
       "<matplotlib.figure.Figure at 0x123090198>"
      ]
     },
     "metadata": {
      "image/png": {
       "height": 248,
       "width": 501
      }
     },
     "output_type": "display_data"
    }
   ],
   "source": [
    "print(all_df.acreage.describe())\n",
    "sns.set({'figure.figsize':(8,4)})\n",
    "np.log(all_df.acreage).hist(bins=100) # log化处理偏态数据"
   ]
  },
  {
   "cell_type": "code",
   "execution_count": 7,
   "metadata": {},
   "outputs": [
    {
     "name": "stdout",
     "output_type": "stream",
     "text": [
      "修正前：6.746596\n",
      "修正后：0.598935\n"
     ]
    }
   ],
   "source": [
    "# 计算偏度\n",
    "print('修正前：%f'%skew(all_df.acreage))\n",
    "print('修正后：%f'%skew(np.log(all_df.acreage)))"
   ]
  },
  {
   "cell_type": "code",
   "execution_count": 8,
   "metadata": {
    "scrolled": false
   },
   "outputs": [
    {
     "data": {
      "text/plain": [
       "count    2.848865e+06\n",
       "mean     9.263810e+01\n",
       "std      3.678711e+01\n",
       "min      4.739000e+01\n",
       "25%      6.500000e+01\n",
       "50%      8.500000e+01\n",
       "75%      1.100000e+02\n",
       "max      2.386600e+02\n",
       "Name: acreage, dtype: float64"
      ]
     },
     "execution_count": 8,
     "metadata": {},
     "output_type": "execute_result"
    },
    {
     "data": {
      "image/png": "[encoded data removed]",
      "text/plain": [
       "<matplotlib.figure.Figure at 0x1238b9ac8>"
      ]
     },
     "metadata": {
      "image/png": {
       "height": 262,
       "width": 460
      }
     },
     "output_type": "display_data"
    }
   ],
   "source": [
    "acreage_log=np.log(all_df.acreage)\n",
    "mean=acreage_log.mean()\n",
    "std=acreage_log.std()\n",
    "i=acreage_log[(acreage_log<=mean+2*std)&(acreage_log>=mean-1*std)].index\n",
    "sns.set({'figure.figsize':(8,4)})\n",
    "sns.boxplot(all_df.loc[i].acreage)\n",
    "all_df.loc[i].acreage.describe()"
   ]
  },
  {
   "cell_type": "code",
   "execution_count": 9,
   "metadata": {
    "collapsed": true
   },
   "outputs": [],
   "source": [
    "all_df=all_df.loc[i]"
   ]
  },
  {
   "cell_type": "markdown",
   "metadata": {},
   "source": [
    "* 修正单价"
   ]
  },
  {
   "cell_type": "code",
   "execution_count": 10,
   "metadata": {},
   "outputs": [
    {
     "name": "stdout",
     "output_type": "stream",
     "text": [
      "count    2.848865e+06\n",
      "mean     5.346441e+04\n",
      "std      2.434708e+04\n",
      "min      2.798000e+03\n",
      "25%      3.958300e+04\n",
      "50%      5.196100e+04\n",
      "75%      6.440000e+04\n",
      "max      9.523714e+06\n",
      "Name: unit_price, dtype: float64\n"
     ]
    },
    {
     "data": {
      "text/plain": [
       "<matplotlib.axes._subplots.AxesSubplot at 0x109ea6860>"
      ]
     },
     "execution_count": 10,
     "metadata": {},
     "output_type": "execute_result"
    },
    {
     "data": {
      "image/png": "[encoded data removed]",
      "text/plain": [
       "<matplotlib.figure.Figure at 0x10b29a6a0>"
      ]
     },
     "metadata": {
      "image/png": {
       "height": 248,
       "width": 501
      }
     },
     "output_type": "display_data"
    }
   ],
   "source": [
    "print(all_df.unit_price.describe())\n",
    "np.log(all_df.unit_price).hist(bins=100)"
   ]
  },
  {
   "cell_type": "code",
   "execution_count": 11,
   "metadata": {},
   "outputs": [
    {
     "name": "stdout",
     "output_type": "stream",
     "text": [
      "修正前：73.207969\n",
      "修正后：-0.665131\n"
     ]
    }
   ],
   "source": [
    "# 计算偏度\n",
    "print('修正前：%f'%skew(all_df.unit_price))\n",
    "print('修正后：%f'%skew(np.log(all_df.unit_price)))"
   ]
  },
  {
   "cell_type": "code",
   "execution_count": 12,
   "metadata": {},
   "outputs": [
    {
     "data": {
      "text/plain": [
       "count    2.827755e+06\n",
       "mean     5.365555e+04\n",
       "std      1.911448e+04\n",
       "min      1.408300e+04\n",
       "25%      3.987700e+04\n",
       "50%      5.210100e+04\n",
       "75%      6.451600e+04\n",
       "max      1.621620e+05\n",
       "Name: unit_price, dtype: float64"
      ]
     },
     "execution_count": 12,
     "metadata": {},
     "output_type": "execute_result"
    },
    {
     "data": {
      "image/png": "[encoded data removed]",
      "text/plain": [
       "<matplotlib.figure.Figure at 0x12315d9e8>"
      ]
     },
     "metadata": {
      "image/png": {
       "height": 262,
       "width": 460
      }
     },
     "output_type": "display_data"
    }
   ],
   "source": [
    "unit_price_log=np.log(all_df.unit_price)\n",
    "mean=unit_price_log.mean()\n",
    "std=unit_price_log.std()\n",
    "i=unit_price_log[(unit_price_log<=mean+3*std)&(unit_price_log>=mean-3.2*std)].index\n",
    "sns.set({'figure.figsize':(8,4)})\n",
    "sns.boxplot(all_df.loc[i].unit_price)\n",
    "all_df.loc[i].unit_price.describe()"
   ]
  },
  {
   "cell_type": "code",
   "execution_count": 13,
   "metadata": {
    "collapsed": true
   },
   "outputs": [],
   "source": [
    "all_df=all_df.loc[i]"
   ]
  },
  {
   "cell_type": "markdown",
   "metadata": {},
   "source": [
    "* 修复总价"
   ]
  },
  {
   "cell_type": "code",
   "execution_count": 14,
   "metadata": {
    "collapsed": true
   },
   "outputs": [],
   "source": [
    "# 修复总价单位误差\n",
    "all_df.loc[all_df.price<=10000,'price']*=10000"
   ]
  },
  {
   "cell_type": "code",
   "execution_count": 15,
   "metadata": {},
   "outputs": [
    {
     "data": {
      "text/plain": [
       "<matplotlib.axes._subplots.AxesSubplot at 0x109ead978>"
      ]
     },
     "execution_count": 15,
     "metadata": {},
     "output_type": "execute_result"
    },
    {
     "data": {
      "image/png": "[encoded data removed]",
      "text/plain": [
       "<matplotlib.figure.Figure at 0x123166cf8>"
      ]
     },
     "metadata": {
      "image/png": {
       "height": 260,
       "width": 460
      }
     },
     "output_type": "display_data"
    }
   ],
   "source": [
    "# 差价分布\n",
    "anomaly_price=np.abs(all_df.unit_price*all_df.acreage-all_df.price)\n",
    "sns.set({'figure.figsize':(8,4)})\n",
    "sns.boxplot(anomaly_price)"
   ]
  },
  {
   "cell_type": "code",
   "execution_count": 16,
   "metadata": {},
   "outputs": [
    {
     "data": {
      "text/plain": [
       "1795577      100076.00\n",
       "1174883      101466.30\n",
       "2233382      106599.68\n",
       "2898464      112371.50\n",
       "1796312      120995.84\n",
       "43695        123206.00\n",
       "1370142      126760.80\n",
       "3468122      158114.00\n",
       "1767766      200370.20\n",
       "1376031      232134.60\n",
       "2604270      259993.22\n",
       "2604285      259993.22\n",
       "854398       300014.28\n",
       "854082       300014.28\n",
       "853961       300014.28\n",
       "1887414      359189.47\n",
       "2541108      478614.47\n",
       "1006932      554942.00\n",
       "902355      1100625.00\n",
       "1378381     1757339.60\n",
       "3456036    13837722.04\n",
       "dtype: float64"
      ]
     },
     "execution_count": 16,
     "metadata": {},
     "output_type": "execute_result"
    }
   ],
   "source": [
    "anomaly_price_index=anomaly_price[anomaly_price>100000].index # 差价太多为异常点\n",
    "anomaly_price[anomaly_price_index].sort_values()"
   ]
  },
  {
   "cell_type": "code",
   "execution_count": 17,
   "metadata": {},
   "outputs": [],
   "source": [
    "# 修正异常的总价\n",
    "# train.loc[anomaly_price_index,'price']=train.loc[anomaly_price_index,'unit_price']*train.loc[anomaly_price_index,'acreage']\n",
    "\n",
    "# 直接删除异常样本\n",
    "all_df.drop(anomaly_price_index,axis=0,inplace=True)"
   ]
  },
  {
   "cell_type": "code",
   "execution_count": 18,
   "metadata": {
    "scrolled": false
   },
   "outputs": [
    {
     "data": {
      "text/html": [
       "<div>\n",
       "<table border=\"1\" class=\"dataframe\">\n",
       "  <thead>\n",
       "    <tr style=\"text-align: right;\">\n",
       "      <th></th>\n",
       "      <th>area</th>\n",
       "      <th>address</th>\n",
       "      <th>name</th>\n",
       "      <th>price</th>\n",
       "      <th>unit_price</th>\n",
       "      <th>acreage</th>\n",
       "      <th>room_type</th>\n",
       "      <th>all_floor</th>\n",
       "      <th>floor</th>\n",
       "      <th>shore</th>\n",
       "      <th>house_type</th>\n",
       "      <th>fitment</th>\n",
       "      <th>time</th>\n",
       "      <th>Source</th>\n",
       "      <th>house_trait</th>\n",
       "      <th>month</th>\n",
       "      <th>PropertyID</th>\n",
       "      <th>Plate</th>\n",
       "      <th>Module</th>\n",
       "      <th>Coordinates</th>\n",
       "    </tr>\n",
       "  </thead>\n",
       "  <tbody>\n",
       "    <tr>\n",
       "      <th>3452572</th>\n",
       "      <td>奉贤</td>\n",
       "      <td>奉城邮电路421弄</td>\n",
       "      <td>奉铭佳苑</td>\n",
       "      <td>680000.0</td>\n",
       "      <td>14167.0</td>\n",
       "      <td>48.00</td>\n",
       "      <td>2室1厅1卫</td>\n",
       "      <td>19.0</td>\n",
       "      <td>14.0</td>\n",
       "      <td>南北</td>\n",
       "      <td>公寓</td>\n",
       "      <td>精装修</td>\n",
       "      <td>2011-01-01</td>\n",
       "      <td>房天下</td>\n",
       "      <td>普通住宅</td>\n",
       "      <td>9</td>\n",
       "      <td>15449</td>\n",
       "      <td>奉城</td>\n",
       "      <td>外环以外</td>\n",
       "      <td>121.07160410165,30.937525261652</td>\n",
       "    </tr>\n",
       "    <tr>\n",
       "      <th>3170884</th>\n",
       "      <td>嘉定</td>\n",
       "      <td>和静路1188弄</td>\n",
       "      <td>红湖小区</td>\n",
       "      <td>680000.0</td>\n",
       "      <td>14167.0</td>\n",
       "      <td>48.00</td>\n",
       "      <td>1室1厅1厨1卫</td>\n",
       "      <td>6.0</td>\n",
       "      <td>2.0</td>\n",
       "      <td>南</td>\n",
       "      <td>公寓</td>\n",
       "      <td>精装修</td>\n",
       "      <td>2000-01-01</td>\n",
       "      <td>房天下</td>\n",
       "      <td>普通住宅</td>\n",
       "      <td>3</td>\n",
       "      <td>3965</td>\n",
       "      <td>安亭汽车城</td>\n",
       "      <td>外环以外</td>\n",
       "      <td>121.16581491967,31.307232256388</td>\n",
       "    </tr>\n",
       "    <tr>\n",
       "      <th>3355468</th>\n",
       "      <td>奉贤</td>\n",
       "      <td>南明路191号</td>\n",
       "      <td>青村小镇</td>\n",
       "      <td>680000.0</td>\n",
       "      <td>14167.0</td>\n",
       "      <td>48.00</td>\n",
       "      <td>2室1厅1卫</td>\n",
       "      <td>6.0</td>\n",
       "      <td>4.0</td>\n",
       "      <td>南</td>\n",
       "      <td>公寓</td>\n",
       "      <td>精装修</td>\n",
       "      <td>2000-01-01</td>\n",
       "      <td>房天下</td>\n",
       "      <td>普通住宅</td>\n",
       "      <td>8</td>\n",
       "      <td>672</td>\n",
       "      <td>奉贤其它</td>\n",
       "      <td>外环以外</td>\n",
       "      <td>121.5454573782,30.874789949594</td>\n",
       "    </tr>\n",
       "    <tr>\n",
       "      <th>3355482</th>\n",
       "      <td>奉贤</td>\n",
       "      <td>南明路99号</td>\n",
       "      <td>青村小镇</td>\n",
       "      <td>680000.0</td>\n",
       "      <td>14167.0</td>\n",
       "      <td>48.00</td>\n",
       "      <td>2室1厅1卫</td>\n",
       "      <td>6.0</td>\n",
       "      <td>4.0</td>\n",
       "      <td>南</td>\n",
       "      <td>公寓</td>\n",
       "      <td>精装修</td>\n",
       "      <td>2000-01-01</td>\n",
       "      <td>房天下</td>\n",
       "      <td>普通住宅</td>\n",
       "      <td>8</td>\n",
       "      <td>672</td>\n",
       "      <td>奉贤其它</td>\n",
       "      <td>外环以外</td>\n",
       "      <td>121.5454573782,30.874789949594</td>\n",
       "    </tr>\n",
       "    <tr>\n",
       "      <th>3355530</th>\n",
       "      <td>奉贤</td>\n",
       "      <td>南明路99号</td>\n",
       "      <td>青村小镇</td>\n",
       "      <td>680000.0</td>\n",
       "      <td>14167.0</td>\n",
       "      <td>48.00</td>\n",
       "      <td>2室1厅1卫</td>\n",
       "      <td>6.0</td>\n",
       "      <td>4.0</td>\n",
       "      <td>南</td>\n",
       "      <td>公寓</td>\n",
       "      <td>精装修</td>\n",
       "      <td>2000-01-01</td>\n",
       "      <td>房天下</td>\n",
       "      <td>普通住宅</td>\n",
       "      <td>9</td>\n",
       "      <td>672</td>\n",
       "      <td>奉贤其它</td>\n",
       "      <td>外环以外</td>\n",
       "      <td>121.5454573782,30.874789949594</td>\n",
       "    </tr>\n",
       "    <tr>\n",
       "      <th>2926754</th>\n",
       "      <td>长宁</td>\n",
       "      <td>华山路1038弄</td>\n",
       "      <td>嘉里华庭</td>\n",
       "      <td>38000000.0</td>\n",
       "      <td>159771.0</td>\n",
       "      <td>237.84</td>\n",
       "      <td>4室2厅3卫</td>\n",
       "      <td>35.0</td>\n",
       "      <td>31.0</td>\n",
       "      <td>南</td>\n",
       "      <td>公寓</td>\n",
       "      <td>精装</td>\n",
       "      <td>2006-01-01</td>\n",
       "      <td>链家</td>\n",
       "      <td>公寓</td>\n",
       "      <td>6</td>\n",
       "      <td>12680</td>\n",
       "      <td>新华路</td>\n",
       "      <td>内环以内</td>\n",
       "      <td>121.44243002127,31.218649238629</td>\n",
       "    </tr>\n",
       "    <tr>\n",
       "      <th>2927247</th>\n",
       "      <td>长宁</td>\n",
       "      <td>华山路1038弄</td>\n",
       "      <td>嘉里华庭</td>\n",
       "      <td>38000000.0</td>\n",
       "      <td>159771.0</td>\n",
       "      <td>237.84</td>\n",
       "      <td>4室2厅</td>\n",
       "      <td>35.0</td>\n",
       "      <td>29.0</td>\n",
       "      <td>南</td>\n",
       "      <td>公寓</td>\n",
       "      <td>精装</td>\n",
       "      <td>2006-01-01</td>\n",
       "      <td>链家</td>\n",
       "      <td>住宅-公寓</td>\n",
       "      <td>9</td>\n",
       "      <td>12680</td>\n",
       "      <td>新华路</td>\n",
       "      <td>内环以内</td>\n",
       "      <td>121.44243002127,31.218649238629</td>\n",
       "    </tr>\n",
       "    <tr>\n",
       "      <th>2926685</th>\n",
       "      <td>长宁</td>\n",
       "      <td>华山路1038弄</td>\n",
       "      <td>嘉里华庭</td>\n",
       "      <td>38000000.0</td>\n",
       "      <td>159771.0</td>\n",
       "      <td>237.84</td>\n",
       "      <td>4室2厅3卫</td>\n",
       "      <td>35.0</td>\n",
       "      <td>24.0</td>\n",
       "      <td>南</td>\n",
       "      <td>公寓</td>\n",
       "      <td>精装</td>\n",
       "      <td>2006-01-01</td>\n",
       "      <td>链家</td>\n",
       "      <td>公寓</td>\n",
       "      <td>5</td>\n",
       "      <td>12680</td>\n",
       "      <td>新华路</td>\n",
       "      <td>内环以内</td>\n",
       "      <td>121.44243002127,31.218649238629</td>\n",
       "    </tr>\n",
       "    <tr>\n",
       "      <th>2926462</th>\n",
       "      <td>长宁</td>\n",
       "      <td>华山路1038弄166-170号</td>\n",
       "      <td>嘉里华庭</td>\n",
       "      <td>38000000.0</td>\n",
       "      <td>159771.0</td>\n",
       "      <td>237.84</td>\n",
       "      <td>4室2厅1厨3卫</td>\n",
       "      <td>35.0</td>\n",
       "      <td>11.0</td>\n",
       "      <td>南北</td>\n",
       "      <td>公寓</td>\n",
       "      <td>精装修</td>\n",
       "      <td>2005-01-01</td>\n",
       "      <td>房天下</td>\n",
       "      <td>普通住宅</td>\n",
       "      <td>4</td>\n",
       "      <td>12680</td>\n",
       "      <td>新华路</td>\n",
       "      <td>内环以内</td>\n",
       "      <td>121.44243002127,31.218649238629</td>\n",
       "    </tr>\n",
       "    <tr>\n",
       "      <th>2926315</th>\n",
       "      <td>长宁</td>\n",
       "      <td>华山路1038弄</td>\n",
       "      <td>嘉里华庭</td>\n",
       "      <td>38000000.0</td>\n",
       "      <td>159771.0</td>\n",
       "      <td>237.84</td>\n",
       "      <td>4室2厅3卫</td>\n",
       "      <td>35.0</td>\n",
       "      <td>29.0</td>\n",
       "      <td>南</td>\n",
       "      <td>公寓</td>\n",
       "      <td>精装</td>\n",
       "      <td>2006-01-01</td>\n",
       "      <td>链家</td>\n",
       "      <td>公寓</td>\n",
       "      <td>3</td>\n",
       "      <td>12680</td>\n",
       "      <td>新华路</td>\n",
       "      <td>内环以内</td>\n",
       "      <td>121.44243002127,31.218649238629</td>\n",
       "    </tr>\n",
       "  </tbody>\n",
       "</table>\n",
       "</div>"
      ],
      "text/plain": [
       "        area           address  name       price  unit_price  acreage  \\\n",
       "3452572   奉贤         奉城邮电路421弄  奉铭佳苑    680000.0     14167.0    48.00   \n",
       "3170884   嘉定          和静路1188弄  红湖小区    680000.0     14167.0    48.00   \n",
       "3355468   奉贤           南明路191号  青村小镇    680000.0     14167.0    48.00   \n",
       "3355482   奉贤            南明路99号  青村小镇    680000.0     14167.0    48.00   \n",
       "3355530   奉贤            南明路99号  青村小镇    680000.0     14167.0    48.00   \n",
       "2926754   长宁          华山路1038弄  嘉里华庭  38000000.0    159771.0   237.84   \n",
       "2927247   长宁          华山路1038弄  嘉里华庭  38000000.0    159771.0   237.84   \n",
       "2926685   长宁          华山路1038弄  嘉里华庭  38000000.0    159771.0   237.84   \n",
       "2926462   长宁  华山路1038弄166-170号  嘉里华庭  38000000.0    159771.0   237.84   \n",
       "2926315   长宁          华山路1038弄  嘉里华庭  38000000.0    159771.0   237.84   \n",
       "\n",
       "        room_type  all_floor  floor shore house_type fitment        time  \\\n",
       "3452572    2室1厅1卫       19.0   14.0    南北         公寓     精装修  2011-01-01   \n",
       "3170884  1室1厅1厨1卫        6.0    2.0     南         公寓     精装修  2000-01-01   \n",
       "3355468    2室1厅1卫        6.0    4.0     南         公寓     精装修  2000-01-01   \n",
       "3355482    2室1厅1卫        6.0    4.0     南         公寓     精装修  2000-01-01   \n",
       "3355530    2室1厅1卫        6.0    4.0     南         公寓     精装修  2000-01-01   \n",
       "2926754    4室2厅3卫       35.0   31.0     南         公寓      精装  2006-01-01   \n",
       "2927247      4室2厅       35.0   29.0     南         公寓      精装  2006-01-01   \n",
       "2926685    4室2厅3卫       35.0   24.0     南         公寓      精装  2006-01-01   \n",
       "2926462  4室2厅1厨3卫       35.0   11.0    南北         公寓     精装修  2005-01-01   \n",
       "2926315    4室2厅3卫       35.0   29.0     南         公寓      精装  2006-01-01   \n",
       "\n",
       "        Source house_trait  month  PropertyID  Plate Module  \\\n",
       "3452572    房天下        普通住宅      9       15449     奉城   外环以外   \n",
       "3170884    房天下        普通住宅      3        3965  安亭汽车城   外环以外   \n",
       "3355468    房天下        普通住宅      8         672   奉贤其它   外环以外   \n",
       "3355482    房天下        普通住宅      8         672   奉贤其它   外环以外   \n",
       "3355530    房天下        普通住宅      9         672   奉贤其它   外环以外   \n",
       "2926754     链家          公寓      6       12680    新华路   内环以内   \n",
       "2927247     链家       住宅-公寓      9       12680    新华路   内环以内   \n",
       "2926685     链家          公寓      5       12680    新华路   内环以内   \n",
       "2926462    房天下        普通住宅      4       12680    新华路   内环以内   \n",
       "2926315     链家          公寓      3       12680    新华路   内环以内   \n",
       "\n",
       "                             Coordinates  \n",
       "3452572  121.07160410165,30.937525261652  \n",
       "3170884  121.16581491967,31.307232256388  \n",
       "3355468   121.5454573782,30.874789949594  \n",
       "3355482   121.5454573782,30.874789949594  \n",
       "3355530   121.5454573782,30.874789949594  \n",
       "2926754  121.44243002127,31.218649238629  \n",
       "2927247  121.44243002127,31.218649238629  \n",
       "2926685  121.44243002127,31.218649238629  \n",
       "2926462  121.44243002127,31.218649238629  \n",
       "2926315  121.44243002127,31.218649238629  "
      ]
     },
     "execution_count": 18,
     "metadata": {},
     "output_type": "execute_result"
    }
   ],
   "source": [
    "# 最便宜小区和最贵小区分布\n",
    "i=all_df.price.sort_values()\n",
    "all_df.loc[pd.concat((i.head(),i.tail())).index]"
   ]
  },
  {
   "cell_type": "code",
   "execution_count": 19,
   "metadata": {},
   "outputs": [
    {
     "data": {
      "text/plain": [
       "1754267    89998.30\n",
       "419321     81497.00\n",
       "1036322    80280.00\n",
       "1602669    78459.70\n",
       "819614     75397.76\n",
       "2590325    68875.00\n",
       "242697     68750.00\n",
       "1735994    62612.00\n",
       "2443064    61506.25\n",
       "1408511    60916.00\n",
       "dtype: float64"
      ]
     },
     "execution_count": 19,
     "metadata": {},
     "output_type": "execute_result"
    }
   ],
   "source": [
    "# 修复后，差价都在合理范围内?\n",
    "np.abs(all_df.unit_price*all_df.acreage-all_df.price).sort_values(ascending=False)[:10]"
   ]
  },
  {
   "cell_type": "markdown",
   "metadata": {},
   "source": [
    "* 地区因素"
   ]
  },
  {
   "cell_type": "code",
   "execution_count": 20,
   "metadata": {},
   "outputs": [
    {
     "data": {
      "text/html": [
       "<div>\n",
       "<table border=\"1\" class=\"dataframe\">\n",
       "  <thead>\n",
       "    <tr style=\"text-align: right;\">\n",
       "      <th></th>\n",
       "      <th>unit_price</th>\n",
       "    </tr>\n",
       "    <tr>\n",
       "      <th>area</th>\n",
       "      <th></th>\n",
       "    </tr>\n",
       "  </thead>\n",
       "  <tbody>\n",
       "    <tr>\n",
       "      <th>金山</th>\n",
       "      <td>19944.453228</td>\n",
       "    </tr>\n",
       "    <tr>\n",
       "      <th>崇明</th>\n",
       "      <td>24161.149679</td>\n",
       "    </tr>\n",
       "    <tr>\n",
       "      <th>奉贤</th>\n",
       "      <td>26959.897533</td>\n",
       "    </tr>\n",
       "    <tr>\n",
       "      <th>青浦</th>\n",
       "      <td>32490.803562</td>\n",
       "    </tr>\n",
       "    <tr>\n",
       "      <th>嘉定</th>\n",
       "      <td>36166.079650</td>\n",
       "    </tr>\n",
       "    <tr>\n",
       "      <th>松江</th>\n",
       "      <td>36180.222787</td>\n",
       "    </tr>\n",
       "    <tr>\n",
       "      <th>宝山</th>\n",
       "      <td>45447.846827</td>\n",
       "    </tr>\n",
       "    <tr>\n",
       "      <th>闵行</th>\n",
       "      <td>47096.147112</td>\n",
       "    </tr>\n",
       "    <tr>\n",
       "      <th>浦东</th>\n",
       "      <td>55634.089680</td>\n",
       "    </tr>\n",
       "    <tr>\n",
       "      <th>虹口</th>\n",
       "      <td>58546.789955</td>\n",
       "    </tr>\n",
       "    <tr>\n",
       "      <th>普陀</th>\n",
       "      <td>59207.840911</td>\n",
       "    </tr>\n",
       "    <tr>\n",
       "      <th>杨浦</th>\n",
       "      <td>63881.771017</td>\n",
       "    </tr>\n",
       "    <tr>\n",
       "      <th>徐汇</th>\n",
       "      <td>67817.104738</td>\n",
       "    </tr>\n",
       "    <tr>\n",
       "      <th>长宁</th>\n",
       "      <td>68040.064189</td>\n",
       "    </tr>\n",
       "    <tr>\n",
       "      <th>静安</th>\n",
       "      <td>71642.979172</td>\n",
       "    </tr>\n",
       "    <tr>\n",
       "      <th>黄浦</th>\n",
       "      <td>82569.894967</td>\n",
       "    </tr>\n",
       "  </tbody>\n",
       "</table>\n",
       "</div>"
      ],
      "text/plain": [
       "        unit_price\n",
       "area              \n",
       "金山    19944.453228\n",
       "崇明    24161.149679\n",
       "奉贤    26959.897533\n",
       "青浦    32490.803562\n",
       "嘉定    36166.079650\n",
       "松江    36180.222787\n",
       "宝山    45447.846827\n",
       "闵行    47096.147112\n",
       "浦东    55634.089680\n",
       "虹口    58546.789955\n",
       "普陀    59207.840911\n",
       "杨浦    63881.771017\n",
       "徐汇    67817.104738\n",
       "长宁    68040.064189\n",
       "静安    71642.979172\n",
       "黄浦    82569.894967"
      ]
     },
     "execution_count": 20,
     "metadata": {},
     "output_type": "execute_result"
    }
   ],
   "source": [
    "# 各地区的均价\n",
    "all_df[['unit_price','area']].groupby('area').mean().sort_values('unit_price')"
   ]
  },
  {
   "cell_type": "code",
   "execution_count": 21,
   "metadata": {},
   "outputs": [
    {
     "name": "stdout",
     "output_type": "stream",
     "text": [
      "          unit_price\n",
      "Module              \n",
      "外环以外    36630.411421\n",
      "中外环间    53456.406572\n",
      "内中环间    61522.008448\n",
      "内环以内    74633.204999\n"
     ]
    },
    {
     "data": {
      "text/plain": [
       "<matplotlib.axes._subplots.AxesSubplot at 0x1232aa5c0>"
      ]
     },
     "execution_count": 21,
     "metadata": {},
     "output_type": "execute_result"
    },
    {
     "data": {
      "image/png": "[encoded data removed]",
      "text/plain": [
       "<matplotlib.figure.Figure at 0x1239ec550>"
      ]
     },
     "metadata": {
      "image/png": {
       "height": 262,
       "width": 509
      }
     },
     "output_type": "display_data"
    }
   ],
   "source": [
    "# 环线\n",
    "all_df.loc[all_df[all_df.Module=='所有'].index,'Module']='内环以内'\n",
    "sorted_module=all_df[['unit_price','Module']].groupby('Module').mean().sort_values('unit_price')\n",
    "print(sorted_module)\n",
    "sns.barplot(x=sorted_module.index,y='unit_price',data=sorted_module)"
   ]
  },
  {
   "cell_type": "code",
   "execution_count": 22,
   "metadata": {},
   "outputs": [
    {
     "data": {
      "text/plain": [
       "{'中外环间': 1, '内中环间': 2, '内环以内': 3, '外环以外': 0}"
      ]
     },
     "execution_count": 22,
     "metadata": {},
     "output_type": "execute_result"
    }
   ],
   "source": [
    "# id映射\n",
    "i=pd.Series(range(0,sorted_module.shape[0]),index=sorted_module.index)\n",
    "i.to_dict()"
   ]
  },
  {
   "cell_type": "code",
   "execution_count": 23,
   "metadata": {
    "collapsed": true
   },
   "outputs": [],
   "source": [
    "all_df.Module=all_df.Module.map(i.to_dict())"
   ]
  },
  {
   "cell_type": "code",
   "execution_count": 24,
   "metadata": {
    "scrolled": true
   },
   "outputs": [
    {
     "data": {
      "text/html": [
       "<div>\n",
       "<table border=\"1\" class=\"dataframe\">\n",
       "  <thead>\n",
       "    <tr style=\"text-align: right;\">\n",
       "      <th></th>\n",
       "      <th>area</th>\n",
       "      <th>Plate</th>\n",
       "      <th>mean_price</th>\n",
       "    </tr>\n",
       "  </thead>\n",
       "  <tbody>\n",
       "    <tr>\n",
       "      <th>118</th>\n",
       "      <td>静安</td>\n",
       "      <td>南京西路</td>\n",
       "      <td>101690.139235</td>\n",
       "    </tr>\n",
       "    <tr>\n",
       "      <th>122</th>\n",
       "      <td>静安</td>\n",
       "      <td>江宁路</td>\n",
       "      <td>93659.761332</td>\n",
       "    </tr>\n",
       "    <tr>\n",
       "      <th>127</th>\n",
       "      <td>黄浦</td>\n",
       "      <td>黄浦滨江</td>\n",
       "      <td>92746.878046</td>\n",
       "    </tr>\n",
       "    <tr>\n",
       "      <th>75</th>\n",
       "      <td>浦东</td>\n",
       "      <td>联洋</td>\n",
       "      <td>92064.211643</td>\n",
       "    </tr>\n",
       "    <tr>\n",
       "      <th>125</th>\n",
       "      <td>黄浦</td>\n",
       "      <td>淮海中路</td>\n",
       "      <td>90570.883054</td>\n",
       "    </tr>\n",
       "    <tr>\n",
       "      <th>123</th>\n",
       "      <td>黄浦</td>\n",
       "      <td>人民广场</td>\n",
       "      <td>88484.018745</td>\n",
       "    </tr>\n",
       "    <tr>\n",
       "      <th>31</th>\n",
       "      <td>徐汇</td>\n",
       "      <td>徐汇滨江</td>\n",
       "      <td>84439.270609</td>\n",
       "    </tr>\n",
       "    <tr>\n",
       "      <th>80</th>\n",
       "      <td>浦东</td>\n",
       "      <td>陆家嘴</td>\n",
       "      <td>84054.709781</td>\n",
       "    </tr>\n",
       "    <tr>\n",
       "      <th>94</th>\n",
       "      <td>长宁</td>\n",
       "      <td>古北</td>\n",
       "      <td>80570.764804</td>\n",
       "    </tr>\n",
       "    <tr>\n",
       "      <th>124</th>\n",
       "      <td>黄浦</td>\n",
       "      <td>打浦桥</td>\n",
       "      <td>80185.976647</td>\n",
       "    </tr>\n",
       "    <tr>\n",
       "      <th>126</th>\n",
       "      <td>黄浦</td>\n",
       "      <td>老西门</td>\n",
       "      <td>79020.572353</td>\n",
       "    </tr>\n",
       "    <tr>\n",
       "      <th>30</th>\n",
       "      <td>徐汇</td>\n",
       "      <td>徐汇中心</td>\n",
       "      <td>77903.311180</td>\n",
       "    </tr>\n",
       "    <tr>\n",
       "      <th>121</th>\n",
       "      <td>静安</td>\n",
       "      <td>曹家渡</td>\n",
       "      <td>76606.272657</td>\n",
       "    </tr>\n",
       "    <tr>\n",
       "      <th>70</th>\n",
       "      <td>浦东</td>\n",
       "      <td>洋泾</td>\n",
       "      <td>76105.895637</td>\n",
       "    </tr>\n",
       "    <tr>\n",
       "      <th>95</th>\n",
       "      <td>长宁</td>\n",
       "      <td>新华路</td>\n",
       "      <td>75670.060323</td>\n",
       "    </tr>\n",
       "    <tr>\n",
       "      <th>93</th>\n",
       "      <td>长宁</td>\n",
       "      <td>中山公园</td>\n",
       "      <td>74790.640833</td>\n",
       "    </tr>\n",
       "    <tr>\n",
       "      <th>58</th>\n",
       "      <td>浦东</td>\n",
       "      <td>东城</td>\n",
       "      <td>72293.304613</td>\n",
       "    </tr>\n",
       "    <tr>\n",
       "      <th>77</th>\n",
       "      <td>浦东</td>\n",
       "      <td>花木</td>\n",
       "      <td>72116.348070</td>\n",
       "    </tr>\n",
       "    <tr>\n",
       "      <th>73</th>\n",
       "      <td>浦东</td>\n",
       "      <td>碧云</td>\n",
       "      <td>71622.923109</td>\n",
       "    </tr>\n",
       "    <tr>\n",
       "      <th>44</th>\n",
       "      <td>杨浦</td>\n",
       "      <td>东外滩</td>\n",
       "      <td>68952.392049</td>\n",
       "    </tr>\n",
       "    <tr>\n",
       "      <th>47</th>\n",
       "      <td>杨浦</td>\n",
       "      <td>新江湾城</td>\n",
       "      <td>67491.255487</td>\n",
       "    </tr>\n",
       "    <tr>\n",
       "      <th>39</th>\n",
       "      <td>普陀</td>\n",
       "      <td>武宁</td>\n",
       "      <td>66682.440927</td>\n",
       "    </tr>\n",
       "    <tr>\n",
       "      <th>96</th>\n",
       "      <td>长宁</td>\n",
       "      <td>虹桥</td>\n",
       "      <td>66349.750850</td>\n",
       "    </tr>\n",
       "    <tr>\n",
       "      <th>117</th>\n",
       "      <td>静安</td>\n",
       "      <td>不夜城</td>\n",
       "      <td>65270.416370</td>\n",
       "    </tr>\n",
       "    <tr>\n",
       "      <th>34</th>\n",
       "      <td>徐汇</td>\n",
       "      <td>龙华</td>\n",
       "      <td>65269.763169</td>\n",
       "    </tr>\n",
       "    <tr>\n",
       "      <th>119</th>\n",
       "      <td>静安</td>\n",
       "      <td>大宁</td>\n",
       "      <td>64955.276111</td>\n",
       "    </tr>\n",
       "    <tr>\n",
       "      <th>83</th>\n",
       "      <td>虹口</td>\n",
       "      <td>北外滩</td>\n",
       "      <td>64606.466612</td>\n",
       "    </tr>\n",
       "    <tr>\n",
       "      <th>48</th>\n",
       "      <td>杨浦</td>\n",
       "      <td>鞍山</td>\n",
       "      <td>64406.423318</td>\n",
       "    </tr>\n",
       "    <tr>\n",
       "      <th>32</th>\n",
       "      <td>徐汇</td>\n",
       "      <td>田林</td>\n",
       "      <td>63863.976025</td>\n",
       "    </tr>\n",
       "    <tr>\n",
       "      <th>46</th>\n",
       "      <td>杨浦</td>\n",
       "      <td>五角场</td>\n",
       "      <td>63713.987802</td>\n",
       "    </tr>\n",
       "    <tr>\n",
       "      <th>...</th>\n",
       "      <td>...</td>\n",
       "      <td>...</td>\n",
       "      <td>...</td>\n",
       "    </tr>\n",
       "    <tr>\n",
       "      <th>51</th>\n",
       "      <td>松江</td>\n",
       "      <td>佘山</td>\n",
       "      <td>30201.435323</td>\n",
       "    </tr>\n",
       "    <tr>\n",
       "      <th>6</th>\n",
       "      <td>奉贤</td>\n",
       "      <td>南桥新城</td>\n",
       "      <td>29643.774154</td>\n",
       "    </tr>\n",
       "    <tr>\n",
       "      <th>3</th>\n",
       "      <td>嘉定</td>\n",
       "      <td>安亭汽车城</td>\n",
       "      <td>28553.829627</td>\n",
       "    </tr>\n",
       "    <tr>\n",
       "      <th>114</th>\n",
       "      <td>青浦</td>\n",
       "      <td>重固</td>\n",
       "      <td>28069.555798</td>\n",
       "    </tr>\n",
       "    <tr>\n",
       "      <th>26</th>\n",
       "      <td>崇明</td>\n",
       "      <td>长兴岛</td>\n",
       "      <td>27775.212099</td>\n",
       "    </tr>\n",
       "    <tr>\n",
       "      <th>8</th>\n",
       "      <td>奉贤</td>\n",
       "      <td>奉贤其它</td>\n",
       "      <td>26092.704258</td>\n",
       "    </tr>\n",
       "    <tr>\n",
       "      <th>59</th>\n",
       "      <td>浦东</td>\n",
       "      <td>临港新城</td>\n",
       "      <td>25478.964740</td>\n",
       "    </tr>\n",
       "    <tr>\n",
       "      <th>23</th>\n",
       "      <td>崇明</td>\n",
       "      <td>堡镇</td>\n",
       "      <td>25110.133333</td>\n",
       "    </tr>\n",
       "    <tr>\n",
       "      <th>21</th>\n",
       "      <td>宝山</td>\n",
       "      <td>罗泾</td>\n",
       "      <td>24394.711042</td>\n",
       "    </tr>\n",
       "    <tr>\n",
       "      <th>111</th>\n",
       "      <td>青浦</td>\n",
       "      <td>朱家角</td>\n",
       "      <td>24061.171609</td>\n",
       "    </tr>\n",
       "    <tr>\n",
       "      <th>12</th>\n",
       "      <td>奉贤</td>\n",
       "      <td>金汇</td>\n",
       "      <td>23714.506539</td>\n",
       "    </tr>\n",
       "    <tr>\n",
       "      <th>25</th>\n",
       "      <td>崇明</td>\n",
       "      <td>崇明新城</td>\n",
       "      <td>22689.935726</td>\n",
       "    </tr>\n",
       "    <tr>\n",
       "      <th>27</th>\n",
       "      <td>崇明</td>\n",
       "      <td>陈家镇</td>\n",
       "      <td>21801.500000</td>\n",
       "    </tr>\n",
       "    <tr>\n",
       "      <th>112</th>\n",
       "      <td>青浦</td>\n",
       "      <td>白鹤</td>\n",
       "      <td>20977.140713</td>\n",
       "    </tr>\n",
       "    <tr>\n",
       "      <th>2</th>\n",
       "      <td>嘉定</td>\n",
       "      <td>嘉定北部</td>\n",
       "      <td>20922.883753</td>\n",
       "    </tr>\n",
       "    <tr>\n",
       "      <th>115</th>\n",
       "      <td>青浦</td>\n",
       "      <td>青浦其它</td>\n",
       "      <td>20906.302319</td>\n",
       "    </tr>\n",
       "    <tr>\n",
       "      <th>92</th>\n",
       "      <td>金山</td>\n",
       "      <td>金山新城</td>\n",
       "      <td>20723.709652</td>\n",
       "    </tr>\n",
       "    <tr>\n",
       "      <th>10</th>\n",
       "      <td>奉贤</td>\n",
       "      <td>柘林</td>\n",
       "      <td>20463.018719</td>\n",
       "    </tr>\n",
       "    <tr>\n",
       "      <th>72</th>\n",
       "      <td>浦东</td>\n",
       "      <td>浦东其它</td>\n",
       "      <td>20296.540892</td>\n",
       "    </tr>\n",
       "    <tr>\n",
       "      <th>87</th>\n",
       "      <td>金山</td>\n",
       "      <td>朱泾</td>\n",
       "      <td>20186.242124</td>\n",
       "    </tr>\n",
       "    <tr>\n",
       "      <th>90</th>\n",
       "      <td>金山</td>\n",
       "      <td>石化</td>\n",
       "      <td>19624.338491</td>\n",
       "    </tr>\n",
       "    <tr>\n",
       "      <th>11</th>\n",
       "      <td>奉贤</td>\n",
       "      <td>海湾</td>\n",
       "      <td>19480.780401</td>\n",
       "    </tr>\n",
       "    <tr>\n",
       "      <th>88</th>\n",
       "      <td>金山</td>\n",
       "      <td>枫泾</td>\n",
       "      <td>19057.813869</td>\n",
       "    </tr>\n",
       "    <tr>\n",
       "      <th>9</th>\n",
       "      <td>奉贤</td>\n",
       "      <td>庄行</td>\n",
       "      <td>18411.669770</td>\n",
       "    </tr>\n",
       "    <tr>\n",
       "      <th>24</th>\n",
       "      <td>崇明</td>\n",
       "      <td>崇明其它</td>\n",
       "      <td>18351.213362</td>\n",
       "    </tr>\n",
       "    <tr>\n",
       "      <th>86</th>\n",
       "      <td>金山</td>\n",
       "      <td>亭林</td>\n",
       "      <td>18274.511628</td>\n",
       "    </tr>\n",
       "    <tr>\n",
       "      <th>7</th>\n",
       "      <td>奉贤</td>\n",
       "      <td>奉城</td>\n",
       "      <td>18177.567990</td>\n",
       "    </tr>\n",
       "    <tr>\n",
       "      <th>54</th>\n",
       "      <td>松江</td>\n",
       "      <td>松江南部</td>\n",
       "      <td>18087.056911</td>\n",
       "    </tr>\n",
       "    <tr>\n",
       "      <th>91</th>\n",
       "      <td>金山</td>\n",
       "      <td>金山中部</td>\n",
       "      <td>17998.397546</td>\n",
       "    </tr>\n",
       "    <tr>\n",
       "      <th>89</th>\n",
       "      <td>金山</td>\n",
       "      <td>漕泾</td>\n",
       "      <td>14706.700000</td>\n",
       "    </tr>\n",
       "  </tbody>\n",
       "</table>\n",
       "<p>128 rows × 3 columns</p>\n",
       "</div>"
      ],
      "text/plain": [
       "    area  Plate     mean_price\n",
       "118   静安   南京西路  101690.139235\n",
       "122   静安    江宁路   93659.761332\n",
       "127   黄浦   黄浦滨江   92746.878046\n",
       "75    浦东     联洋   92064.211643\n",
       "125   黄浦   淮海中路   90570.883054\n",
       "123   黄浦   人民广场   88484.018745\n",
       "31    徐汇   徐汇滨江   84439.270609\n",
       "80    浦东    陆家嘴   84054.709781\n",
       "94    长宁     古北   80570.764804\n",
       "124   黄浦    打浦桥   80185.976647\n",
       "126   黄浦    老西门   79020.572353\n",
       "30    徐汇   徐汇中心   77903.311180\n",
       "121   静安    曹家渡   76606.272657\n",
       "70    浦东     洋泾   76105.895637\n",
       "95    长宁    新华路   75670.060323\n",
       "93    长宁   中山公园   74790.640833\n",
       "58    浦东     东城   72293.304613\n",
       "77    浦东     花木   72116.348070\n",
       "73    浦东     碧云   71622.923109\n",
       "44    杨浦    东外滩   68952.392049\n",
       "47    杨浦   新江湾城   67491.255487\n",
       "39    普陀     武宁   66682.440927\n",
       "96    长宁     虹桥   66349.750850\n",
       "117   静安    不夜城   65270.416370\n",
       "34    徐汇     龙华   65269.763169\n",
       "119   静安     大宁   64955.276111\n",
       "83    虹口    北外滩   64606.466612\n",
       "48    杨浦     鞍山   64406.423318\n",
       "32    徐汇     田林   63863.976025\n",
       "46    杨浦    五角场   63713.987802\n",
       "..   ...    ...            ...\n",
       "51    松江     佘山   30201.435323\n",
       "6     奉贤   南桥新城   29643.774154\n",
       "3     嘉定  安亭汽车城   28553.829627\n",
       "114   青浦     重固   28069.555798\n",
       "26    崇明    长兴岛   27775.212099\n",
       "8     奉贤   奉贤其它   26092.704258\n",
       "59    浦东   临港新城   25478.964740\n",
       "23    崇明     堡镇   25110.133333\n",
       "21    宝山     罗泾   24394.711042\n",
       "111   青浦    朱家角   24061.171609\n",
       "12    奉贤     金汇   23714.506539\n",
       "25    崇明   崇明新城   22689.935726\n",
       "27    崇明    陈家镇   21801.500000\n",
       "112   青浦     白鹤   20977.140713\n",
       "2     嘉定   嘉定北部   20922.883753\n",
       "115   青浦   青浦其它   20906.302319\n",
       "92    金山   金山新城   20723.709652\n",
       "10    奉贤     柘林   20463.018719\n",
       "72    浦东   浦东其它   20296.540892\n",
       "87    金山     朱泾   20186.242124\n",
       "90    金山     石化   19624.338491\n",
       "11    奉贤     海湾   19480.780401\n",
       "88    金山     枫泾   19057.813869\n",
       "9     奉贤     庄行   18411.669770\n",
       "24    崇明   崇明其它   18351.213362\n",
       "86    金山     亭林   18274.511628\n",
       "7     奉贤     奉城   18177.567990\n",
       "54    松江   松江南部   18087.056911\n",
       "91    金山   金山中部   17998.397546\n",
       "89    金山     漕泾   14706.700000\n",
       "\n",
       "[128 rows x 3 columns]"
      ]
     },
     "execution_count": 24,
     "metadata": {},
     "output_type": "execute_result"
    }
   ],
   "source": [
    "# 板块均价排序\n",
    "all_df.groupby(['area','Plate'],as_index=False)['unit_price'].agg({'mean_price':'mean'}).sort_values('mean_price',ascending=False)"
   ]
  },
  {
   "cell_type": "markdown",
   "metadata": {},
   "source": [
    "* 楼层因素"
   ]
  },
  {
   "cell_type": "code",
   "execution_count": 25,
   "metadata": {
    "scrolled": true
   },
   "outputs": [
    {
     "data": {
      "text/html": [
       "<div>\n",
       "<table border=\"1\" class=\"dataframe\">\n",
       "  <thead>\n",
       "    <tr style=\"text-align: right;\">\n",
       "      <th></th>\n",
       "      <th>all_floor</th>\n",
       "      <th>floor</th>\n",
       "    </tr>\n",
       "  </thead>\n",
       "  <tbody>\n",
       "    <tr>\n",
       "      <th>count</th>\n",
       "      <td>2.827734e+06</td>\n",
       "      <td>2.827734e+06</td>\n",
       "    </tr>\n",
       "    <tr>\n",
       "      <th>mean</th>\n",
       "      <td>1.165609e+01</td>\n",
       "      <td>5.542646e+00</td>\n",
       "    </tr>\n",
       "    <tr>\n",
       "      <th>std</th>\n",
       "      <td>8.323804e+00</td>\n",
       "      <td>5.425400e+00</td>\n",
       "    </tr>\n",
       "    <tr>\n",
       "      <th>min</th>\n",
       "      <td>1.000000e+00</td>\n",
       "      <td>-5.000000e+00</td>\n",
       "    </tr>\n",
       "    <tr>\n",
       "      <th>25%</th>\n",
       "      <td>6.000000e+00</td>\n",
       "      <td>2.000000e+00</td>\n",
       "    </tr>\n",
       "    <tr>\n",
       "      <th>50%</th>\n",
       "      <td>6.000000e+00</td>\n",
       "      <td>4.000000e+00</td>\n",
       "    </tr>\n",
       "    <tr>\n",
       "      <th>75%</th>\n",
       "      <td>1.600000e+01</td>\n",
       "      <td>7.000000e+00</td>\n",
       "    </tr>\n",
       "    <tr>\n",
       "      <th>max</th>\n",
       "      <td>9.000000e+01</td>\n",
       "      <td>6.200000e+01</td>\n",
       "    </tr>\n",
       "  </tbody>\n",
       "</table>\n",
       "</div>"
      ],
      "text/plain": [
       "          all_floor         floor\n",
       "count  2.827734e+06  2.827734e+06\n",
       "mean   1.165609e+01  5.542646e+00\n",
       "std    8.323804e+00  5.425400e+00\n",
       "min    1.000000e+00 -5.000000e+00\n",
       "25%    6.000000e+00  2.000000e+00\n",
       "50%    6.000000e+00  4.000000e+00\n",
       "75%    1.600000e+01  7.000000e+00\n",
       "max    9.000000e+01  6.200000e+01"
      ]
     },
     "execution_count": 25,
     "metadata": {},
     "output_type": "execute_result"
    }
   ],
   "source": [
    "all_df[['all_floor','floor']].describe()"
   ]
  },
  {
   "cell_type": "code",
   "execution_count": 26,
   "metadata": {},
   "outputs": [],
   "source": [
    "all_df.loc[all_df.floor<0,'floor']=np.nan"
   ]
  },
  {
   "cell_type": "code",
   "execution_count": 28,
   "metadata": {
    "scrolled": true
   },
   "outputs": [
    {
     "data": {
      "text/html": [
       "<div>\n",
       "<table border=\"1\" class=\"dataframe\">\n",
       "  <thead>\n",
       "    <tr style=\"text-align: right;\">\n",
       "      <th></th>\n",
       "      <th>floor_section</th>\n",
       "      <th>count</th>\n",
       "    </tr>\n",
       "  </thead>\n",
       "  <tbody>\n",
       "    <tr>\n",
       "      <th>0</th>\n",
       "      <td>低层</td>\n",
       "      <td>1351903</td>\n",
       "    </tr>\n",
       "    <tr>\n",
       "      <th>1</th>\n",
       "      <td>多层</td>\n",
       "      <td>753097</td>\n",
       "    </tr>\n",
       "    <tr>\n",
       "      <th>2</th>\n",
       "      <td>小高层</td>\n",
       "      <td>259292</td>\n",
       "    </tr>\n",
       "    <tr>\n",
       "      <th>3</th>\n",
       "      <td>高层</td>\n",
       "      <td>460219</td>\n",
       "    </tr>\n",
       "  </tbody>\n",
       "</table>\n",
       "</div>"
      ],
      "text/plain": [
       "  floor_section    count\n",
       "0            低层  1351903\n",
       "1            多层   753097\n",
       "2           小高层   259292\n",
       "3            高层   460219"
      ]
     },
     "execution_count": 28,
     "metadata": {},
     "output_type": "execute_result"
    }
   ],
   "source": [
    "# 分段映射\n",
    "all_df['floor_section']=floor_map(all_df.floor)\n",
    "\n",
    "# 统计\n",
    "all_df.groupby('floor_section',as_index=False)['floor_section'].agg({'count':'count'})"
   ]
  },
  {
   "cell_type": "markdown",
   "metadata": {},
   "source": [
    "* 朝向因素"
   ]
  },
  {
   "cell_type": "code",
   "execution_count": 29,
   "metadata": {},
   "outputs": [
    {
     "data": {
      "text/plain": [
       "array(['南北', '南', '东南', '', '西', '北', '东', '东西', '西北', '西南', '暂无', '东北',\n",
       "       '暂无数据', '      '], dtype=object)"
      ]
     },
     "execution_count": 29,
     "metadata": {},
     "output_type": "execute_result"
    }
   ],
   "source": [
    "all_df.shore.unique()"
   ]
  },
  {
   "cell_type": "code",
   "execution_count": 30,
   "metadata": {
    "scrolled": true
   },
   "outputs": [
    {
     "data": {
      "text/plain": [
       "array(['南北', '南', '东南', '暂无', '西', '北', '东', '东西', '西北', '西南', '东北'], dtype=object)"
      ]
     },
     "execution_count": 30,
     "metadata": {},
     "output_type": "execute_result"
    }
   ],
   "source": [
    "# 暂无为缺省字段\n",
    "all_df.shore.replace({'暂无数据':'暂无','      ':'暂无','':'暂无'},inplace=True)\n",
    "all_df.shore.unique()"
   ]
  },
  {
   "cell_type": "code",
   "execution_count": 31,
   "metadata": {},
   "outputs": [
    {
     "name": "stdout",
     "output_type": "stream",
     "text": [
      "         unit_price\n",
      "shore              \n",
      "暂无     48782.679633\n",
      "北      50138.356956\n",
      "南北     52538.638495\n",
      "南      55006.973440\n",
      "东      60253.361448\n",
      "东北     60258.427901\n",
      "西北     65856.878815\n",
      "东南     67386.994897\n",
      "东西     69483.038531\n",
      "西南     69977.788498\n",
      "西      70376.650338\n"
     ]
    },
    {
     "data": {
      "text/plain": [
       "<matplotlib.axes._subplots.AxesSubplot at 0x12293bb00>"
      ]
     },
     "execution_count": 31,
     "metadata": {},
     "output_type": "execute_result"
    },
    {
     "data": {
      "image/png": "[encoded data removed]",
      "text/plain": [
       "<matplotlib.figure.Figure at 0x12296a6d8>"
      ]
     },
     "metadata": {
      "image/png": {
       "height": 262,
       "width": 509
      }
     },
     "output_type": "display_data"
    }
   ],
   "source": [
    "sorted_shore=all_df[['unit_price','shore']].groupby('shore').mean().sort_values('unit_price')\n",
    "print(sorted_shore)\n",
    "sns.barplot(x=sorted_shore.index,y='unit_price',data=sorted_shore)"
   ]
  },
  {
   "cell_type": "code",
   "execution_count": 32,
   "metadata": {
    "scrolled": true
   },
   "outputs": [
    {
     "data": {
      "text/plain": [
       "{'东': 4,\n",
       " '东北': 5,\n",
       " '东南': 7,\n",
       " '东西': 8,\n",
       " '北': 1,\n",
       " '南': 3,\n",
       " '南北': 2,\n",
       " '暂无': 0,\n",
       " '西': 10,\n",
       " '西北': 6,\n",
       " '西南': 9}"
      ]
     },
     "execution_count": 32,
     "metadata": {},
     "output_type": "execute_result"
    }
   ],
   "source": [
    "i=pd.Series(range(0,sorted_shore.shape[0]),index=sorted_shore.index)\n",
    "i.to_dict()"
   ]
  },
  {
   "cell_type": "code",
   "execution_count": 33,
   "metadata": {
    "collapsed": true
   },
   "outputs": [],
   "source": [
    "all_df.shore=all_df.shore.map(i.to_dict())"
   ]
  },
  {
   "cell_type": "markdown",
   "metadata": {},
   "source": [
    "* 房屋类型"
   ]
  },
  {
   "cell_type": "code",
   "execution_count": 34,
   "metadata": {},
   "outputs": [
    {
     "data": {
      "text/plain": [
       "array(['公寓', '商铺', '别墅洋房', '办公楼', '其它', '里弄房'], dtype=object)"
      ]
     },
     "execution_count": 34,
     "metadata": {},
     "output_type": "execute_result"
    }
   ],
   "source": [
    "all_df.house_type.unique()"
   ]
  },
  {
   "cell_type": "code",
   "execution_count": 35,
   "metadata": {},
   "outputs": [
    {
     "data": {
      "text/plain": [
       "公寓      2768417\n",
       "别墅洋房      40838\n",
       "商铺        17484\n",
       "办公楼         652\n",
       "其它          299\n",
       "里弄房          44\n",
       "Name: house_type, dtype: int64"
      ]
     },
     "execution_count": 35,
     "metadata": {},
     "output_type": "execute_result"
    }
   ],
   "source": [
    "# 统计计数\n",
    "all_df.house_type.value_counts()"
   ]
  },
  {
   "cell_type": "code",
   "execution_count": 36,
   "metadata": {},
   "outputs": [
    {
     "data": {
      "text/plain": [
       "array(['公寓', '商铺', '别墅洋房', '办公楼', '里弄房'], dtype=object)"
      ]
     },
     "execution_count": 36,
     "metadata": {},
     "output_type": "execute_result"
    }
   ],
   "source": [
    "all_df.loc[all_df[(all_df.house_type=='其它') | (all_df.house_type=='工厂')].index,'house_type']='公寓'\n",
    "all_df.house_type.unique()"
   ]
  },
  {
   "cell_type": "code",
   "execution_count": 37,
   "metadata": {},
   "outputs": [
    {
     "data": {
      "text/html": [
       "<div>\n",
       "<table border=\"1\" class=\"dataframe\">\n",
       "  <thead>\n",
       "    <tr style=\"text-align: right;\">\n",
       "      <th></th>\n",
       "      <th>unit_price</th>\n",
       "    </tr>\n",
       "    <tr>\n",
       "      <th>house_type</th>\n",
       "      <th></th>\n",
       "    </tr>\n",
       "  </thead>\n",
       "  <tbody>\n",
       "    <tr>\n",
       "      <th>办公楼</th>\n",
       "      <td>37708.558282</td>\n",
       "    </tr>\n",
       "    <tr>\n",
       "      <th>别墅洋房</th>\n",
       "      <td>42080.108551</td>\n",
       "    </tr>\n",
       "    <tr>\n",
       "      <th>公寓</th>\n",
       "      <td>53812.589408</td>\n",
       "    </tr>\n",
       "    <tr>\n",
       "      <th>商铺</th>\n",
       "      <td>56390.958762</td>\n",
       "    </tr>\n",
       "    <tr>\n",
       "      <th>里弄房</th>\n",
       "      <td>60121.522727</td>\n",
       "    </tr>\n",
       "  </tbody>\n",
       "</table>\n",
       "</div>"
      ],
      "text/plain": [
       "              unit_price\n",
       "house_type              \n",
       "办公楼         37708.558282\n",
       "别墅洋房        42080.108551\n",
       "公寓          53812.589408\n",
       "商铺          56390.958762\n",
       "里弄房         60121.522727"
      ]
     },
     "execution_count": 37,
     "metadata": {},
     "output_type": "execute_result"
    }
   ],
   "source": [
    "sorted_house_type=all_df[['house_type','unit_price']].groupby('house_type').mean().sort_values('unit_price')\n",
    "sorted_house_type"
   ]
  },
  {
   "cell_type": "code",
   "execution_count": 38,
   "metadata": {},
   "outputs": [
    {
     "data": {
      "text/plain": [
       "<matplotlib.axes._subplots.AxesSubplot at 0x1260be710>"
      ]
     },
     "execution_count": 38,
     "metadata": {},
     "output_type": "execute_result"
    },
    {
     "data": {
      "image/png": "[encoded data removed]",
      "text/plain": [
       "<matplotlib.figure.Figure at 0x1260eacf8>"
      ]
     },
     "metadata": {
      "image/png": {
       "height": 262,
       "width": 509
      }
     },
     "output_type": "display_data"
    }
   ],
   "source": [
    "sns.barplot(x=sorted_house_type.index,y='unit_price',data=sorted_house_type)"
   ]
  },
  {
   "cell_type": "code",
   "execution_count": 39,
   "metadata": {},
   "outputs": [
    {
     "data": {
      "text/plain": [
       "{'公寓': 2, '别墅洋房': 1, '办公楼': 0, '商铺': 3, '里弄房': 4}"
      ]
     },
     "execution_count": 39,
     "metadata": {},
     "output_type": "execute_result"
    }
   ],
   "source": [
    "i=pd.Series(range(0,sorted_house_type.shape[0]),index=sorted_house_type.index)\n",
    "i.to_dict()"
   ]
  },
  {
   "cell_type": "code",
   "execution_count": 40,
   "metadata": {
    "collapsed": true
   },
   "outputs": [],
   "source": [
    "all_df.house_type=all_df.house_type.map(i.to_dict())"
   ]
  },
  {
   "cell_type": "markdown",
   "metadata": {},
   "source": [
    "* 装修情况"
   ]
  },
  {
   "cell_type": "code",
   "execution_count": 41,
   "metadata": {},
   "outputs": [
    {
     "data": {
      "text/plain": [
       "array(['中装修', '简装修', '精装修', '毛坯', '简装', '中装', '豪华装修', '精装', '豪装', '',\n",
       "       '暂无数据', '暂无'], dtype=object)"
      ]
     },
     "execution_count": 41,
     "metadata": {},
     "output_type": "execute_result"
    }
   ],
   "source": [
    "all_df.fitment.unique()"
   ]
  },
  {
   "cell_type": "code",
   "execution_count": 42,
   "metadata": {},
   "outputs": [
    {
     "data": {
      "text/plain": [
       "array(['中装', '简装', '精装', '毛坯', '豪华装', '豪装', '暂无'], dtype=object)"
      ]
     },
     "execution_count": 42,
     "metadata": {},
     "output_type": "execute_result"
    }
   ],
   "source": [
    "# 缺省字段填充\n",
    "default_fit='暂无'\n",
    "all_df.fitment.replace({'':default_fit,'暂无数据':default_fit,'豪华装':'豪装'},inplace=True)\n",
    "all_df.fitment=all_df.fitment.apply(lambda x:x.strip('修'))\n",
    "all_df.fitment.unique()"
   ]
  },
  {
   "cell_type": "code",
   "execution_count": 43,
   "metadata": {
    "scrolled": false
   },
   "outputs": [
    {
     "name": "stdout",
     "output_type": "stream",
     "text": [
      "         unit_price\n",
      "fitment            \n",
      "毛坯          37143.0\n",
      "简装          51835.5\n",
      "精装          52276.0\n",
      "中装          53421.0\n",
      "暂无          55126.0\n",
      "豪华装         61871.0\n",
      "豪装          68160.0\n"
     ]
    },
    {
     "data": {
      "text/plain": [
       "<matplotlib.axes._subplots.AxesSubplot at 0x12a2ea390>"
      ]
     },
     "execution_count": 43,
     "metadata": {},
     "output_type": "execute_result"
    },
    {
     "data": {
      "image/png": "[encoded data removed]",
      "text/plain": [
       "<matplotlib.figure.Figure at 0x12a300da0>"
      ]
     },
     "metadata": {
      "image/png": {
       "height": 262,
       "width": 509
      }
     },
     "output_type": "display_data"
    }
   ],
   "source": [
    "sorted_fitment=all_df[['fitment','unit_price']].groupby('fitment').median().sort_values('unit_price')\n",
    "print(sorted_fitment)\n",
    "sns.barplot(x=sorted_fitment.index,y='unit_price',data=sorted_fitment)"
   ]
  },
  {
   "cell_type": "code",
   "execution_count": 44,
   "metadata": {},
   "outputs": [
    {
     "data": {
      "text/plain": [
       "{'中装': 3, '暂无': 4, '毛坯': 0, '简装': 1, '精装': 2, '豪华装': 5, '豪装': 6}"
      ]
     },
     "execution_count": 44,
     "metadata": {},
     "output_type": "execute_result"
    }
   ],
   "source": [
    "i=pd.Series(range(0,sorted_fitment.shape[0]),index=sorted_fitment.index)\n",
    "i.to_dict()"
   ]
  },
  {
   "cell_type": "code",
   "execution_count": 45,
   "metadata": {},
   "outputs": [],
   "source": [
    "all_df.fitment=all_df.fitment.map(i.to_dict())"
   ]
  },
  {
   "cell_type": "markdown",
   "metadata": {},
   "source": [
    "* 房型"
   ]
  },
  {
   "cell_type": "code",
   "execution_count": 46,
   "metadata": {
    "collapsed": true
   },
   "outputs": [],
   "source": [
    "import re\n",
    "\n",
    "# 正则提取房型数据\n",
    "r=re.compile('室|厅|厨|卫')\n",
    "l=[map(int,r.split(i)[:-1]) for i in all_df.room_type]\n",
    "room_type_df=pd.DataFrame(l,index=all_df.index,columns=['室','厅','厨','卫'])"
   ]
  },
  {
   "cell_type": "code",
   "execution_count": 47,
   "metadata": {
    "collapsed": true
   },
   "outputs": [],
   "source": [
    "# idx=room_type_df[room_type_df['卫'].isnull()].index\n",
    "# room_type_df.loc[idx,'卫']=room_type_df.loc[idx,'厨']\n",
    "# room_type_df.loc[idx,'厨']=np.nan"
   ]
  },
  {
   "cell_type": "code",
   "execution_count": 48,
   "metadata": {
    "scrolled": true
   },
   "outputs": [],
   "source": [
    "from sklearn.preprocessing import Imputer\n",
    "\n",
    "# 中位数填补\n",
    "# imp = Imputer(missing_values='NaN', strategy='median', axis=0) \n",
    "# room_type_df[['室','厅','厨','卫']]=imp.fit_transform(room_type_df[['室','厅','厨','卫']])\n",
    "\n",
    "# 零填补\n",
    "# room_type_df.fillna(0)\n",
    "# room_type_df.describe()"
   ]
  },
  {
   "cell_type": "code",
   "execution_count": 49,
   "metadata": {},
   "outputs": [
    {
     "data": {
      "text/html": [
       "<div>\n",
       "<table border=\"1\" class=\"dataframe\">\n",
       "  <thead>\n",
       "    <tr style=\"text-align: right;\">\n",
       "      <th></th>\n",
       "      <th>area</th>\n",
       "      <th>address</th>\n",
       "      <th>name</th>\n",
       "      <th>price</th>\n",
       "      <th>unit_price</th>\n",
       "      <th>acreage</th>\n",
       "      <th>room_type</th>\n",
       "      <th>all_floor</th>\n",
       "      <th>floor</th>\n",
       "      <th>shore</th>\n",
       "      <th>...</th>\n",
       "      <th>month</th>\n",
       "      <th>PropertyID</th>\n",
       "      <th>Plate</th>\n",
       "      <th>Module</th>\n",
       "      <th>Coordinates</th>\n",
       "      <th>floor_section</th>\n",
       "      <th>室</th>\n",
       "      <th>厅</th>\n",
       "      <th>厨</th>\n",
       "      <th>卫</th>\n",
       "    </tr>\n",
       "  </thead>\n",
       "  <tbody>\n",
       "    <tr>\n",
       "      <th>0</th>\n",
       "      <td>浦东</td>\n",
       "      <td>城南路359号</td>\n",
       "      <td>东都小区</td>\n",
       "      <td>1920000.0</td>\n",
       "      <td>39024.0</td>\n",
       "      <td>49.2</td>\n",
       "      <td>2室1厅1厨1卫</td>\n",
       "      <td>5.0</td>\n",
       "      <td>4.0</td>\n",
       "      <td>2</td>\n",
       "      <td>...</td>\n",
       "      <td>1</td>\n",
       "      <td>4781</td>\n",
       "      <td>川沙</td>\n",
       "      <td>0</td>\n",
       "      <td>121.70855449796,31.198134594037</td>\n",
       "      <td>多层</td>\n",
       "      <td>2.0</td>\n",
       "      <td>1.0</td>\n",
       "      <td>1.0</td>\n",
       "      <td>1.0</td>\n",
       "    </tr>\n",
       "    <tr>\n",
       "      <th>1</th>\n",
       "      <td>浦东</td>\n",
       "      <td>城南路329弄</td>\n",
       "      <td>东都小区</td>\n",
       "      <td>1900000.0</td>\n",
       "      <td>38618.0</td>\n",
       "      <td>49.2</td>\n",
       "      <td>2室1厅1厨1卫</td>\n",
       "      <td>6.0</td>\n",
       "      <td>2.0</td>\n",
       "      <td>2</td>\n",
       "      <td>...</td>\n",
       "      <td>1</td>\n",
       "      <td>4781</td>\n",
       "      <td>川沙</td>\n",
       "      <td>0</td>\n",
       "      <td>121.70855449796,31.198134594037</td>\n",
       "      <td>低层</td>\n",
       "      <td>2.0</td>\n",
       "      <td>1.0</td>\n",
       "      <td>1.0</td>\n",
       "      <td>1.0</td>\n",
       "    </tr>\n",
       "    <tr>\n",
       "      <th>2</th>\n",
       "      <td>浦东</td>\n",
       "      <td>城南路341弄</td>\n",
       "      <td>东都小区</td>\n",
       "      <td>1920000.0</td>\n",
       "      <td>38400.0</td>\n",
       "      <td>50.0</td>\n",
       "      <td>2室1厅1厨1卫</td>\n",
       "      <td>6.0</td>\n",
       "      <td>2.0</td>\n",
       "      <td>2</td>\n",
       "      <td>...</td>\n",
       "      <td>1</td>\n",
       "      <td>4781</td>\n",
       "      <td>川沙</td>\n",
       "      <td>0</td>\n",
       "      <td>121.70855449796,31.198134594037</td>\n",
       "      <td>低层</td>\n",
       "      <td>2.0</td>\n",
       "      <td>1.0</td>\n",
       "      <td>1.0</td>\n",
       "      <td>1.0</td>\n",
       "    </tr>\n",
       "    <tr>\n",
       "      <th>3</th>\n",
       "      <td>浦东</td>\n",
       "      <td>城南路359号</td>\n",
       "      <td>东都小区</td>\n",
       "      <td>1850000.0</td>\n",
       "      <td>37000.0</td>\n",
       "      <td>50.0</td>\n",
       "      <td>1室1厅1厨1卫</td>\n",
       "      <td>6.0</td>\n",
       "      <td>6.0</td>\n",
       "      <td>2</td>\n",
       "      <td>...</td>\n",
       "      <td>1</td>\n",
       "      <td>4781</td>\n",
       "      <td>川沙</td>\n",
       "      <td>0</td>\n",
       "      <td>121.70855449796,31.198134594037</td>\n",
       "      <td>多层</td>\n",
       "      <td>1.0</td>\n",
       "      <td>1.0</td>\n",
       "      <td>1.0</td>\n",
       "      <td>1.0</td>\n",
       "    </tr>\n",
       "    <tr>\n",
       "      <th>4</th>\n",
       "      <td>浦东</td>\n",
       "      <td>城南路359号</td>\n",
       "      <td>东都小区</td>\n",
       "      <td>1920000.0</td>\n",
       "      <td>39184.0</td>\n",
       "      <td>49.0</td>\n",
       "      <td>2室1厅1厨1卫</td>\n",
       "      <td>5.0</td>\n",
       "      <td>4.0</td>\n",
       "      <td>3</td>\n",
       "      <td>...</td>\n",
       "      <td>1</td>\n",
       "      <td>4781</td>\n",
       "      <td>川沙</td>\n",
       "      <td>0</td>\n",
       "      <td>121.70855449796,31.198134594037</td>\n",
       "      <td>多层</td>\n",
       "      <td>2.0</td>\n",
       "      <td>1.0</td>\n",
       "      <td>1.0</td>\n",
       "      <td>1.0</td>\n",
       "    </tr>\n",
       "  </tbody>\n",
       "</table>\n",
       "<p>5 rows × 25 columns</p>\n",
       "</div>"
      ],
      "text/plain": [
       "  area  address  name      price  unit_price  acreage room_type  all_floor  \\\n",
       "0   浦东  城南路359号  东都小区  1920000.0     39024.0     49.2  2室1厅1厨1卫        5.0   \n",
       "1   浦东  城南路329弄  东都小区  1900000.0     38618.0     49.2  2室1厅1厨1卫        6.0   \n",
       "2   浦东  城南路341弄  东都小区  1920000.0     38400.0     50.0  2室1厅1厨1卫        6.0   \n",
       "3   浦东  城南路359号  东都小区  1850000.0     37000.0     50.0  1室1厅1厨1卫        6.0   \n",
       "4   浦东  城南路359号  东都小区  1920000.0     39184.0     49.0  2室1厅1厨1卫        5.0   \n",
       "\n",
       "   floor  shore ...   month  PropertyID Plate Module  \\\n",
       "0    4.0      2 ...       1        4781    川沙      0   \n",
       "1    2.0      2 ...       1        4781    川沙      0   \n",
       "2    2.0      2 ...       1        4781    川沙      0   \n",
       "3    6.0      2 ...       1        4781    川沙      0   \n",
       "4    4.0      3 ...       1        4781    川沙      0   \n",
       "\n",
       "                       Coordinates  floor_section    室    厅    厨    卫  \n",
       "0  121.70855449796,31.198134594037             多层  2.0  1.0  1.0  1.0  \n",
       "1  121.70855449796,31.198134594037             低层  2.0  1.0  1.0  1.0  \n",
       "2  121.70855449796,31.198134594037             低层  2.0  1.0  1.0  1.0  \n",
       "3  121.70855449796,31.198134594037             多层  1.0  1.0  1.0  1.0  \n",
       "4  121.70855449796,31.198134594037             多层  2.0  1.0  1.0  1.0  \n",
       "\n",
       "[5 rows x 25 columns]"
      ]
     },
     "execution_count": 49,
     "metadata": {},
     "output_type": "execute_result"
    }
   ],
   "source": [
    "all_df=pd.concat((all_df,room_type_df),axis=1)\n",
    "all_df.head()"
   ]
  },
  {
   "cell_type": "markdown",
   "metadata": {},
   "source": [
    "* 时间"
   ]
  },
  {
   "cell_type": "code",
   "execution_count": 50,
   "metadata": {
    "scrolled": true
   },
   "outputs": [
    {
     "data": {
      "text/plain": [
       "['1901-01-01',\n",
       " '1905-01-01',\n",
       " '1906-01-01',\n",
       " '1910-01-01',\n",
       " '1912-01-01',\n",
       " '1913-01-01',\n",
       " '1914-01-01',\n",
       " '1918-01-01',\n",
       " '1920-01-01',\n",
       " '1922-01-01',\n",
       " '1923-01-01',\n",
       " '1924-01-01',\n",
       " '1925-01-01',\n",
       " '1926-01-01',\n",
       " '1928-01-01',\n",
       " '1929-01-01',\n",
       " '1930-01-01',\n",
       " '1931-01-01',\n",
       " '1932-01-01',\n",
       " '1933-01-01',\n",
       " '1934-01-01',\n",
       " '1935-01-01',\n",
       " '1936-01-01',\n",
       " '1937-01-01',\n",
       " '1938-01-01',\n",
       " '1939-01-01',\n",
       " '1940-01-01',\n",
       " '1941-01-01',\n",
       " '1942-01-01',\n",
       " '1945-01-01',\n",
       " '1946-01-01',\n",
       " '1947-01-01',\n",
       " '1948-01-01',\n",
       " '1949-01-01',\n",
       " '1950-01-01',\n",
       " '1951-01-01',\n",
       " '1952-01-01',\n",
       " '1953-01-01',\n",
       " '1954-01-01',\n",
       " '1955-01-01',\n",
       " '1956-01-01',\n",
       " '1957-01-01',\n",
       " '1958-01-01',\n",
       " '1959-01-01',\n",
       " '1960-01-01',\n",
       " '1961-01-01',\n",
       " '1962-01-01',\n",
       " '1963-01-01',\n",
       " '1964-01-01',\n",
       " '1965-01-01',\n",
       " '1966-01-01',\n",
       " '1967-01-01',\n",
       " '1968-01-01',\n",
       " '1969-01-01',\n",
       " '1970-01-01',\n",
       " '1971-01-01',\n",
       " '1972-01-01',\n",
       " '1973-01-01',\n",
       " '1974-01-01',\n",
       " '1975-01-01',\n",
       " '1976-01-01',\n",
       " '1977-01-01',\n",
       " '1978-01-01',\n",
       " '1979-01-01',\n",
       " '1980-01-01',\n",
       " '1981-01-01',\n",
       " '1982-01-01',\n",
       " '1983-01-01',\n",
       " '1984-01-01',\n",
       " '1985-01-01',\n",
       " '1986-01-01',\n",
       " '1987-01-01',\n",
       " '1988-01-01',\n",
       " '1989-01-01',\n",
       " '1990-01-01',\n",
       " '1991-01-01',\n",
       " '1992-01-01',\n",
       " '1993-01-01',\n",
       " '1994-01-01',\n",
       " '1995-01-01',\n",
       " '1996-01-01',\n",
       " '1997-01-01',\n",
       " '1998-01-01',\n",
       " '1999-01-01',\n",
       " '2000-01-01',\n",
       " '2001-01-01',\n",
       " '2002-01-01',\n",
       " '2003-01-01',\n",
       " '2004-01-01',\n",
       " '2005-01-01',\n",
       " '2006-01-01',\n",
       " '2007-01-01',\n",
       " '2008-01-01',\n",
       " '2009-01-01',\n",
       " '2010-01-01',\n",
       " '2011-01-01',\n",
       " '2012-01-01',\n",
       " '2013-01-01',\n",
       " '2014-01-01',\n",
       " '2015-01-01',\n",
       " '2016-01-01',\n",
       " '2017-01-01',\n",
       " '2018-01-01',\n",
       " '2019-01-01',\n",
       " '2020-01-01',\n",
       " '2022-01-01',\n",
       " '2023-01-01',\n",
       " '2028-01-01',\n",
       " '2073-01-01',\n",
       " '2084-01-01',\n",
       " '2099-01-01',\n",
       " '2103-01-01',\n",
       " '2107-01-01',\n",
       " '2198-01-01',\n",
       " '2208-01-01',\n",
       " '8007-01-01']"
      ]
     },
     "execution_count": 50,
     "metadata": {},
     "output_type": "execute_result"
    }
   ],
   "source": [
    "sorted(all_df.time.unique())"
   ]
  },
  {
   "cell_type": "code",
   "execution_count": 51,
   "metadata": {
    "collapsed": true
   },
   "outputs": [],
   "source": [
    "all_df.time=all_df.time.apply(lambda x:x.split('-')[0]).astype(int)"
   ]
  },
  {
   "cell_type": "code",
   "execution_count": 52,
   "metadata": {
    "scrolled": false
   },
   "outputs": [
    {
     "data": {
      "text/plain": [
       "(array([  0,   1,   2,   3,   4,   5,   6,   7,   8,   9,  10,  11,  12,\n",
       "         13,  14,  15,  16,  17,  18,  19,  20,  21,  22,  23,  24,  25,\n",
       "         26,  27,  28,  29,  30,  31,  32,  33,  34,  35,  36,  37,  38,\n",
       "         39,  40,  41,  42,  43,  44,  45,  46,  47,  48,  49,  50,  51,\n",
       "         52,  53,  54,  55,  56,  57,  58,  59,  60,  61,  62,  63,  64,\n",
       "         65,  66,  67,  68,  69,  70,  71,  72,  73,  74,  75,  76,  77,\n",
       "         78,  79,  80,  81,  82,  83,  84,  85,  86,  87,  88,  89,  90,\n",
       "         91,  92,  93,  94,  95,  96,  97,  98,  99, 100, 101, 102, 103,\n",
       "        104, 105, 106, 107, 108, 109, 110, 111, 112, 113, 114, 115]),\n",
       " <a list of 116 Text xticklabel objects>)"
      ]
     },
     "execution_count": 52,
     "metadata": {},
     "output_type": "execute_result"
    },
    {
     "data": {
      "image/png": "[encoded data removed]",
      "text/plain": [
       "<matplotlib.figure.Figure at 0x1232ba7f0>"
      ]
     },
     "metadata": {
      "image/png": {
       "height": 383,
       "width": 962
      }
     },
     "output_type": "display_data"
    }
   ],
   "source": [
    "# 房价与单价关系\n",
    "time_unit_price=all_df[['unit_price','time']].groupby('time').mean()\n",
    "sns.set({'figure.figsize':(18,6)})\n",
    "sns.barplot(x=time_unit_price.index,y='unit_price',data=time_unit_price)\n",
    "plt.xticks(rotation=90)"
   ]
  },
  {
   "cell_type": "code",
   "execution_count": 53,
   "metadata": {
    "collapsed": true
   },
   "outputs": [],
   "source": [
    "all_df.time=all_df.time.apply(lambda x:2017-x if x<=2017 else 0)"
   ]
  },
  {
   "cell_type": "code",
   "execution_count": 54,
   "metadata": {},
   "outputs": [
    {
     "data": {
      "text/plain": [
       "<matplotlib.axes._subplots.AxesSubplot at 0x1686b44e0>"
      ]
     },
     "execution_count": 54,
     "metadata": {},
     "output_type": "execute_result"
    },
    {
     "data": {
      "image/png": "[encoded data removed]",
      "text/plain": [
       "<matplotlib.figure.Figure at 0x1684ab240>"
      ]
     },
     "metadata": {
      "image/png": {
       "height": 248,
       "width": 613
      }
     },
     "output_type": "display_data"
    }
   ],
   "source": [
    "# 房龄分布\n",
    "sns.set({'figure.figsize':(10,4)})\n",
    "all_df.time.hist(bins=100)"
   ]
  },
  {
   "cell_type": "markdown",
   "metadata": {},
   "source": [
    "* 经纬度"
   ]
  },
  {
   "cell_type": "code",
   "execution_count": 153,
   "metadata": {},
   "outputs": [
    {
     "data": {
      "text/html": [
       "<div>\n",
       "<table border=\"1\" class=\"dataframe\">\n",
       "  <thead>\n",
       "    <tr style=\"text-align: right;\">\n",
       "      <th></th>\n",
       "      <th>loc_x</th>\n",
       "      <th>loc_y</th>\n",
       "    </tr>\n",
       "  </thead>\n",
       "  <tbody>\n",
       "    <tr>\n",
       "      <th>0</th>\n",
       "      <td>121.708554</td>\n",
       "      <td>31.198135</td>\n",
       "    </tr>\n",
       "    <tr>\n",
       "      <th>1</th>\n",
       "      <td>121.708554</td>\n",
       "      <td>31.198135</td>\n",
       "    </tr>\n",
       "    <tr>\n",
       "      <th>2</th>\n",
       "      <td>121.708554</td>\n",
       "      <td>31.198135</td>\n",
       "    </tr>\n",
       "    <tr>\n",
       "      <th>3</th>\n",
       "      <td>121.708554</td>\n",
       "      <td>31.198135</td>\n",
       "    </tr>\n",
       "    <tr>\n",
       "      <th>4</th>\n",
       "      <td>121.708554</td>\n",
       "      <td>31.198135</td>\n",
       "    </tr>\n",
       "  </tbody>\n",
       "</table>\n",
       "</div>"
      ],
      "text/plain": [
       "        loc_x      loc_y\n",
       "0  121.708554  31.198135\n",
       "1  121.708554  31.198135\n",
       "2  121.708554  31.198135\n",
       "3  121.708554  31.198135\n",
       "4  121.708554  31.198135"
      ]
     },
     "execution_count": 153,
     "metadata": {},
     "output_type": "execute_result"
    }
   ],
   "source": [
    "coors=pd.DataFrame([coor.split(',') for coor in all_df.Coordinates],columns=['loc_x','loc_y'],index=all_df.index)\n",
    "coors=coors.astype(float)\n",
    "coors.head()"
   ]
  },
  {
   "cell_type": "code",
   "execution_count": 154,
   "metadata": {},
   "outputs": [
    {
     "data": {
      "text/html": [
       "<div>\n",
       "<table border=\"1\" class=\"dataframe\">\n",
       "  <thead>\n",
       "    <tr style=\"text-align: right;\">\n",
       "      <th></th>\n",
       "      <th>area</th>\n",
       "      <th>address</th>\n",
       "      <th>name</th>\n",
       "      <th>price</th>\n",
       "      <th>unit_price</th>\n",
       "      <th>acreage</th>\n",
       "      <th>room_type</th>\n",
       "      <th>all_floor</th>\n",
       "      <th>floor</th>\n",
       "      <th>shore</th>\n",
       "      <th>...</th>\n",
       "      <th>PropertyID</th>\n",
       "      <th>Plate</th>\n",
       "      <th>Module</th>\n",
       "      <th>floor_section</th>\n",
       "      <th>室</th>\n",
       "      <th>厅</th>\n",
       "      <th>厨</th>\n",
       "      <th>卫</th>\n",
       "      <th>loc_x</th>\n",
       "      <th>loc_y</th>\n",
       "    </tr>\n",
       "  </thead>\n",
       "  <tbody>\n",
       "    <tr>\n",
       "      <th>0</th>\n",
       "      <td>浦东</td>\n",
       "      <td>城南路359号</td>\n",
       "      <td>东都小区</td>\n",
       "      <td>1920000.0</td>\n",
       "      <td>39024.0</td>\n",
       "      <td>49.2</td>\n",
       "      <td>2室1厅1厨1卫</td>\n",
       "      <td>5.0</td>\n",
       "      <td>4.0</td>\n",
       "      <td>2</td>\n",
       "      <td>...</td>\n",
       "      <td>4781</td>\n",
       "      <td>川沙</td>\n",
       "      <td>0</td>\n",
       "      <td>多层</td>\n",
       "      <td>2.0</td>\n",
       "      <td>1.0</td>\n",
       "      <td>1.0</td>\n",
       "      <td>1.0</td>\n",
       "      <td>121.708554</td>\n",
       "      <td>31.198135</td>\n",
       "    </tr>\n",
       "    <tr>\n",
       "      <th>1</th>\n",
       "      <td>浦东</td>\n",
       "      <td>城南路329弄</td>\n",
       "      <td>东都小区</td>\n",
       "      <td>1900000.0</td>\n",
       "      <td>38618.0</td>\n",
       "      <td>49.2</td>\n",
       "      <td>2室1厅1厨1卫</td>\n",
       "      <td>6.0</td>\n",
       "      <td>2.0</td>\n",
       "      <td>2</td>\n",
       "      <td>...</td>\n",
       "      <td>4781</td>\n",
       "      <td>川沙</td>\n",
       "      <td>0</td>\n",
       "      <td>低层</td>\n",
       "      <td>2.0</td>\n",
       "      <td>1.0</td>\n",
       "      <td>1.0</td>\n",
       "      <td>1.0</td>\n",
       "      <td>121.708554</td>\n",
       "      <td>31.198135</td>\n",
       "    </tr>\n",
       "    <tr>\n",
       "      <th>2</th>\n",
       "      <td>浦东</td>\n",
       "      <td>城南路341弄</td>\n",
       "      <td>东都小区</td>\n",
       "      <td>1920000.0</td>\n",
       "      <td>38400.0</td>\n",
       "      <td>50.0</td>\n",
       "      <td>2室1厅1厨1卫</td>\n",
       "      <td>6.0</td>\n",
       "      <td>2.0</td>\n",
       "      <td>2</td>\n",
       "      <td>...</td>\n",
       "      <td>4781</td>\n",
       "      <td>川沙</td>\n",
       "      <td>0</td>\n",
       "      <td>低层</td>\n",
       "      <td>2.0</td>\n",
       "      <td>1.0</td>\n",
       "      <td>1.0</td>\n",
       "      <td>1.0</td>\n",
       "      <td>121.708554</td>\n",
       "      <td>31.198135</td>\n",
       "    </tr>\n",
       "    <tr>\n",
       "      <th>3</th>\n",
       "      <td>浦东</td>\n",
       "      <td>城南路359号</td>\n",
       "      <td>东都小区</td>\n",
       "      <td>1850000.0</td>\n",
       "      <td>37000.0</td>\n",
       "      <td>50.0</td>\n",
       "      <td>1室1厅1厨1卫</td>\n",
       "      <td>6.0</td>\n",
       "      <td>6.0</td>\n",
       "      <td>2</td>\n",
       "      <td>...</td>\n",
       "      <td>4781</td>\n",
       "      <td>川沙</td>\n",
       "      <td>0</td>\n",
       "      <td>多层</td>\n",
       "      <td>1.0</td>\n",
       "      <td>1.0</td>\n",
       "      <td>1.0</td>\n",
       "      <td>1.0</td>\n",
       "      <td>121.708554</td>\n",
       "      <td>31.198135</td>\n",
       "    </tr>\n",
       "    <tr>\n",
       "      <th>4</th>\n",
       "      <td>浦东</td>\n",
       "      <td>城南路359号</td>\n",
       "      <td>东都小区</td>\n",
       "      <td>1920000.0</td>\n",
       "      <td>39184.0</td>\n",
       "      <td>49.0</td>\n",
       "      <td>2室1厅1厨1卫</td>\n",
       "      <td>5.0</td>\n",
       "      <td>4.0</td>\n",
       "      <td>3</td>\n",
       "      <td>...</td>\n",
       "      <td>4781</td>\n",
       "      <td>川沙</td>\n",
       "      <td>0</td>\n",
       "      <td>多层</td>\n",
       "      <td>2.0</td>\n",
       "      <td>1.0</td>\n",
       "      <td>1.0</td>\n",
       "      <td>1.0</td>\n",
       "      <td>121.708554</td>\n",
       "      <td>31.198135</td>\n",
       "    </tr>\n",
       "  </tbody>\n",
       "</table>\n",
       "<p>5 rows × 26 columns</p>\n",
       "</div>"
      ],
      "text/plain": [
       "  area  address  name      price  unit_price  acreage room_type  all_floor  \\\n",
       "0   浦东  城南路359号  东都小区  1920000.0     39024.0     49.2  2室1厅1厨1卫        5.0   \n",
       "1   浦东  城南路329弄  东都小区  1900000.0     38618.0     49.2  2室1厅1厨1卫        6.0   \n",
       "2   浦东  城南路341弄  东都小区  1920000.0     38400.0     50.0  2室1厅1厨1卫        6.0   \n",
       "3   浦东  城南路359号  东都小区  1850000.0     37000.0     50.0  1室1厅1厨1卫        6.0   \n",
       "4   浦东  城南路359号  东都小区  1920000.0     39184.0     49.0  2室1厅1厨1卫        5.0   \n",
       "\n",
       "   floor  shore    ...      PropertyID  Plate  Module floor_section    室    厅  \\\n",
       "0    4.0      2    ...            4781     川沙       0            多层  2.0  1.0   \n",
       "1    2.0      2    ...            4781     川沙       0            低层  2.0  1.0   \n",
       "2    2.0      2    ...            4781     川沙       0            低层  2.0  1.0   \n",
       "3    6.0      2    ...            4781     川沙       0            多层  1.0  1.0   \n",
       "4    4.0      3    ...            4781     川沙       0            多层  2.0  1.0   \n",
       "\n",
       "     厨    卫       loc_x      loc_y  \n",
       "0  1.0  1.0  121.708554  31.198135  \n",
       "1  1.0  1.0  121.708554  31.198135  \n",
       "2  1.0  1.0  121.708554  31.198135  \n",
       "3  1.0  1.0  121.708554  31.198135  \n",
       "4  1.0  1.0  121.708554  31.198135  \n",
       "\n",
       "[5 rows x 26 columns]"
      ]
     },
     "execution_count": 154,
     "metadata": {},
     "output_type": "execute_result"
    }
   ],
   "source": [
    "all_df=pd.concat((all_df,coors),axis=1).drop('Coordinates',axis=1)\n",
    "all_df.head()"
   ]
  },
  {
   "cell_type": "code",
   "execution_count": 190,
   "metadata": {},
   "outputs": [
    {
     "name": "stderr",
     "output_type": "stream",
     "text": [
      "/usr/local/lib/python3.6/site-packages/pandas/core/generic.py:1138: PerformanceWarning: \n",
      "your performance may suffer as PyTables will pickle object types that it cannot\n",
      "map directly to c-types [inferred_type->mixed,key->block0_values] [items->['area', 'address', 'name', 'room_type', 'Source', 'house_trait', 'Plate', 'floor_section']]\n",
      "\n",
      "  return pytables.to_hdf(path_or_buf, key, self, **kwargs)\n"
     ]
    }
   ],
   "source": [
    "# 缓存特征矩阵\n",
    "all_df.to_hdf('./cache/feats.hdf','data')"
   ]
  },
  {
   "cell_type": "code",
   "execution_count": 2,
   "metadata": {},
   "outputs": [
    {
     "data": {
      "text/html": [
       "<div>\n",
       "<table border=\"1\" class=\"dataframe\">\n",
       "  <thead>\n",
       "    <tr style=\"text-align: right;\">\n",
       "      <th></th>\n",
       "      <th>area</th>\n",
       "      <th>address</th>\n",
       "      <th>name</th>\n",
       "      <th>price</th>\n",
       "      <th>unit_price</th>\n",
       "      <th>acreage</th>\n",
       "      <th>room_type</th>\n",
       "      <th>all_floor</th>\n",
       "      <th>floor</th>\n",
       "      <th>shore</th>\n",
       "      <th>...</th>\n",
       "      <th>PropertyID</th>\n",
       "      <th>Plate</th>\n",
       "      <th>Module</th>\n",
       "      <th>floor_section</th>\n",
       "      <th>室</th>\n",
       "      <th>厅</th>\n",
       "      <th>厨</th>\n",
       "      <th>卫</th>\n",
       "      <th>loc_x</th>\n",
       "      <th>loc_y</th>\n",
       "    </tr>\n",
       "  </thead>\n",
       "  <tbody>\n",
       "    <tr>\n",
       "      <th>0</th>\n",
       "      <td>浦东</td>\n",
       "      <td>城南路359号</td>\n",
       "      <td>东都小区</td>\n",
       "      <td>1920000.0</td>\n",
       "      <td>39024.0</td>\n",
       "      <td>49.2</td>\n",
       "      <td>2室1厅1厨1卫</td>\n",
       "      <td>5.0</td>\n",
       "      <td>4.0</td>\n",
       "      <td>2</td>\n",
       "      <td>...</td>\n",
       "      <td>4781</td>\n",
       "      <td>川沙</td>\n",
       "      <td>0</td>\n",
       "      <td>多层</td>\n",
       "      <td>2.0</td>\n",
       "      <td>1.0</td>\n",
       "      <td>1.0</td>\n",
       "      <td>1.0</td>\n",
       "      <td>121.708554</td>\n",
       "      <td>31.198135</td>\n",
       "    </tr>\n",
       "    <tr>\n",
       "      <th>1</th>\n",
       "      <td>浦东</td>\n",
       "      <td>城南路329弄</td>\n",
       "      <td>东都小区</td>\n",
       "      <td>1900000.0</td>\n",
       "      <td>38618.0</td>\n",
       "      <td>49.2</td>\n",
       "      <td>2室1厅1厨1卫</td>\n",
       "      <td>6.0</td>\n",
       "      <td>2.0</td>\n",
       "      <td>2</td>\n",
       "      <td>...</td>\n",
       "      <td>4781</td>\n",
       "      <td>川沙</td>\n",
       "      <td>0</td>\n",
       "      <td>低层</td>\n",
       "      <td>2.0</td>\n",
       "      <td>1.0</td>\n",
       "      <td>1.0</td>\n",
       "      <td>1.0</td>\n",
       "      <td>121.708554</td>\n",
       "      <td>31.198135</td>\n",
       "    </tr>\n",
       "    <tr>\n",
       "      <th>2</th>\n",
       "      <td>浦东</td>\n",
       "      <td>城南路341弄</td>\n",
       "      <td>东都小区</td>\n",
       "      <td>1920000.0</td>\n",
       "      <td>38400.0</td>\n",
       "      <td>50.0</td>\n",
       "      <td>2室1厅1厨1卫</td>\n",
       "      <td>6.0</td>\n",
       "      <td>2.0</td>\n",
       "      <td>2</td>\n",
       "      <td>...</td>\n",
       "      <td>4781</td>\n",
       "      <td>川沙</td>\n",
       "      <td>0</td>\n",
       "      <td>低层</td>\n",
       "      <td>2.0</td>\n",
       "      <td>1.0</td>\n",
       "      <td>1.0</td>\n",
       "      <td>1.0</td>\n",
       "      <td>121.708554</td>\n",
       "      <td>31.198135</td>\n",
       "    </tr>\n",
       "    <tr>\n",
       "      <th>3</th>\n",
       "      <td>浦东</td>\n",
       "      <td>城南路359号</td>\n",
       "      <td>东都小区</td>\n",
       "      <td>1850000.0</td>\n",
       "      <td>37000.0</td>\n",
       "      <td>50.0</td>\n",
       "      <td>1室1厅1厨1卫</td>\n",
       "      <td>6.0</td>\n",
       "      <td>6.0</td>\n",
       "      <td>2</td>\n",
       "      <td>...</td>\n",
       "      <td>4781</td>\n",
       "      <td>川沙</td>\n",
       "      <td>0</td>\n",
       "      <td>多层</td>\n",
       "      <td>1.0</td>\n",
       "      <td>1.0</td>\n",
       "      <td>1.0</td>\n",
       "      <td>1.0</td>\n",
       "      <td>121.708554</td>\n",
       "      <td>31.198135</td>\n",
       "    </tr>\n",
       "    <tr>\n",
       "      <th>4</th>\n",
       "      <td>浦东</td>\n",
       "      <td>城南路359号</td>\n",
       "      <td>东都小区</td>\n",
       "      <td>1920000.0</td>\n",
       "      <td>39184.0</td>\n",
       "      <td>49.0</td>\n",
       "      <td>2室1厅1厨1卫</td>\n",
       "      <td>5.0</td>\n",
       "      <td>4.0</td>\n",
       "      <td>3</td>\n",
       "      <td>...</td>\n",
       "      <td>4781</td>\n",
       "      <td>川沙</td>\n",
       "      <td>0</td>\n",
       "      <td>多层</td>\n",
       "      <td>2.0</td>\n",
       "      <td>1.0</td>\n",
       "      <td>1.0</td>\n",
       "      <td>1.0</td>\n",
       "      <td>121.708554</td>\n",
       "      <td>31.198135</td>\n",
       "    </tr>\n",
       "  </tbody>\n",
       "</table>\n",
       "<p>5 rows × 26 columns</p>\n",
       "</div>"
      ],
      "text/plain": [
       "  area  address  name      price  unit_price  acreage room_type  all_floor  \\\n",
       "0   浦东  城南路359号  东都小区  1920000.0     39024.0     49.2  2室1厅1厨1卫        5.0   \n",
       "1   浦东  城南路329弄  东都小区  1900000.0     38618.0     49.2  2室1厅1厨1卫        6.0   \n",
       "2   浦东  城南路341弄  东都小区  1920000.0     38400.0     50.0  2室1厅1厨1卫        6.0   \n",
       "3   浦东  城南路359号  东都小区  1850000.0     37000.0     50.0  1室1厅1厨1卫        6.0   \n",
       "4   浦东  城南路359号  东都小区  1920000.0     39184.0     49.0  2室1厅1厨1卫        5.0   \n",
       "\n",
       "   floor  shore    ...      PropertyID  Plate  Module floor_section    室    厅  \\\n",
       "0    4.0      2    ...            4781     川沙       0            多层  2.0  1.0   \n",
       "1    2.0      2    ...            4781     川沙       0            低层  2.0  1.0   \n",
       "2    2.0      2    ...            4781     川沙       0            低层  2.0  1.0   \n",
       "3    6.0      2    ...            4781     川沙       0            多层  1.0  1.0   \n",
       "4    4.0      3    ...            4781     川沙       0            多层  2.0  1.0   \n",
       "\n",
       "     厨    卫       loc_x      loc_y  \n",
       "0  1.0  1.0  121.708554  31.198135  \n",
       "1  1.0  1.0  121.708554  31.198135  \n",
       "2  1.0  1.0  121.708554  31.198135  \n",
       "3  1.0  1.0  121.708554  31.198135  \n",
       "4  1.0  1.0  121.708554  31.198135  \n",
       "\n",
       "[5 rows x 26 columns]"
      ]
     },
     "execution_count": 2,
     "metadata": {},
     "output_type": "execute_result"
    }
   ],
   "source": [
    "all_df=pd.read_hdf('./cache/feats.hdf','data')\n",
    "all_df.head()"
   ]
  },
  {
   "cell_type": "code",
   "execution_count": 3,
   "metadata": {},
   "outputs": [
    {
     "name": "stdout",
     "output_type": "stream",
     "text": [
      "共有2827734条训练数据\n"
     ]
    }
   ],
   "source": [
    "print('共有%d条训练数据'%all_df.shape[0])"
   ]
  },
  {
   "cell_type": "markdown",
   "metadata": {},
   "source": [
    "* 处理测试集"
   ]
  },
  {
   "cell_type": "code",
   "execution_count": 4,
   "metadata": {},
   "outputs": [
    {
     "data": {
      "text/plain": [
       "1404"
      ]
     },
     "execution_count": 4,
     "metadata": {},
     "output_type": "execute_result"
    }
   ],
   "source": [
    "test_11=pd.read_excel('../数据/楼盘基价_201711.xls')\n",
    "test_12=pd.read_excel('../数据/楼盘基价_201712.xlsx')\n",
    "test_11['Month']=11\n",
    "test_12['Month']=12\n",
    "test_df=pd.concat((test_11,test_12))\n",
    "test_df.head()\n",
    "\n",
    "del test_11,test_12\n",
    "gc.collect()"
   ]
  },
  {
   "cell_type": "code",
   "execution_count": 5,
   "metadata": {},
   "outputs": [
    {
     "name": "stdout",
     "output_type": "stream",
     "text": [
      "11月份数据量:528\n",
      "12月份数据量:620\n"
     ]
    }
   ],
   "source": [
    "print('11月份数据量:%d'%test_df[test_df.Month==11].shape[0])\n",
    "print('12月份数据量:%d'%test_df[test_df.Month==12].shape[0])"
   ]
  },
  {
   "cell_type": "code",
   "execution_count": 6,
   "metadata": {},
   "outputs": [
    {
     "name": "stdout",
     "output_type": "stream",
     "text": [
      "11月份数据量:497\n",
      "12月份数据量:578\n"
     ]
    }
   ],
   "source": [
    "# 去掉无信息数据后\n",
    "test_df.dropna(inplace=True)\n",
    "print('11月份数据量:%d'%test_df[test_df.Month==11].shape[0])\n",
    "print('12月份数据量:%d'%test_df[test_df.Month==12].shape[0])"
   ]
  },
  {
   "cell_type": "code",
   "execution_count": 7,
   "metadata": {},
   "outputs": [],
   "source": [
    "test_df.rename(columns={'楼盘名称':'name'},inplace=True)\n",
    "test_df.name=test_df.name.apply(name_filter)"
   ]
  },
  {
   "cell_type": "code",
   "execution_count": 8,
   "metadata": {},
   "outputs": [
    {
     "data": {
      "text/html": [
       "<div>\n",
       "<table border=\"1\" class=\"dataframe\">\n",
       "  <thead>\n",
       "    <tr style=\"text-align: right;\">\n",
       "      <th></th>\n",
       "      <th>地址</th>\n",
       "      <th>房屋类型</th>\n",
       "      <th>竣工日期</th>\n",
       "      <th>所在楼层</th>\n",
       "      <th>总楼层</th>\n",
       "      <th>面积</th>\n",
       "      <th>正常价格</th>\n",
       "      <th>楼盘ID</th>\n",
       "      <th>name</th>\n",
       "      <th>Month</th>\n",
       "    </tr>\n",
       "  </thead>\n",
       "  <tbody>\n",
       "    <tr>\n",
       "      <th>1</th>\n",
       "      <td>宝山区淞南九村220号101室</td>\n",
       "      <td>住宅</td>\n",
       "      <td>1997</td>\n",
       "      <td>1</td>\n",
       "      <td>6</td>\n",
       "      <td>69.40</td>\n",
       "      <td>47500</td>\n",
       "      <td>11922.0</td>\n",
       "      <td>淞南九村</td>\n",
       "      <td>11</td>\n",
       "    </tr>\n",
       "    <tr>\n",
       "      <th>2</th>\n",
       "      <td>宝山区淞南九村221号101室</td>\n",
       "      <td>住宅</td>\n",
       "      <td>1997</td>\n",
       "      <td>1</td>\n",
       "      <td>6</td>\n",
       "      <td>62.27</td>\n",
       "      <td>47500</td>\n",
       "      <td>11922.0</td>\n",
       "      <td>淞南九村</td>\n",
       "      <td>11</td>\n",
       "    </tr>\n",
       "    <tr>\n",
       "      <th>4</th>\n",
       "      <td>奉贤区青村镇北唐新苑21号401室</td>\n",
       "      <td>住宅</td>\n",
       "      <td>2006</td>\n",
       "      <td>4</td>\n",
       "      <td>4</td>\n",
       "      <td>127.66</td>\n",
       "      <td>16100</td>\n",
       "      <td>9824.0</td>\n",
       "      <td>北唐新苑</td>\n",
       "      <td>11</td>\n",
       "    </tr>\n",
       "    <tr>\n",
       "      <th>5</th>\n",
       "      <td>奉贤区西渡镇鸿宝二村别墅15幢全幢</td>\n",
       "      <td>花园住宅</td>\n",
       "      <td>1994</td>\n",
       "      <td>1</td>\n",
       "      <td>2</td>\n",
       "      <td>287.54</td>\n",
       "      <td>33000</td>\n",
       "      <td>5383.0</td>\n",
       "      <td>鸿宝二村</td>\n",
       "      <td>11</td>\n",
       "    </tr>\n",
       "    <tr>\n",
       "      <th>6</th>\n",
       "      <td>虹口区东体育会路992弄1号1202室</td>\n",
       "      <td>住宅</td>\n",
       "      <td>2002</td>\n",
       "      <td>12</td>\n",
       "      <td>29</td>\n",
       "      <td>141.63</td>\n",
       "      <td>72500</td>\n",
       "      <td>11021.0</td>\n",
       "      <td>曲阳豪庭</td>\n",
       "      <td>11</td>\n",
       "    </tr>\n",
       "  </tbody>\n",
       "</table>\n",
       "</div>"
      ],
      "text/plain": [
       "                    地址  房屋类型  竣工日期  所在楼层  总楼层      面积   正常价格     楼盘ID  name  \\\n",
       "1      宝山区淞南九村220号101室    住宅  1997     1    6   69.40  47500  11922.0  淞南九村   \n",
       "2      宝山区淞南九村221号101室    住宅  1997     1    6   62.27  47500  11922.0  淞南九村   \n",
       "4    奉贤区青村镇北唐新苑21号401室    住宅  2006     4    4  127.66  16100   9824.0  北唐新苑   \n",
       "5    奉贤区西渡镇鸿宝二村别墅15幢全幢  花园住宅  1994     1    2  287.54  33000   5383.0  鸿宝二村   \n",
       "6  虹口区东体育会路992弄1号1202室    住宅  2002    12   29  141.63  72500  11021.0  曲阳豪庭   \n",
       "\n",
       "   Month  \n",
       "1     11  \n",
       "2     11  \n",
       "4     11  \n",
       "5     11  \n",
       "6     11  "
      ]
     },
     "execution_count": 8,
     "metadata": {},
     "output_type": "execute_result"
    }
   ],
   "source": [
    "test_df.head()"
   ]
  },
  {
   "cell_type": "code",
   "execution_count": 9,
   "metadata": {},
   "outputs": [
    {
     "data": {
      "text/plain": [
       "584"
      ]
     },
     "execution_count": 9,
     "metadata": {},
     "output_type": "execute_result"
    }
   ],
   "source": [
    "# 交集个数\n",
    "len(set(test_df.name)&set(all_df.name))"
   ]
  },
  {
   "cell_type": "markdown",
   "metadata": {},
   "source": [
    "## 模型训练"
   ]
  },
  {
   "cell_type": "code",
   "execution_count": 27,
   "metadata": {
    "scrolled": true
   },
   "outputs": [],
   "source": [
    "def make_train_test():\n",
    "    \"\"\"构造用于模型训练的训练集和测试集\"\"\"\n",
    "    # 训练集\n",
    "    x_train=all_df.drop(['area','unit_price','price','address','room_type','house_trait','month','Source','PropertyID'],axis=1)\n",
    "    y_train=all_df.loc[x_train.index].unit_price\n",
    "    # 计算小区房价中位数\n",
    "    med_price=pd.concat((x_train.name,y_train),axis=1)\n",
    "    med_price=med_price.groupby('name',as_index=False)['unit_price'].agg({'median':'median'})\n",
    "    x_train=pd.merge(x_train,med_price,on='name',how='left')\n",
    "\n",
    "    # 测试集\n",
    "    x_test=test_df[['竣工日期','所在楼层','总楼层','面积','正常价格','name']]\n",
    "    x_test.columns=['time','floor','all_floor','acreage','unit_price','name']\n",
    "    x_test=pd.merge(x_test,x_train.drop(['time','acreage','floor','all_floor'],axis=1),on='name',how='left').dropna()\n",
    "    x_test['floor_section']=floor_map(x_test.floor)\n",
    "    x_test['time']=x_test.time.apply(lambda x:int(x.strip('年')) if type(x)==str else int(x))\n",
    "    x_test['time']=x_test.time.apply(lambda x:2017-x if x<=2017 else 0)\n",
    "    y_test=x_test.unit_price\n",
    "    x_test.drop('unit_price',axis=1,inplace=True)\n",
    "    return x_train,y_train,x_test,y_test"
   ]
  },
  {
   "cell_type": "markdown",
   "metadata": {},
   "source": [
    "* LightGBM"
   ]
  },
  {
   "cell_type": "code",
   "execution_count": 28,
   "metadata": {
    "collapsed": true
   },
   "outputs": [],
   "source": [
    "x_train,y_train,x_test,y_test=make_train_test()\n",
    "\n",
    "# 将离散型变量转换成整型，用于lgb训练\n",
    "from sklearn.preprocessing import LabelEncoder\n",
    "\n",
    "name_le=LabelEncoder() # 小区名\n",
    "plate_le=LabelEncoder() # 小板块\n",
    "\n",
    "x_train.name=name_le.fit_transform(x_train.name)\n",
    "x_test.name=name_le.transform(x_test.name)\n",
    "\n",
    "x_train.Plate=plate_le.fit_transform(x_train.Plate)\n",
    "x_test.Plate=plate_le.transform(x_test.Plate)\n",
    "\n",
    "section_map={'低层':0,'小高层':1,'多层':2,'高层':3}\n",
    "x_train.floor_section=x_train.floor_section.replace(section_map)\n",
    "x_test.floor_section=x_test.floor_section.replace(section_map)\n",
    "\n",
    "x_train.drop('name',inplace=True,axis=1)\n",
    "x_test.drop('name',inplace=True,axis=1)"
   ]
  },
  {
   "cell_type": "code",
   "execution_count": 42,
   "metadata": {
    "scrolled": true
   },
   "outputs": [
    {
     "name": "stderr",
     "output_type": "stream",
     "text": [
      "/usr/local/lib/python3.6/site-packages/lightgbm/basic.py:1005: UserWarning: Using categorical_feature in Dataset.\n",
      "  warnings.warn('Using categorical_feature in Dataset.')\n"
     ]
    },
    {
     "name": "stdout",
     "output_type": "stream",
     "text": [
      "CPU times: user 18min 47s, sys: 2min 55s, total: 21min 42s\n",
      "Wall time: 5min 13s\n"
     ]
    }
   ],
   "source": [
    "%%time\n",
    "import lightgbm as lgb\n",
    "from sklearn.metrics import mean_squared_error\n",
    "\n",
    "params = {\n",
    "    'objective': 'regression',\n",
    "    'metric': 'mse',\n",
    "    'learning_rate':0.1,\n",
    "    'feature_fraction': 0.6,\n",
    "    'max_depth': 14,\n",
    "    'num_leaves':220,\n",
    "    'bagging_fraction': 0.6,\n",
    "    'bagging_freq':5,\n",
    "    'min_data_in_leaf':10,\n",
    "    'min_gain_to_split':0,\n",
    "    'lambda_l1':1,\n",
    "    'lambda_l2':1,\n",
    "    'verbose':0,\n",
    "}\n",
    "\n",
    "def eval_error(pred, df):\n",
    "    score = mean_squared_error(df.get_label(),pred)\n",
    "    return ('mse',score,False)\n",
    "\n",
    "lgb_train = lgb.Dataset(x_train,y_train,categorical_feature=['Plate','floor_section'])\n",
    "# gbm = lgb.cv(params,lgb_train,num_boost_round=3000,early_stopping_rounds=20,feval=eval_error,nfold=3)\n",
    "gbm = lgb.train(params,lgb_train,num_boost_round=2500)"
   ]
  },
  {
   "cell_type": "code",
   "execution_count": 43,
   "metadata": {
    "collapsed": true
   },
   "outputs": [
    {
     "ename": "KeyboardInterrupt",
     "evalue": "",
     "output_type": "error",
     "traceback": [
      "\u001b[0;31m---------------------------------------------------------------------------\u001b[0m",
      "\u001b[0;31mKeyboardInterrupt\u001b[0m                         Traceback (most recent call last)",
      "\u001b[0;32m<ipython-input-43-8a9cdb2f72a7>\u001b[0m in \u001b[0;36m<module>\u001b[0;34m()\u001b[0m\n\u001b[1;32m      1\u001b[0m \u001b[0;31m# 训练误差\u001b[0m\u001b[0;34m\u001b[0m\u001b[0;34m\u001b[0m\u001b[0m\n\u001b[0;32m----> 2\u001b[0;31m \u001b[0my_pred_train\u001b[0m\u001b[0;34m=\u001b[0m\u001b[0mgbm\u001b[0m\u001b[0;34m.\u001b[0m\u001b[0mpredict\u001b[0m\u001b[0;34m(\u001b[0m\u001b[0mx_train\u001b[0m\u001b[0;34m)\u001b[0m\u001b[0;34m\u001b[0m\u001b[0m\n\u001b[0m\u001b[1;32m      3\u001b[0m \u001b[0mmean_squared_error\u001b[0m\u001b[0;34m(\u001b[0m\u001b[0my_pred_train\u001b[0m\u001b[0;34m,\u001b[0m\u001b[0my_train\u001b[0m\u001b[0;34m)\u001b[0m\u001b[0;34m\u001b[0m\u001b[0m\n",
      "\u001b[0;32m/usr/local/lib/python3.6/site-packages/lightgbm/basic.py\u001b[0m in \u001b[0;36mpredict\u001b[0;34m(self, data, num_iteration, raw_score, pred_leaf, pred_contrib, data_has_header, is_reshape, pred_parameter)\u001b[0m\n\u001b[1;32m   1696\u001b[0m         \u001b[0;32mif\u001b[0m \u001b[0mnum_iteration\u001b[0m \u001b[0;34m<=\u001b[0m \u001b[0;36m0\u001b[0m\u001b[0;34m:\u001b[0m\u001b[0;34m\u001b[0m\u001b[0m\n\u001b[1;32m   1697\u001b[0m             \u001b[0mnum_iteration\u001b[0m \u001b[0;34m=\u001b[0m \u001b[0mself\u001b[0m\u001b[0;34m.\u001b[0m\u001b[0mbest_iteration\u001b[0m\u001b[0;34m\u001b[0m\u001b[0m\n\u001b[0;32m-> 1698\u001b[0;31m         \u001b[0;32mreturn\u001b[0m \u001b[0mpredictor\u001b[0m\u001b[0;34m.\u001b[0m\u001b[0mpredict\u001b[0m\u001b[0;34m(\u001b[0m\u001b[0mdata\u001b[0m\u001b[0;34m,\u001b[0m \u001b[0mnum_iteration\u001b[0m\u001b[0;34m,\u001b[0m \u001b[0mraw_score\u001b[0m\u001b[0;34m,\u001b[0m \u001b[0mpred_leaf\u001b[0m\u001b[0;34m,\u001b[0m \u001b[0mpred_contrib\u001b[0m\u001b[0;34m,\u001b[0m \u001b[0mdata_has_header\u001b[0m\u001b[0;34m,\u001b[0m \u001b[0mis_reshape\u001b[0m\u001b[0;34m)\u001b[0m\u001b[0;34m\u001b[0m\u001b[0m\n\u001b[0m\u001b[1;32m   1699\u001b[0m \u001b[0;34m\u001b[0m\u001b[0m\n\u001b[1;32m   1700\u001b[0m     \u001b[0;32mdef\u001b[0m \u001b[0mget_leaf_output\u001b[0m\u001b[0;34m(\u001b[0m\u001b[0mself\u001b[0m\u001b[0;34m,\u001b[0m \u001b[0mtree_id\u001b[0m\u001b[0;34m,\u001b[0m \u001b[0mleaf_id\u001b[0m\u001b[0;34m)\u001b[0m\u001b[0;34m:\u001b[0m\u001b[0;34m\u001b[0m\u001b[0m\n",
      "\u001b[0;32m/usr/local/lib/python3.6/site-packages/lightgbm/basic.py\u001b[0m in \u001b[0;36mpredict\u001b[0;34m(self, data, num_iteration, raw_score, pred_leaf, pred_contrib, data_has_header, is_reshape)\u001b[0m\n\u001b[1;32m    416\u001b[0m         \u001b[0;32melif\u001b[0m \u001b[0misinstance\u001b[0m\u001b[0;34m(\u001b[0m\u001b[0mdata\u001b[0m\u001b[0;34m,\u001b[0m \u001b[0mnp\u001b[0m\u001b[0;34m.\u001b[0m\u001b[0mndarray\u001b[0m\u001b[0;34m)\u001b[0m\u001b[0;34m:\u001b[0m\u001b[0;34m\u001b[0m\u001b[0m\n\u001b[1;32m    417\u001b[0m             preds, nrow = self.__pred_for_np2d(data, num_iteration,\n\u001b[0;32m--> 418\u001b[0;31m                                                predict_type)\n\u001b[0m\u001b[1;32m    419\u001b[0m         \u001b[0;32melif\u001b[0m \u001b[0misinstance\u001b[0m\u001b[0;34m(\u001b[0m\u001b[0mdata\u001b[0m\u001b[0;34m,\u001b[0m \u001b[0mlist\u001b[0m\u001b[0;34m)\u001b[0m\u001b[0;34m:\u001b[0m\u001b[0;34m\u001b[0m\u001b[0m\n\u001b[1;32m    420\u001b[0m             \u001b[0;32mtry\u001b[0m\u001b[0;34m:\u001b[0m\u001b[0;34m\u001b[0m\u001b[0m\n",
      "\u001b[0;32m/usr/local/lib/python3.6/site-packages/lightgbm/basic.py\u001b[0m in \u001b[0;36m__pred_for_np2d\u001b[0;34m(self, mat, num_iteration, predict_type)\u001b[0m\n\u001b[1;32m    483\u001b[0m             \u001b[0mc_str\u001b[0m\u001b[0;34m(\u001b[0m\u001b[0mself\u001b[0m\u001b[0;34m.\u001b[0m\u001b[0mpred_parameter\u001b[0m\u001b[0;34m)\u001b[0m\u001b[0;34m,\u001b[0m\u001b[0;34m\u001b[0m\u001b[0m\n\u001b[1;32m    484\u001b[0m             \u001b[0mctypes\u001b[0m\u001b[0;34m.\u001b[0m\u001b[0mbyref\u001b[0m\u001b[0;34m(\u001b[0m\u001b[0mout_num_preds\u001b[0m\u001b[0;34m)\u001b[0m\u001b[0;34m,\u001b[0m\u001b[0;34m\u001b[0m\u001b[0m\n\u001b[0;32m--> 485\u001b[0;31m             preds.ctypes.data_as(ctypes.POINTER(ctypes.c_double))))\n\u001b[0m\u001b[1;32m    486\u001b[0m         \u001b[0;32mif\u001b[0m \u001b[0mn_preds\u001b[0m \u001b[0;34m!=\u001b[0m \u001b[0mout_num_preds\u001b[0m\u001b[0;34m.\u001b[0m\u001b[0mvalue\u001b[0m\u001b[0;34m:\u001b[0m\u001b[0;34m\u001b[0m\u001b[0m\n\u001b[1;32m    487\u001b[0m             \u001b[0;32mraise\u001b[0m \u001b[0mValueError\u001b[0m\u001b[0;34m(\u001b[0m\u001b[0;34m\"Wrong length for predict results\"\u001b[0m\u001b[0;34m)\u001b[0m\u001b[0;34m\u001b[0m\u001b[0m\n",
      "\u001b[0;31mKeyboardInterrupt\u001b[0m: "
     ]
    }
   ],
   "source": [
    "# 训练误差\n",
    "y_pred_train=gbm.predict(x_train)\n",
    "mean_squared_error(y_pred_train,y_train)"
   ]
  },
  {
   "cell_type": "code",
   "execution_count": null,
   "metadata": {},
   "outputs": [],
   "source": [
    "df_train=pd.DataFrame({'pred':y_pred_train,'true':y_train})\n",
    "df_train['diff']=np.abs(df_train.pred-df_train.true)\n",
    "sns.boxplot(df_train['diff'])"
   ]
  },
  {
   "cell_type": "code",
   "execution_count": 44,
   "metadata": {},
   "outputs": [
    {
     "data": {
      "text/plain": [
       "77469941.860125765"
      ]
     },
     "execution_count": 44,
     "metadata": {},
     "output_type": "execute_result"
    }
   ],
   "source": [
    "# 测试误差\n",
    "y_pred_test=gbm.predict(x_test)\n",
    "mean_squared_error(y_pred_test,y_test)"
   ]
  },
  {
   "cell_type": "code",
   "execution_count": 53,
   "metadata": {},
   "outputs": [
    {
     "data": {
      "text/plain": [
       "<matplotlib.axes._subplots.AxesSubplot at 0x12420c128>"
      ]
     },
     "execution_count": 53,
     "metadata": {},
     "output_type": "execute_result"
    },
    {
     "data": {
      "image/png": "[encoded data removed]",
      "text/plain": [
       "<matplotlib.figure.Figure at 0x1496d4048>"
      ]
     },
     "metadata": {
      "image/png": {
       "height": 316,
       "width": 572
      }
     },
     "output_type": "display_data"
    }
   ],
   "source": [
    "df_test=pd.DataFrame({'pred':y_pred_test,'true':y_test})\n",
    "df_test['diff']=np.abs(df_test.pred-df_test.true)\n",
    "sns.set({'figure.figsize':(10,5)})\n",
    "sns.boxplot(df_test['diff'])"
   ]
  },
  {
   "cell_type": "code",
   "execution_count": 46,
   "metadata": {},
   "outputs": [
    {
     "data": {
      "text/plain": [
       "count    351347.000000\n",
       "mean       6760.608361\n",
       "std        5635.974349\n",
       "min           0.159767\n",
       "25%        2669.739118\n",
       "50%        5413.827206\n",
       "75%        9354.857607\n",
       "max       54513.760698\n",
       "Name: diff, dtype: float64"
      ]
     },
     "execution_count": 46,
     "metadata": {},
     "output_type": "execute_result"
    }
   ],
   "source": [
    "df_test['diff'].describe()"
   ]
  },
  {
   "cell_type": "code",
   "execution_count": 47,
   "metadata": {},
   "outputs": [
    {
     "data": {
      "text/plain": [
       "<matplotlib.axes._subplots.AxesSubplot at 0x152d9dba8>"
      ]
     },
     "execution_count": 47,
     "metadata": {},
     "output_type": "execute_result"
    },
    {
     "data": {
      "image/png": "[encoded data removed]",
      "text/plain": [
       "<matplotlib.figure.Figure at 0x152d6dc50>"
      ]
     },
     "metadata": {
      "image/png": {
       "height": 479,
       "width": 984
      }
     },
     "output_type": "display_data"
    }
   ],
   "source": [
    "# 特征重要程度\n",
    "sns.set({'figure.figsize':(16,8)})\n",
    "sns.barplot(data=pd.DataFrame({'feat_name':x_train.columns,'feat_importance':gbm.feature_importance()}),x='feat_importance',y='feat_name')"
   ]
  },
  {
   "cell_type": "code",
   "execution_count": 54,
   "metadata": {
    "collapsed": true
   },
   "outputs": [],
   "source": [
    "# 保存模型\n",
    "gbm.save_model('./cache/model.txt')"
   ]
  },
  {
   "cell_type": "markdown",
   "metadata": {},
   "source": [
    "* Linear Regression"
   ]
  },
  {
   "cell_type": "code",
   "execution_count": 41,
   "metadata": {
    "scrolled": true
   },
   "outputs": [],
   "source": [
    "x_train,y_train,x_test,y_test=make_train_test()"
   ]
  },
  {
   "cell_type": "code",
   "execution_count": 25,
   "metadata": {},
   "outputs": [
    {
     "name": "stderr",
     "output_type": "stream",
     "text": [
      "100%|██████████| 2827734/2827734 [00:42<00:00, 65940.32it/s]\n"
     ]
    }
   ],
   "source": [
    "from geohash import encode\n",
    "\n",
    "geo=[]\n",
    "for i in tqdm(x_train[['loc_y','loc_x']].values):\n",
    "    geo.append(encode(i[0],i[1],7))"
   ]
  },
  {
   "cell_type": "code",
   "execution_count": 52,
   "metadata": {
    "scrolled": true
   },
   "outputs": [
    {
     "data": {
      "text/html": [
       "<div>\n",
       "<table border=\"1\" class=\"dataframe\">\n",
       "  <thead>\n",
       "    <tr style=\"text-align: right;\">\n",
       "      <th></th>\n",
       "      <th>geo_6</th>\n",
       "      <th>geo_7</th>\n",
       "    </tr>\n",
       "  </thead>\n",
       "  <tbody>\n",
       "    <tr>\n",
       "      <th>0</th>\n",
       "      <td>wtw93x</td>\n",
       "      <td>wtw93x3</td>\n",
       "    </tr>\n",
       "    <tr>\n",
       "      <th>1</th>\n",
       "      <td>wtw93x</td>\n",
       "      <td>wtw93x3</td>\n",
       "    </tr>\n",
       "    <tr>\n",
       "      <th>2</th>\n",
       "      <td>wtw93x</td>\n",
       "      <td>wtw93x3</td>\n",
       "    </tr>\n",
       "    <tr>\n",
       "      <th>3</th>\n",
       "      <td>wtw93x</td>\n",
       "      <td>wtw93x3</td>\n",
       "    </tr>\n",
       "    <tr>\n",
       "      <th>4</th>\n",
       "      <td>wtw93x</td>\n",
       "      <td>wtw93x3</td>\n",
       "    </tr>\n",
       "  </tbody>\n",
       "</table>\n",
       "</div>"
      ],
      "text/plain": [
       "    geo_6    geo_7\n",
       "0  wtw93x  wtw93x3\n",
       "1  wtw93x  wtw93x3\n",
       "2  wtw93x  wtw93x3\n",
       "3  wtw93x  wtw93x3\n",
       "4  wtw93x  wtw93x3"
      ]
     },
     "execution_count": 52,
     "metadata": {},
     "output_type": "execute_result"
    }
   ],
   "source": [
    "geo_df=pd.DataFrame({'geo_6':[i[:-1] for i in geo],'geo_7':geo},index=x_train.index)\n",
    "geo_df.head()"
   ]
  },
  {
   "cell_type": "code",
   "execution_count": 54,
   "metadata": {
    "scrolled": false
   },
   "outputs": [],
   "source": [
    "x_train=pd.concat((x_train.drop(['name','loc_x','loc_y'],axis=1),geo_df[['geo_6']]),axis=1)"
   ]
  },
  {
   "cell_type": "code",
   "execution_count": null,
   "metadata": {
    "collapsed": true
   },
   "outputs": [],
   "source": [
    "geo_test=[]\n",
    "for i in tqdm(x_test[['loc_y','loc_x']].values):\n",
    "    geo_test.append(encode(i[0],i[1],7))"
   ]
  },
  {
   "cell_type": "code",
   "execution_count": null,
   "metadata": {
    "collapsed": true
   },
   "outputs": [],
   "source": [
    "geo_test_df=pd.DataFrame({'geo_6':[i[:-1] for i in geo_test],'geo_7':geo_test},index=x_test.index)\n",
    "geo_df.head()"
   ]
  },
  {
   "cell_type": "code",
   "execution_count": null,
   "metadata": {},
   "outputs": [],
   "source": [
    "from sklearn.linear_model import Lasso,Ridge\n",
    "\n",
    "model=Ridge()\n",
    "model.fit(pd.get_dummies(x_train),y_train)"
   ]
  },
  {
   "cell_type": "code",
   "execution_count": null,
   "metadata": {
    "collapsed": true
   },
   "outputs": [],
   "source": [
    "# 测试误差\n",
    "y_pred_test=model.predict(x_test)\n",
    "mean_squared_error(y_pred_test,y_test)"
   ]
  }
 ],
 "metadata": {
  "kernelspec": {
   "display_name": "Python 3",
   "language": "python",
   "name": "python3"
  },
  "language_info": {
   "codemirror_mode": {
    "name": "ipython",
    "version": 3
   },
   "file_extension": ".py",
   "mimetype": "text/x-python",
   "name": "python",
   "nbconvert_exporter": "python",
   "pygments_lexer": "ipython3",
   "version": "3.6.1"
  }
 },
 "nbformat": 4,
 "nbformat_minor": 2
}
