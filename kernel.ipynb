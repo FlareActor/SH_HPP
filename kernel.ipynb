{
 "cells": [
  {
   "cell_type": "code",
   "execution_count": 1,
   "metadata": {},
   "outputs": [
    {
     "name": "stderr",
     "output_type": "stream",
     "text": [
      "/usr/local/lib/python3.6/site-packages/IPython/html.py:14: ShimWarning: The `IPython.html` package has been deprecated since IPython 4.0. You should import from `notebook` instead. `IPython.html.widgets` has moved to `ipywidgets`.\n",
      "  \"`IPython.html.widgets` has moved to `ipywidgets`.\", ShimWarning)\n"
     ]
    }
   ],
   "source": [
    "import numpy as np\n",
    "import pandas as pd\n",
    "import matplotlib\n",
    "import matplotlib.pyplot as plt\n",
    "import seaborn as sns\n",
    "import time,os,gc,re\n",
    "from tqdm import tqdm\n",
    "from geohash import encode\n",
    "from scipy.stats import skew\n",
    "from geohash import encode\n",
    "from sklearn.model_selection import train_test_split\n",
    "\n",
    "%config InlineBackend.figure_format = 'retina' # set 'png' here when working on notebook\n",
    "%matplotlib inline\n",
    "\n",
    "# 小区名正则过滤\n",
    "name_filter=lambda x:re.sub(r'\\(.*?\\)', '', re.sub(r'\\（.*?\\）', '', x))\n",
    "# 楼层映射\n",
    "floor_map=lambda x:list(pd.cut(x,[0,3,6,9,np.inf],labels=['低层','多层','小高层','高层']))"
   ]
  },
  {
   "cell_type": "markdown",
   "metadata": {},
   "source": [
    "## 加载数据"
   ]
  },
  {
   "cell_type": "code",
   "execution_count": 3,
   "metadata": {},
   "outputs": [
    {
     "name": "stderr",
     "output_type": "stream",
     "text": [
      "100%|██████████| 573118/573118 [00:03<00:00, 154996.07it/s]\n",
      "100%|██████████| 512854/512854 [00:02<00:00, 174463.11it/s]\n",
      "100%|██████████| 686220/686220 [00:04<00:00, 150930.06it/s]\n",
      "100%|██████████| 525652/525652 [00:03<00:00, 157660.39it/s]\n",
      "100%|██████████| 610066/610066 [00:04<00:00, 135667.06it/s]\n",
      "100%|██████████| 417357/417357 [00:02<00:00, 165463.83it/s]\n",
      "100%|██████████| 583987/583987 [00:04<00:00, 131850.24it/s]\n",
      "100%|██████████| 765993/765993 [00:05<00:00, 134249.38it/s]\n",
      "100%|██████████| 499696/499696 [00:03<00:00, 149959.97it/s]\n"
     ]
    }
   ],
   "source": [
    "# 读取挂牌数据\n",
    "dfs=[]\n",
    "for k in range(1,10):\n",
    "    with open('/Users/wangdexun/Documents/gubbins/房价大数据/数据/2017挂牌数据/2017-0{}/挂牌.txt'.format(k)) as f:\n",
    "        l=[]\n",
    "        for i in tqdm(f.readlines()):\n",
    "            l.append(i.split('\\t'))\n",
    "        meta_df=pd.DataFrame(l)\n",
    "        _drop_col=[0,15,16,18,19,20,21]\n",
    "        if k>=6:\n",
    "            _drop_col.append(22)\n",
    "        meta_df.drop(_drop_col,axis=1,inplace=True) # 去除无用列\n",
    "        meta_df.columns=['area','address','name','price','unit_price','acreage','room_type','all_floor','floor','shore','house_type','fitment','time','Source','house_trait']\n",
    "#         meta_df=meta_df[meta_df.Source=='链家']\n",
    "        meta_df['month']=k\n",
    "        dfs.append(meta_df)"
   ]
  },
  {
   "cell_type": "code",
   "execution_count": 4,
   "metadata": {
    "collapsed": true
   },
   "outputs": [],
   "source": [
    "# 缓存\n",
    "all_df=pd.concat(dfs,ignore_index=True)\n",
    "all_df.to_hdf('./cache/guapai.hdf','data')"
   ]
  },
  {
   "cell_type": "code",
   "execution_count": 2,
   "metadata": {
    "scrolled": false
   },
   "outputs": [
    {
     "data": {
      "text/html": [
       "<div>\n",
       "<table border=\"1\" class=\"dataframe\">\n",
       "  <thead>\n",
       "    <tr style=\"text-align: right;\">\n",
       "      <th></th>\n",
       "      <th>area</th>\n",
       "      <th>address</th>\n",
       "      <th>name</th>\n",
       "      <th>price</th>\n",
       "      <th>unit_price</th>\n",
       "      <th>acreage</th>\n",
       "      <th>room_type</th>\n",
       "      <th>all_floor</th>\n",
       "      <th>floor</th>\n",
       "      <th>shore</th>\n",
       "      <th>house_type</th>\n",
       "      <th>fitment</th>\n",
       "      <th>time</th>\n",
       "      <th>Source</th>\n",
       "      <th>house_trait</th>\n",
       "      <th>month</th>\n",
       "    </tr>\n",
       "  </thead>\n",
       "  <tbody>\n",
       "    <tr>\n",
       "      <th>0</th>\n",
       "      <td>长宁</td>\n",
       "      <td>番禺路222弄11支弄</td>\n",
       "      <td>番禺路222弄小区</td>\n",
       "      <td>3400000</td>\n",
       "      <td>72340</td>\n",
       "      <td>47.00</td>\n",
       "      <td>2室1厅1厨1卫</td>\n",
       "      <td>6</td>\n",
       "      <td>2</td>\n",
       "      <td>南北</td>\n",
       "      <td>公寓</td>\n",
       "      <td>中装修</td>\n",
       "      <td>1984-01-01</td>\n",
       "      <td>房天下</td>\n",
       "      <td>普通住宅</td>\n",
       "      <td>1</td>\n",
       "    </tr>\n",
       "    <tr>\n",
       "      <th>1</th>\n",
       "      <td>浦东</td>\n",
       "      <td>博兴路1676弄</td>\n",
       "      <td>东陆新村九街坊</td>\n",
       "      <td>2750000</td>\n",
       "      <td>51210</td>\n",
       "      <td>53.70</td>\n",
       "      <td>1室1厅1厨1卫</td>\n",
       "      <td>6</td>\n",
       "      <td>2</td>\n",
       "      <td>南北</td>\n",
       "      <td>公寓</td>\n",
       "      <td>精装修</td>\n",
       "      <td>2000-01-01</td>\n",
       "      <td>房天下</td>\n",
       "      <td>普通住宅</td>\n",
       "      <td>1</td>\n",
       "    </tr>\n",
       "    <tr>\n",
       "      <th>2</th>\n",
       "      <td>浦东</td>\n",
       "      <td>城南路359号</td>\n",
       "      <td>东都小区</td>\n",
       "      <td>1920000</td>\n",
       "      <td>39024</td>\n",
       "      <td>49.20</td>\n",
       "      <td>2室1厅1厨1卫</td>\n",
       "      <td>5</td>\n",
       "      <td>4</td>\n",
       "      <td>南北</td>\n",
       "      <td>公寓</td>\n",
       "      <td>中装修</td>\n",
       "      <td>1986-01-01</td>\n",
       "      <td>房天下</td>\n",
       "      <td>普通住宅</td>\n",
       "      <td>1</td>\n",
       "    </tr>\n",
       "    <tr>\n",
       "      <th>3</th>\n",
       "      <td>松江</td>\n",
       "      <td>明华路366弄102-1148号</td>\n",
       "      <td>绿洲比华利花园</td>\n",
       "      <td>18000000</td>\n",
       "      <td>42705</td>\n",
       "      <td>421.50</td>\n",
       "      <td>4室2厅1厨4卫</td>\n",
       "      <td>2</td>\n",
       "      <td>1</td>\n",
       "      <td>南</td>\n",
       "      <td>别墅洋房</td>\n",
       "      <td>精装修</td>\n",
       "      <td>2000-01-01</td>\n",
       "      <td>房天下</td>\n",
       "      <td>别墅</td>\n",
       "      <td>1</td>\n",
       "    </tr>\n",
       "    <tr>\n",
       "      <th>4</th>\n",
       "      <td>浦东</td>\n",
       "      <td>御青路328弄</td>\n",
       "      <td>民乐苑</td>\n",
       "      <td>2950000</td>\n",
       "      <td>57843</td>\n",
       "      <td>51.00</td>\n",
       "      <td>1室1厅1厨1卫</td>\n",
       "      <td>6</td>\n",
       "      <td>2</td>\n",
       "      <td>南</td>\n",
       "      <td>公寓</td>\n",
       "      <td>简装修</td>\n",
       "      <td>1996-01-01</td>\n",
       "      <td>房天下</td>\n",
       "      <td>普通住宅</td>\n",
       "      <td>1</td>\n",
       "    </tr>\n",
       "  </tbody>\n",
       "</table>\n",
       "</div>"
      ],
      "text/plain": [
       "  area           address       name     price unit_price acreage room_type  \\\n",
       "0   长宁       番禺路222弄11支弄  番禺路222弄小区   3400000      72340   47.00  2室1厅1厨1卫   \n",
       "1   浦东          博兴路1676弄    东陆新村九街坊   2750000      51210   53.70  1室1厅1厨1卫   \n",
       "2   浦东           城南路359号       东都小区   1920000      39024   49.20  2室1厅1厨1卫   \n",
       "3   松江  明华路366弄102-1148号    绿洲比华利花园  18000000      42705  421.50  4室2厅1厨4卫   \n",
       "4   浦东           御青路328弄        民乐苑   2950000      57843   51.00  1室1厅1厨1卫   \n",
       "\n",
       "  all_floor floor shore house_type fitment        time Source house_trait  \\\n",
       "0         6     2    南北         公寓     中装修  1984-01-01    房天下        普通住宅   \n",
       "1         6     2    南北         公寓     精装修  2000-01-01    房天下        普通住宅   \n",
       "2         5     4    南北         公寓     中装修  1986-01-01    房天下        普通住宅   \n",
       "3         2     1     南       别墅洋房     精装修  2000-01-01    房天下          别墅   \n",
       "4         6     2     南         公寓     简装修  1996-01-01    房天下        普通住宅   \n",
       "\n",
       "   month  \n",
       "0      1  \n",
       "1      1  \n",
       "2      1  \n",
       "3      1  \n",
       "4      1  "
      ]
     },
     "execution_count": 2,
     "metadata": {},
     "output_type": "execute_result"
    }
   ],
   "source": [
    "all_df=pd.read_hdf('./cache/guapai.hdf','data')\n",
    "all_df.head()"
   ]
  },
  {
   "cell_type": "code",
   "execution_count": 68,
   "metadata": {},
   "outputs": [
    {
     "data": {
      "text/html": [
       "<div>\n",
       "<table border=\"1\" class=\"dataframe\">\n",
       "  <thead>\n",
       "    <tr style=\"text-align: right;\">\n",
       "      <th></th>\n",
       "      <th>NewDiskID</th>\n",
       "      <th>PropertyID</th>\n",
       "      <th>name</th>\n",
       "      <th>Coordinates</th>\n",
       "    </tr>\n",
       "  </thead>\n",
       "  <tbody>\n",
       "    <tr>\n",
       "      <th>0</th>\n",
       "      <td>1</td>\n",
       "      <td>14578</td>\n",
       "      <td>海伦国际大厦</td>\n",
       "      <td>121.48593904918,31.268556126592</td>\n",
       "    </tr>\n",
       "    <tr>\n",
       "      <th>1</th>\n",
       "      <td>2</td>\n",
       "      <td>14583</td>\n",
       "      <td>和源大楼</td>\n",
       "      <td>121.47417360118,31.271112531812</td>\n",
       "    </tr>\n",
       "    <tr>\n",
       "      <th>2</th>\n",
       "      <td>3</td>\n",
       "      <td>14584</td>\n",
       "      <td>财富中心</td>\n",
       "      <td>121.46979487834,31.259056541178</td>\n",
       "    </tr>\n",
       "    <tr>\n",
       "      <th>3</th>\n",
       "      <td>4</td>\n",
       "      <td>14602</td>\n",
       "      <td>科创动力</td>\n",
       "      <td>121.42412471181,31.181237621707</td>\n",
       "    </tr>\n",
       "    <tr>\n",
       "      <th>4</th>\n",
       "      <td>5</td>\n",
       "      <td>14613</td>\n",
       "      <td>绿地伯顿商务广场</td>\n",
       "      <td>121.25327636955,31.022714501392</td>\n",
       "    </tr>\n",
       "  </tbody>\n",
       "</table>\n",
       "</div>"
      ],
      "text/plain": [
       "   NewDiskID  PropertyID      name                      Coordinates\n",
       "0          1       14578    海伦国际大厦  121.48593904918,31.268556126592\n",
       "1          2       14583      和源大楼  121.47417360118,31.271112531812\n",
       "2          3       14584      财富中心  121.46979487834,31.259056541178\n",
       "3          4       14602      科创动力  121.42412471181,31.181237621707\n",
       "4          5       14613  绿地伯顿商务广场  121.25327636955,31.022714501392"
      ]
     },
     "execution_count": 68,
     "metadata": {},
     "output_type": "execute_result"
    }
   ],
   "source": [
    "# 获取经纬度信息\n",
    "newdisk_df=pd.read_csv('../数据/GC_dbo_AD_NewDisk.csv',usecols=['NewDiskID','PropertyID','NewDiskName','Coordinates'])\n",
    "newdisk_df.rename(columns={'NewDiskName':'name'},inplace=True)\n",
    "newdisk_df.dropna(inplace=True)\n",
    "newdisk_df.drop_duplicates('PropertyID',inplace=True)\n",
    "newdisk_df.head()"
   ]
  },
  {
   "cell_type": "code",
   "execution_count": 69,
   "metadata": {},
   "outputs": [
    {
     "data": {
      "text/html": [
       "<div>\n",
       "<table border=\"1\" class=\"dataframe\">\n",
       "  <thead>\n",
       "    <tr style=\"text-align: right;\">\n",
       "      <th></th>\n",
       "      <th>PropertyID</th>\n",
       "      <th>area</th>\n",
       "      <th>Plate</th>\n",
       "      <th>Module</th>\n",
       "      <th>name</th>\n",
       "    </tr>\n",
       "  </thead>\n",
       "  <tbody>\n",
       "    <tr>\n",
       "      <th>0</th>\n",
       "      <td>1</td>\n",
       "      <td>嘉定</td>\n",
       "      <td>安亭汽车城</td>\n",
       "      <td>外环以外</td>\n",
       "      <td>澳丽映象嘉园</td>\n",
       "    </tr>\n",
       "    <tr>\n",
       "      <th>1</th>\n",
       "      <td>2</td>\n",
       "      <td>普陀</td>\n",
       "      <td>武宁</td>\n",
       "      <td>内环以内</td>\n",
       "      <td>浅水湾恺悦名城</td>\n",
       "    </tr>\n",
       "    <tr>\n",
       "      <th>2</th>\n",
       "      <td>3</td>\n",
       "      <td>徐汇</td>\n",
       "      <td>徐汇中心</td>\n",
       "      <td>内环以内</td>\n",
       "      <td>青松小区</td>\n",
       "    </tr>\n",
       "    <tr>\n",
       "      <th>3</th>\n",
       "      <td>4</td>\n",
       "      <td>浦东</td>\n",
       "      <td>洋泾</td>\n",
       "      <td>内环以内</td>\n",
       "      <td>巨洋小区</td>\n",
       "    </tr>\n",
       "    <tr>\n",
       "      <th>4</th>\n",
       "      <td>5</td>\n",
       "      <td>金山</td>\n",
       "      <td>石化</td>\n",
       "      <td>外环以外</td>\n",
       "      <td>海趣馨苑</td>\n",
       "    </tr>\n",
       "  </tbody>\n",
       "</table>\n",
       "</div>"
      ],
      "text/plain": [
       "   PropertyID area  Plate Module     name\n",
       "0           1   嘉定  安亭汽车城   外环以外   澳丽映象嘉园\n",
       "1           2   普陀     武宁   内环以内  浅水湾恺悦名城\n",
       "2           3   徐汇   徐汇中心   内环以内     青松小区\n",
       "3           4   浦东     洋泾   内环以内     巨洋小区\n",
       "4           5   金山     石化   外环以外     海趣馨苑"
      ]
     },
     "execution_count": 69,
     "metadata": {},
     "output_type": "execute_result"
    }
   ],
   "source": [
    "# 获取板块、环线信息\n",
    "property_df=pd.read_csv('../数据/GC_dbo_AD_Property.csv',usecols=['PropertyID','Area','Plate','Module','HousingName'])\n",
    "property_df.rename(columns={'Area':'area','HousingName':'name'},inplace=True)\n",
    "property_df.head()"
   ]
  },
  {
   "cell_type": "code",
   "execution_count": 8,
   "metadata": {},
   "outputs": [
    {
     "data": {
      "text/html": [
       "<div>\n",
       "<table border=\"1\" class=\"dataframe\">\n",
       "  <thead>\n",
       "    <tr style=\"text-align: right;\">\n",
       "      <th></th>\n",
       "      <th>PropertyID</th>\n",
       "      <th>area</th>\n",
       "      <th>Plate</th>\n",
       "      <th>Module</th>\n",
       "      <th>name</th>\n",
       "      <th>Coordinates</th>\n",
       "    </tr>\n",
       "  </thead>\n",
       "  <tbody>\n",
       "    <tr>\n",
       "      <th>0</th>\n",
       "      <td>1</td>\n",
       "      <td>嘉定</td>\n",
       "      <td>安亭汽车城</td>\n",
       "      <td>外环以外</td>\n",
       "      <td>澳丽映象嘉园</td>\n",
       "      <td>121.15659808595,31.31139200258</td>\n",
       "    </tr>\n",
       "    <tr>\n",
       "      <th>1</th>\n",
       "      <td>2</td>\n",
       "      <td>普陀</td>\n",
       "      <td>武宁</td>\n",
       "      <td>内环以内</td>\n",
       "      <td>浅水湾恺悦名城</td>\n",
       "      <td>121.44773671616,31.255725959165</td>\n",
       "    </tr>\n",
       "    <tr>\n",
       "      <th>2</th>\n",
       "      <td>3</td>\n",
       "      <td>徐汇</td>\n",
       "      <td>徐汇中心</td>\n",
       "      <td>内环以内</td>\n",
       "      <td>青松小区</td>\n",
       "      <td>121.45489281368,31.203688194162</td>\n",
       "    </tr>\n",
       "    <tr>\n",
       "      <th>3</th>\n",
       "      <td>4</td>\n",
       "      <td>浦东</td>\n",
       "      <td>洋泾</td>\n",
       "      <td>内环以内</td>\n",
       "      <td>巨洋小区</td>\n",
       "      <td>121.55264713792,31.244887868785</td>\n",
       "    </tr>\n",
       "    <tr>\n",
       "      <th>4</th>\n",
       "      <td>5</td>\n",
       "      <td>金山</td>\n",
       "      <td>石化</td>\n",
       "      <td>外环以外</td>\n",
       "      <td>海趣馨苑</td>\n",
       "      <td>121.34017951087,30.752088574465</td>\n",
       "    </tr>\n",
       "  </tbody>\n",
       "</table>\n",
       "</div>"
      ],
      "text/plain": [
       "   PropertyID area  Plate Module     name                      Coordinates\n",
       "0           1   嘉定  安亭汽车城   外环以外   澳丽映象嘉园   121.15659808595,31.31139200258\n",
       "1           2   普陀     武宁   内环以内  浅水湾恺悦名城  121.44773671616,31.255725959165\n",
       "2           3   徐汇   徐汇中心   内环以内     青松小区  121.45489281368,31.203688194162\n",
       "3           4   浦东     洋泾   内环以内     巨洋小区  121.55264713792,31.244887868785\n",
       "4           5   金山     石化   外环以外     海趣馨苑  121.34017951087,30.752088574465"
      ]
     },
     "execution_count": 8,
     "metadata": {},
     "output_type": "execute_result"
    }
   ],
   "source": [
    "# merge them\n",
    "property_df=pd.merge(property_df,newdisk_df[['PropertyID','Coordinates']],on='PropertyID',how='inner')\n",
    "property_df.head()"
   ]
  },
  {
   "cell_type": "code",
   "execution_count": 10,
   "metadata": {
    "collapsed": true
   },
   "outputs": [],
   "source": [
    "# 小区名称清洗\n",
    "property_df.drop_duplicates(['area','name'],inplace=True)\n",
    "property_df.name=property_df.name.apply(name_filter)\n",
    "all_df.name=all_df.name.apply(name_filter)"
   ]
  },
  {
   "cell_type": "code",
   "execution_count": 113,
   "metadata": {
    "collapsed": true
   },
   "outputs": [],
   "source": [
    "# 合并信息\n",
    "all_df=pd.merge(all_df,property_df,on=['name','area'],how='inner')\n",
    "all_df.to_hdf('./cache/train.hdf','data')"
   ]
  },
  {
   "cell_type": "code",
   "execution_count": 2,
   "metadata": {},
   "outputs": [
    {
     "data": {
      "text/html": [
       "<div>\n",
       "<table border=\"1\" class=\"dataframe\">\n",
       "  <thead>\n",
       "    <tr style=\"text-align: right;\">\n",
       "      <th></th>\n",
       "      <th>area</th>\n",
       "      <th>address</th>\n",
       "      <th>name</th>\n",
       "      <th>price</th>\n",
       "      <th>unit_price</th>\n",
       "      <th>acreage</th>\n",
       "      <th>room_type</th>\n",
       "      <th>all_floor</th>\n",
       "      <th>floor</th>\n",
       "      <th>shore</th>\n",
       "      <th>house_type</th>\n",
       "      <th>fitment</th>\n",
       "      <th>time</th>\n",
       "      <th>Source</th>\n",
       "      <th>house_trait</th>\n",
       "      <th>month</th>\n",
       "      <th>PropertyID</th>\n",
       "      <th>Plate</th>\n",
       "      <th>Module</th>\n",
       "      <th>Coordinates</th>\n",
       "    </tr>\n",
       "  </thead>\n",
       "  <tbody>\n",
       "    <tr>\n",
       "      <th>0</th>\n",
       "      <td>浦东</td>\n",
       "      <td>城南路359号</td>\n",
       "      <td>东都小区</td>\n",
       "      <td>1920000.0</td>\n",
       "      <td>39024.0</td>\n",
       "      <td>49.2</td>\n",
       "      <td>2室1厅1厨1卫</td>\n",
       "      <td>5.0</td>\n",
       "      <td>4.0</td>\n",
       "      <td>南北</td>\n",
       "      <td>公寓</td>\n",
       "      <td>中装修</td>\n",
       "      <td>1986-01-01</td>\n",
       "      <td>房天下</td>\n",
       "      <td>普通住宅</td>\n",
       "      <td>1</td>\n",
       "      <td>4781</td>\n",
       "      <td>川沙</td>\n",
       "      <td>外环以外</td>\n",
       "      <td>121.70855449796,31.198134594037</td>\n",
       "    </tr>\n",
       "    <tr>\n",
       "      <th>1</th>\n",
       "      <td>浦东</td>\n",
       "      <td>城南路329弄</td>\n",
       "      <td>东都小区</td>\n",
       "      <td>1900000.0</td>\n",
       "      <td>38618.0</td>\n",
       "      <td>49.2</td>\n",
       "      <td>2室1厅1厨1卫</td>\n",
       "      <td>6.0</td>\n",
       "      <td>2.0</td>\n",
       "      <td>南北</td>\n",
       "      <td>公寓</td>\n",
       "      <td>中装修</td>\n",
       "      <td>1986-01-01</td>\n",
       "      <td>房天下</td>\n",
       "      <td>普通住宅</td>\n",
       "      <td>1</td>\n",
       "      <td>4781</td>\n",
       "      <td>川沙</td>\n",
       "      <td>外环以外</td>\n",
       "      <td>121.70855449796,31.198134594037</td>\n",
       "    </tr>\n",
       "    <tr>\n",
       "      <th>2</th>\n",
       "      <td>浦东</td>\n",
       "      <td>城南路341弄</td>\n",
       "      <td>东都小区</td>\n",
       "      <td>1920000.0</td>\n",
       "      <td>38400.0</td>\n",
       "      <td>50.0</td>\n",
       "      <td>2室1厅1厨1卫</td>\n",
       "      <td>6.0</td>\n",
       "      <td>2.0</td>\n",
       "      <td>南北</td>\n",
       "      <td>公寓</td>\n",
       "      <td>简装修</td>\n",
       "      <td>1992-01-01</td>\n",
       "      <td>房天下</td>\n",
       "      <td>普通住宅</td>\n",
       "      <td>1</td>\n",
       "      <td>4781</td>\n",
       "      <td>川沙</td>\n",
       "      <td>外环以外</td>\n",
       "      <td>121.70855449796,31.198134594037</td>\n",
       "    </tr>\n",
       "    <tr>\n",
       "      <th>3</th>\n",
       "      <td>浦东</td>\n",
       "      <td>城南路359号</td>\n",
       "      <td>东都小区</td>\n",
       "      <td>1850000.0</td>\n",
       "      <td>37000.0</td>\n",
       "      <td>50.0</td>\n",
       "      <td>1室1厅1厨1卫</td>\n",
       "      <td>6.0</td>\n",
       "      <td>6.0</td>\n",
       "      <td>南北</td>\n",
       "      <td>公寓</td>\n",
       "      <td>精装修</td>\n",
       "      <td>1983-01-01</td>\n",
       "      <td>房天下</td>\n",
       "      <td>普通住宅</td>\n",
       "      <td>1</td>\n",
       "      <td>4781</td>\n",
       "      <td>川沙</td>\n",
       "      <td>外环以外</td>\n",
       "      <td>121.70855449796,31.198134594037</td>\n",
       "    </tr>\n",
       "    <tr>\n",
       "      <th>4</th>\n",
       "      <td>浦东</td>\n",
       "      <td>城南路359号</td>\n",
       "      <td>东都小区</td>\n",
       "      <td>1920000.0</td>\n",
       "      <td>39184.0</td>\n",
       "      <td>49.0</td>\n",
       "      <td>2室1厅1厨1卫</td>\n",
       "      <td>5.0</td>\n",
       "      <td>4.0</td>\n",
       "      <td>南</td>\n",
       "      <td>公寓</td>\n",
       "      <td>中装修</td>\n",
       "      <td>1986-01-01</td>\n",
       "      <td>房天下</td>\n",
       "      <td>普通住宅</td>\n",
       "      <td>1</td>\n",
       "      <td>4781</td>\n",
       "      <td>川沙</td>\n",
       "      <td>外环以外</td>\n",
       "      <td>121.70855449796,31.198134594037</td>\n",
       "    </tr>\n",
       "  </tbody>\n",
       "</table>\n",
       "</div>"
      ],
      "text/plain": [
       "  area  address  name      price  unit_price  acreage room_type  all_floor  \\\n",
       "0   浦东  城南路359号  东都小区  1920000.0     39024.0     49.2  2室1厅1厨1卫        5.0   \n",
       "1   浦东  城南路329弄  东都小区  1900000.0     38618.0     49.2  2室1厅1厨1卫        6.0   \n",
       "2   浦东  城南路341弄  东都小区  1920000.0     38400.0     50.0  2室1厅1厨1卫        6.0   \n",
       "3   浦东  城南路359号  东都小区  1850000.0     37000.0     50.0  1室1厅1厨1卫        6.0   \n",
       "4   浦东  城南路359号  东都小区  1920000.0     39184.0     49.0  2室1厅1厨1卫        5.0   \n",
       "\n",
       "   floor shore house_type fitment        time Source house_trait  month  \\\n",
       "0    4.0    南北         公寓     中装修  1986-01-01    房天下        普通住宅      1   \n",
       "1    2.0    南北         公寓     中装修  1986-01-01    房天下        普通住宅      1   \n",
       "2    2.0    南北         公寓     简装修  1992-01-01    房天下        普通住宅      1   \n",
       "3    6.0    南北         公寓     精装修  1983-01-01    房天下        普通住宅      1   \n",
       "4    4.0     南         公寓     中装修  1986-01-01    房天下        普通住宅      1   \n",
       "\n",
       "   PropertyID Plate Module                      Coordinates  \n",
       "0        4781    川沙   外环以外  121.70855449796,31.198134594037  \n",
       "1        4781    川沙   外环以外  121.70855449796,31.198134594037  \n",
       "2        4781    川沙   外环以外  121.70855449796,31.198134594037  \n",
       "3        4781    川沙   外环以外  121.70855449796,31.198134594037  \n",
       "4        4781    川沙   外环以外  121.70855449796,31.198134594037  "
      ]
     },
     "execution_count": 2,
     "metadata": {},
     "output_type": "execute_result"
    }
   ],
   "source": [
    "all_df=pd.read_hdf('./cache/train.hdf','data')\n",
    "all_df.head()"
   ]
  },
  {
   "cell_type": "code",
   "execution_count": 3,
   "metadata": {
    "collapsed": true
   },
   "outputs": [],
   "source": [
    "# 转换数值类型\n",
    "numerical_columns=['price','unit_price','acreage','all_floor','floor'] # str->float\n",
    "all_df[numerical_columns]=all_df[numerical_columns].astype(float)"
   ]
  },
  {
   "cell_type": "code",
   "execution_count": 4,
   "metadata": {},
   "outputs": [
    {
     "data": {
      "text/html": [
       "<div>\n",
       "<table border=\"1\" class=\"dataframe\">\n",
       "  <thead>\n",
       "    <tr style=\"text-align: right;\">\n",
       "      <th></th>\n",
       "      <th>price</th>\n",
       "      <th>unit_price</th>\n",
       "      <th>acreage</th>\n",
       "      <th>all_floor</th>\n",
       "      <th>floor</th>\n",
       "    </tr>\n",
       "  </thead>\n",
       "  <tbody>\n",
       "    <tr>\n",
       "      <th>count</th>\n",
       "      <td>3.480067e+06</td>\n",
       "      <td>3.480067e+06</td>\n",
       "      <td>3.480067e+06</td>\n",
       "      <td>3.480067e+06</td>\n",
       "      <td>3.480067e+06</td>\n",
       "    </tr>\n",
       "    <tr>\n",
       "      <th>mean</th>\n",
       "      <td>5.548903e+06</td>\n",
       "      <td>5.504989e+04</td>\n",
       "      <td>9.601145e+01</td>\n",
       "      <td>1.110598e+01</td>\n",
       "      <td>5.283538e+00</td>\n",
       "    </tr>\n",
       "    <tr>\n",
       "      <th>std</th>\n",
       "      <td>7.559677e+06</td>\n",
       "      <td>2.932402e+04</td>\n",
       "      <td>7.650108e+01</td>\n",
       "      <td>8.573028e+00</td>\n",
       "      <td>5.555178e+00</td>\n",
       "    </tr>\n",
       "    <tr>\n",
       "      <th>min</th>\n",
       "      <td>4.500000e+01</td>\n",
       "      <td>2.798000e+03</td>\n",
       "      <td>2.100000e+00</td>\n",
       "      <td>0.000000e+00</td>\n",
       "      <td>-5.000000e+00</td>\n",
       "    </tr>\n",
       "    <tr>\n",
       "      <th>25%</th>\n",
       "      <td>2.700000e+06</td>\n",
       "      <td>4.042600e+04</td>\n",
       "      <td>5.611000e+01</td>\n",
       "      <td>6.000000e+00</td>\n",
       "      <td>2.000000e+00</td>\n",
       "    </tr>\n",
       "    <tr>\n",
       "      <th>50%</th>\n",
       "      <td>3.800000e+06</td>\n",
       "      <td>5.314800e+04</td>\n",
       "      <td>7.992000e+01</td>\n",
       "      <td>6.000000e+00</td>\n",
       "      <td>3.000000e+00</td>\n",
       "    </tr>\n",
       "    <tr>\n",
       "      <th>75%</th>\n",
       "      <td>6.000000e+06</td>\n",
       "      <td>6.590950e+04</td>\n",
       "      <td>1.090000e+02</td>\n",
       "      <td>1.500000e+01</td>\n",
       "      <td>6.000000e+00</td>\n",
       "    </tr>\n",
       "    <tr>\n",
       "      <th>max</th>\n",
       "      <td>9.999900e+08</td>\n",
       "      <td>1.101909e+07</td>\n",
       "      <td>4.388000e+03</td>\n",
       "      <td>9.000000e+01</td>\n",
       "      <td>6.300000e+01</td>\n",
       "    </tr>\n",
       "  </tbody>\n",
       "</table>\n",
       "</div>"
      ],
      "text/plain": [
       "              price    unit_price       acreage     all_floor         floor\n",
       "count  3.480067e+06  3.480067e+06  3.480067e+06  3.480067e+06  3.480067e+06\n",
       "mean   5.548903e+06  5.504989e+04  9.601145e+01  1.110598e+01  5.283538e+00\n",
       "std    7.559677e+06  2.932402e+04  7.650108e+01  8.573028e+00  5.555178e+00\n",
       "min    4.500000e+01  2.798000e+03  2.100000e+00  0.000000e+00 -5.000000e+00\n",
       "25%    2.700000e+06  4.042600e+04  5.611000e+01  6.000000e+00  2.000000e+00\n",
       "50%    3.800000e+06  5.314800e+04  7.992000e+01  6.000000e+00  3.000000e+00\n",
       "75%    6.000000e+06  6.590950e+04  1.090000e+02  1.500000e+01  6.000000e+00\n",
       "max    9.999900e+08  1.101909e+07  4.388000e+03  9.000000e+01  6.300000e+01"
      ]
     },
     "execution_count": 4,
     "metadata": {},
     "output_type": "execute_result"
    }
   ],
   "source": [
    "all_df[numerical_columns].describe()"
   ]
  },
  {
   "cell_type": "code",
   "execution_count": 5,
   "metadata": {},
   "outputs": [
    {
     "data": {
      "text/plain": [
       "<matplotlib.axes._subplots.AxesSubplot at 0x21944e6a0>"
      ]
     },
     "execution_count": 5,
     "metadata": {},
     "output_type": "execute_result"
    },
    {
     "data": {
      "image/png": "[encoded data removed]",
      "text/plain": [
       "<matplotlib.figure.Figure at 0x1108947b8>"
      ]
     },
     "metadata": {
      "image/png": {
       "height": 465,
       "width": 458
      }
     },
     "output_type": "display_data"
    }
   ],
   "source": [
    "# 变量间相关性\n",
    "sns.set({'figure.figsize':(8,8)})\n",
    "sns.heatmap(all_df.corr(),annot=True)"
   ]
  },
  {
   "cell_type": "markdown",
   "metadata": {},
   "source": [
    "## 特征预处理"
   ]
  },
  {
   "cell_type": "markdown",
   "metadata": {},
   "source": [
    "* 修正面积"
   ]
  },
  {
   "cell_type": "code",
   "execution_count": 6,
   "metadata": {},
   "outputs": [
    {
     "name": "stdout",
     "output_type": "stream",
     "text": [
      "count    3.480067e+06\n",
      "mean     9.601145e+01\n",
      "std      7.650108e+01\n",
      "min      2.100000e+00\n",
      "25%      5.611000e+01\n",
      "50%      7.992000e+01\n",
      "75%      1.090000e+02\n",
      "max      4.388000e+03\n",
      "Name: acreage, dtype: float64\n"
     ]
    },
    {
     "data": {
      "text/plain": [
       "<matplotlib.axes._subplots.AxesSubplot at 0x1229ca0f0>"
      ]
     },
     "execution_count": 6,
     "metadata": {},
     "output_type": "execute_result"
    },
    {
     "data": {
      "image/png": "[encoded data removed]",
      "text/plain": [
       "<matplotlib.figure.Figure at 0x123090198>"
      ]
     },
     "metadata": {
      "image/png": {
       "height": 248,
       "width": 501
      }
     },
     "output_type": "display_data"
    }
   ],
   "source": [
    "print(all_df.acreage.describe())\n",
    "sns.set({'figure.figsize':(8,4)})\n",
    "np.log(all_df.acreage).hist(bins=100) # log化处理偏态数据"
   ]
  },
  {
   "cell_type": "code",
   "execution_count": 7,
   "metadata": {},
   "outputs": [
    {
     "name": "stdout",
     "output_type": "stream",
     "text": [
      "修正前：6.746596\n",
      "修正后：0.598935\n"
     ]
    }
   ],
   "source": [
    "# 计算偏度\n",
    "print('修正前：%f'%skew(all_df.acreage))\n",
    "print('修正后：%f'%skew(np.log(all_df.acreage)))"
   ]
  },
  {
   "cell_type": "code",
   "execution_count": 8,
   "metadata": {
    "scrolled": false
   },
   "outputs": [
    {
     "data": {
      "text/plain": [
       "count    2.848865e+06\n",
       "mean     9.263810e+01\n",
       "std      3.678711e+01\n",
       "min      4.739000e+01\n",
       "25%      6.500000e+01\n",
       "50%      8.500000e+01\n",
       "75%      1.100000e+02\n",
       "max      2.386600e+02\n",
       "Name: acreage, dtype: float64"
      ]
     },
     "execution_count": 8,
     "metadata": {},
     "output_type": "execute_result"
    },
    {
     "data": {
      "image/png": "[encoded data removed]",
      "text/plain": [
       "<matplotlib.figure.Figure at 0x1238b9ac8>"
      ]
     },
     "metadata": {
      "image/png": {
       "height": 262,
       "width": 460
      }
     },
     "output_type": "display_data"
    }
   ],
   "source": [
    "acreage_log=np.log(all_df.acreage)\n",
    "mean=acreage_log.mean()\n",
    "std=acreage_log.std()\n",
    "i=acreage_log[(acreage_log<=mean+2*std)&(acreage_log>=mean-1*std)].index\n",
    "sns.set({'figure.figsize':(8,4)})\n",
    "sns.boxplot(all_df.loc[i].acreage)\n",
    "all_df.loc[i].acreage.describe()"
   ]
  },
  {
   "cell_type": "code",
   "execution_count": 9,
   "metadata": {
    "collapsed": true
   },
   "outputs": [],
   "source": [
    "all_df=all_df.loc[i]"
   ]
  },
  {
   "cell_type": "markdown",
   "metadata": {},
   "source": [
    "* 修正单价"
   ]
  },
  {
   "cell_type": "code",
   "execution_count": 10,
   "metadata": {},
   "outputs": [
    {
     "name": "stdout",
     "output_type": "stream",
     "text": [
      "count    2.848865e+06\n",
      "mean     5.346441e+04\n",
      "std      2.434708e+04\n",
      "min      2.798000e+03\n",
      "25%      3.958300e+04\n",
      "50%      5.196100e+04\n",
      "75%      6.440000e+04\n",
      "max      9.523714e+06\n",
      "Name: unit_price, dtype: float64\n"
     ]
    },
    {
     "data": {
      "text/plain": [
       "<matplotlib.axes._subplots.AxesSubplot at 0x109ea6860>"
      ]
     },
     "execution_count": 10,
     "metadata": {},
     "output_type": "execute_result"
    },
    {
     "data": {
      "image/png": "[encoded data removed]",
      "text/plain": [
       "<matplotlib.figure.Figure at 0x10b29a6a0>"
      ]
     },
     "metadata": {
      "image/png": {
       "height": 248,
       "width": 501
      }
     },
     "output_type": "display_data"
    }
   ],
   "source": [
    "print(all_df.unit_price.describe())\n",
    "np.log(all_df.unit_price).hist(bins=100)"
   ]
  },
  {
   "cell_type": "code",
   "execution_count": 11,
   "metadata": {},
   "outputs": [
    {
     "name": "stdout",
     "output_type": "stream",
     "text": [
      "修正前：73.207969\n",
      "修正后：-0.665131\n"
     ]
    }
   ],
   "source": [
    "# 计算偏度\n",
    "print('修正前：%f'%skew(all_df.unit_price))\n",
    "print('修正后：%f'%skew(np.log(all_df.unit_price)))"
   ]
  },
  {
   "cell_type": "code",
   "execution_count": 12,
   "metadata": {},
   "outputs": [
    {
     "data": {
      "text/plain": [
       "count    2.827755e+06\n",
       "mean     5.365555e+04\n",
       "std      1.911448e+04\n",
       "min      1.408300e+04\n",
       "25%      3.987700e+04\n",
       "50%      5.210100e+04\n",
       "75%      6.451600e+04\n",
       "max      1.621620e+05\n",
       "Name: unit_price, dtype: float64"
      ]
     },
     "execution_count": 12,
     "metadata": {},
     "output_type": "execute_result"
    },
    {
     "data": {
      "image/png": "[encoded data removed]",
      "text/plain": [
       "<matplotlib.figure.Figure at 0x12315d9e8>"
      ]
     },
     "metadata": {
      "image/png": {
       "height": 262,
       "width": 460
      }
     },
     "output_type": "display_data"
    }
   ],
   "source": [
    "unit_price_log=np.log(all_df.unit_price)\n",
    "mean=unit_price_log.mean()\n",
    "std=unit_price_log.std()\n",
    "i=unit_price_log[(unit_price_log<=mean+3*std)&(unit_price_log>=mean-3.2*std)].index\n",
    "sns.set({'figure.figsize':(8,4)})\n",
    "sns.boxplot(all_df.loc[i].unit_price)\n",
    "all_df.loc[i].unit_price.describe()"
   ]
  },
  {
   "cell_type": "code",
   "execution_count": 13,
   "metadata": {
    "collapsed": true
   },
   "outputs": [],
   "source": [
    "all_df=all_df.loc[i]"
   ]
  },
  {
   "cell_type": "markdown",
   "metadata": {},
   "source": [
    "* 修复总价"
   ]
  },
  {
   "cell_type": "code",
   "execution_count": 14,
   "metadata": {
    "collapsed": true
   },
   "outputs": [],
   "source": [
    "# 修复总价单位误差\n",
    "all_df.loc[all_df.price<=10000,'price']*=10000"
   ]
  },
  {
   "cell_type": "code",
   "execution_count": 15,
   "metadata": {},
   "outputs": [
    {
     "data": {
      "text/plain": [
       "<matplotlib.axes._subplots.AxesSubplot at 0x109ead978>"
      ]
     },
     "execution_count": 15,
     "metadata": {},
     "output_type": "execute_result"
    },
    {
     "data": {
      "image/png": "[encoded data removed]",
      "text/plain": [
       "<matplotlib.figure.Figure at 0x123166cf8>"
      ]
     },
     "metadata": {
      "image/png": {
       "height": 260,
       "width": 460
      }
     },
     "output_type": "display_data"
    }
   ],
   "source": [
    "# 差价分布\n",
    "anomaly_price=np.abs(all_df.unit_price*all_df.acreage-all_df.price)\n",
    "sns.set({'figure.figsize':(8,4)})\n",
    "sns.boxplot(anomaly_price)"
   ]
  },
  {
   "cell_type": "code",
   "execution_count": 16,
   "metadata": {},
   "outputs": [
    {
     "data": {
      "text/plain": [
       "1795577      100076.00\n",
       "1174883      101466.30\n",
       "2233382      106599.68\n",
       "2898464      112371.50\n",
       "1796312      120995.84\n",
       "43695        123206.00\n",
       "1370142      126760.80\n",
       "3468122      158114.00\n",
       "1767766      200370.20\n",
       "1376031      232134.60\n",
       "2604270      259993.22\n",
       "2604285      259993.22\n",
       "854398       300014.28\n",
       "854082       300014.28\n",
       "853961       300014.28\n",
       "1887414      359189.47\n",
       "2541108      478614.47\n",
       "1006932      554942.00\n",
       "902355      1100625.00\n",
       "1378381     1757339.60\n",
       "3456036    13837722.04\n",
       "dtype: float64"
      ]
     },
     "execution_count": 16,
     "metadata": {},
     "output_type": "execute_result"
    }
   ],
   "source": [
    "anomaly_price_index=anomaly_price[anomaly_price>100000].index # 差价太多为异常点\n",
    "anomaly_price[anomaly_price_index].sort_values()"
   ]
  },
  {
   "cell_type": "code",
   "execution_count": 17,
   "metadata": {
    "collapsed": true
   },
   "outputs": [],
   "source": [
    "# 修正异常的总价\n",
    "# train.loc[anomaly_price_index,'price']=train.loc[anomaly_price_index,'unit_price']*train.loc[anomaly_price_index,'acreage']\n",
    "\n",
    "# 直接删除异常样本\n",
    "all_df.drop(anomaly_price_index,axis=0,inplace=True)"
   ]
  },
  {
   "cell_type": "code",
   "execution_count": 18,
   "metadata": {
    "scrolled": false
   },
   "outputs": [
    {
     "data": {
      "text/html": [
       "<div>\n",
       "<table border=\"1\" class=\"dataframe\">\n",
       "  <thead>\n",
       "    <tr style=\"text-align: right;\">\n",
       "      <th></th>\n",
       "      <th>area</th>\n",
       "      <th>address</th>\n",
       "      <th>name</th>\n",
       "      <th>price</th>\n",
       "      <th>unit_price</th>\n",
       "      <th>acreage</th>\n",
       "      <th>room_type</th>\n",
       "      <th>all_floor</th>\n",
       "      <th>floor</th>\n",
       "      <th>shore</th>\n",
       "      <th>house_type</th>\n",
       "      <th>fitment</th>\n",
       "      <th>time</th>\n",
       "      <th>Source</th>\n",
       "      <th>house_trait</th>\n",
       "      <th>month</th>\n",
       "      <th>PropertyID</th>\n",
       "      <th>Plate</th>\n",
       "      <th>Module</th>\n",
       "      <th>Coordinates</th>\n",
       "    </tr>\n",
       "  </thead>\n",
       "  <tbody>\n",
       "    <tr>\n",
       "      <th>3452572</th>\n",
       "      <td>奉贤</td>\n",
       "      <td>奉城邮电路421弄</td>\n",
       "      <td>奉铭佳苑</td>\n",
       "      <td>680000.0</td>\n",
       "      <td>14167.0</td>\n",
       "      <td>48.00</td>\n",
       "      <td>2室1厅1卫</td>\n",
       "      <td>19.0</td>\n",
       "      <td>14.0</td>\n",
       "      <td>南北</td>\n",
       "      <td>公寓</td>\n",
       "      <td>精装修</td>\n",
       "      <td>2011-01-01</td>\n",
       "      <td>房天下</td>\n",
       "      <td>普通住宅</td>\n",
       "      <td>9</td>\n",
       "      <td>15449</td>\n",
       "      <td>奉城</td>\n",
       "      <td>外环以外</td>\n",
       "      <td>121.07160410165,30.937525261652</td>\n",
       "    </tr>\n",
       "    <tr>\n",
       "      <th>3170884</th>\n",
       "      <td>嘉定</td>\n",
       "      <td>和静路1188弄</td>\n",
       "      <td>红湖小区</td>\n",
       "      <td>680000.0</td>\n",
       "      <td>14167.0</td>\n",
       "      <td>48.00</td>\n",
       "      <td>1室1厅1厨1卫</td>\n",
       "      <td>6.0</td>\n",
       "      <td>2.0</td>\n",
       "      <td>南</td>\n",
       "      <td>公寓</td>\n",
       "      <td>精装修</td>\n",
       "      <td>2000-01-01</td>\n",
       "      <td>房天下</td>\n",
       "      <td>普通住宅</td>\n",
       "      <td>3</td>\n",
       "      <td>3965</td>\n",
       "      <td>安亭汽车城</td>\n",
       "      <td>外环以外</td>\n",
       "      <td>121.16581491967,31.307232256388</td>\n",
       "    </tr>\n",
       "    <tr>\n",
       "      <th>3355468</th>\n",
       "      <td>奉贤</td>\n",
       "      <td>南明路191号</td>\n",
       "      <td>青村小镇</td>\n",
       "      <td>680000.0</td>\n",
       "      <td>14167.0</td>\n",
       "      <td>48.00</td>\n",
       "      <td>2室1厅1卫</td>\n",
       "      <td>6.0</td>\n",
       "      <td>4.0</td>\n",
       "      <td>南</td>\n",
       "      <td>公寓</td>\n",
       "      <td>精装修</td>\n",
       "      <td>2000-01-01</td>\n",
       "      <td>房天下</td>\n",
       "      <td>普通住宅</td>\n",
       "      <td>8</td>\n",
       "      <td>672</td>\n",
       "      <td>奉贤其它</td>\n",
       "      <td>外环以外</td>\n",
       "      <td>121.5454573782,30.874789949594</td>\n",
       "    </tr>\n",
       "    <tr>\n",
       "      <th>3355482</th>\n",
       "      <td>奉贤</td>\n",
       "      <td>南明路99号</td>\n",
       "      <td>青村小镇</td>\n",
       "      <td>680000.0</td>\n",
       "      <td>14167.0</td>\n",
       "      <td>48.00</td>\n",
       "      <td>2室1厅1卫</td>\n",
       "      <td>6.0</td>\n",
       "      <td>4.0</td>\n",
       "      <td>南</td>\n",
       "      <td>公寓</td>\n",
       "      <td>精装修</td>\n",
       "      <td>2000-01-01</td>\n",
       "      <td>房天下</td>\n",
       "      <td>普通住宅</td>\n",
       "      <td>8</td>\n",
       "      <td>672</td>\n",
       "      <td>奉贤其它</td>\n",
       "      <td>外环以外</td>\n",
       "      <td>121.5454573782,30.874789949594</td>\n",
       "    </tr>\n",
       "    <tr>\n",
       "      <th>3355530</th>\n",
       "      <td>奉贤</td>\n",
       "      <td>南明路99号</td>\n",
       "      <td>青村小镇</td>\n",
       "      <td>680000.0</td>\n",
       "      <td>14167.0</td>\n",
       "      <td>48.00</td>\n",
       "      <td>2室1厅1卫</td>\n",
       "      <td>6.0</td>\n",
       "      <td>4.0</td>\n",
       "      <td>南</td>\n",
       "      <td>公寓</td>\n",
       "      <td>精装修</td>\n",
       "      <td>2000-01-01</td>\n",
       "      <td>房天下</td>\n",
       "      <td>普通住宅</td>\n",
       "      <td>9</td>\n",
       "      <td>672</td>\n",
       "      <td>奉贤其它</td>\n",
       "      <td>外环以外</td>\n",
       "      <td>121.5454573782,30.874789949594</td>\n",
       "    </tr>\n",
       "    <tr>\n",
       "      <th>2926754</th>\n",
       "      <td>长宁</td>\n",
       "      <td>华山路1038弄</td>\n",
       "      <td>嘉里华庭</td>\n",
       "      <td>38000000.0</td>\n",
       "      <td>159771.0</td>\n",
       "      <td>237.84</td>\n",
       "      <td>4室2厅3卫</td>\n",
       "      <td>35.0</td>\n",
       "      <td>31.0</td>\n",
       "      <td>南</td>\n",
       "      <td>公寓</td>\n",
       "      <td>精装</td>\n",
       "      <td>2006-01-01</td>\n",
       "      <td>链家</td>\n",
       "      <td>公寓</td>\n",
       "      <td>6</td>\n",
       "      <td>12680</td>\n",
       "      <td>新华路</td>\n",
       "      <td>内环以内</td>\n",
       "      <td>121.44243002127,31.218649238629</td>\n",
       "    </tr>\n",
       "    <tr>\n",
       "      <th>2927247</th>\n",
       "      <td>长宁</td>\n",
       "      <td>华山路1038弄</td>\n",
       "      <td>嘉里华庭</td>\n",
       "      <td>38000000.0</td>\n",
       "      <td>159771.0</td>\n",
       "      <td>237.84</td>\n",
       "      <td>4室2厅</td>\n",
       "      <td>35.0</td>\n",
       "      <td>29.0</td>\n",
       "      <td>南</td>\n",
       "      <td>公寓</td>\n",
       "      <td>精装</td>\n",
       "      <td>2006-01-01</td>\n",
       "      <td>链家</td>\n",
       "      <td>住宅-公寓</td>\n",
       "      <td>9</td>\n",
       "      <td>12680</td>\n",
       "      <td>新华路</td>\n",
       "      <td>内环以内</td>\n",
       "      <td>121.44243002127,31.218649238629</td>\n",
       "    </tr>\n",
       "    <tr>\n",
       "      <th>2926685</th>\n",
       "      <td>长宁</td>\n",
       "      <td>华山路1038弄</td>\n",
       "      <td>嘉里华庭</td>\n",
       "      <td>38000000.0</td>\n",
       "      <td>159771.0</td>\n",
       "      <td>237.84</td>\n",
       "      <td>4室2厅3卫</td>\n",
       "      <td>35.0</td>\n",
       "      <td>24.0</td>\n",
       "      <td>南</td>\n",
       "      <td>公寓</td>\n",
       "      <td>精装</td>\n",
       "      <td>2006-01-01</td>\n",
       "      <td>链家</td>\n",
       "      <td>公寓</td>\n",
       "      <td>5</td>\n",
       "      <td>12680</td>\n",
       "      <td>新华路</td>\n",
       "      <td>内环以内</td>\n",
       "      <td>121.44243002127,31.218649238629</td>\n",
       "    </tr>\n",
       "    <tr>\n",
       "      <th>2926462</th>\n",
       "      <td>长宁</td>\n",
       "      <td>华山路1038弄166-170号</td>\n",
       "      <td>嘉里华庭</td>\n",
       "      <td>38000000.0</td>\n",
       "      <td>159771.0</td>\n",
       "      <td>237.84</td>\n",
       "      <td>4室2厅1厨3卫</td>\n",
       "      <td>35.0</td>\n",
       "      <td>11.0</td>\n",
       "      <td>南北</td>\n",
       "      <td>公寓</td>\n",
       "      <td>精装修</td>\n",
       "      <td>2005-01-01</td>\n",
       "      <td>房天下</td>\n",
       "      <td>普通住宅</td>\n",
       "      <td>4</td>\n",
       "      <td>12680</td>\n",
       "      <td>新华路</td>\n",
       "      <td>内环以内</td>\n",
       "      <td>121.44243002127,31.218649238629</td>\n",
       "    </tr>\n",
       "    <tr>\n",
       "      <th>2926315</th>\n",
       "      <td>长宁</td>\n",
       "      <td>华山路1038弄</td>\n",
       "      <td>嘉里华庭</td>\n",
       "      <td>38000000.0</td>\n",
       "      <td>159771.0</td>\n",
       "      <td>237.84</td>\n",
       "      <td>4室2厅3卫</td>\n",
       "      <td>35.0</td>\n",
       "      <td>29.0</td>\n",
       "      <td>南</td>\n",
       "      <td>公寓</td>\n",
       "      <td>精装</td>\n",
       "      <td>2006-01-01</td>\n",
       "      <td>链家</td>\n",
       "      <td>公寓</td>\n",
       "      <td>3</td>\n",
       "      <td>12680</td>\n",
       "      <td>新华路</td>\n",
       "      <td>内环以内</td>\n",
       "      <td>121.44243002127,31.218649238629</td>\n",
       "    </tr>\n",
       "  </tbody>\n",
       "</table>\n",
       "</div>"
      ],
      "text/plain": [
       "        area           address  name       price  unit_price  acreage  \\\n",
       "3452572   奉贤         奉城邮电路421弄  奉铭佳苑    680000.0     14167.0    48.00   \n",
       "3170884   嘉定          和静路1188弄  红湖小区    680000.0     14167.0    48.00   \n",
       "3355468   奉贤           南明路191号  青村小镇    680000.0     14167.0    48.00   \n",
       "3355482   奉贤            南明路99号  青村小镇    680000.0     14167.0    48.00   \n",
       "3355530   奉贤            南明路99号  青村小镇    680000.0     14167.0    48.00   \n",
       "2926754   长宁          华山路1038弄  嘉里华庭  38000000.0    159771.0   237.84   \n",
       "2927247   长宁          华山路1038弄  嘉里华庭  38000000.0    159771.0   237.84   \n",
       "2926685   长宁          华山路1038弄  嘉里华庭  38000000.0    159771.0   237.84   \n",
       "2926462   长宁  华山路1038弄166-170号  嘉里华庭  38000000.0    159771.0   237.84   \n",
       "2926315   长宁          华山路1038弄  嘉里华庭  38000000.0    159771.0   237.84   \n",
       "\n",
       "        room_type  all_floor  floor shore house_type fitment        time  \\\n",
       "3452572    2室1厅1卫       19.0   14.0    南北         公寓     精装修  2011-01-01   \n",
       "3170884  1室1厅1厨1卫        6.0    2.0     南         公寓     精装修  2000-01-01   \n",
       "3355468    2室1厅1卫        6.0    4.0     南         公寓     精装修  2000-01-01   \n",
       "3355482    2室1厅1卫        6.0    4.0     南         公寓     精装修  2000-01-01   \n",
       "3355530    2室1厅1卫        6.0    4.0     南         公寓     精装修  2000-01-01   \n",
       "2926754    4室2厅3卫       35.0   31.0     南         公寓      精装  2006-01-01   \n",
       "2927247      4室2厅       35.0   29.0     南         公寓      精装  2006-01-01   \n",
       "2926685    4室2厅3卫       35.0   24.0     南         公寓      精装  2006-01-01   \n",
       "2926462  4室2厅1厨3卫       35.0   11.0    南北         公寓     精装修  2005-01-01   \n",
       "2926315    4室2厅3卫       35.0   29.0     南         公寓      精装  2006-01-01   \n",
       "\n",
       "        Source house_trait  month  PropertyID  Plate Module  \\\n",
       "3452572    房天下        普通住宅      9       15449     奉城   外环以外   \n",
       "3170884    房天下        普通住宅      3        3965  安亭汽车城   外环以外   \n",
       "3355468    房天下        普通住宅      8         672   奉贤其它   外环以外   \n",
       "3355482    房天下        普通住宅      8         672   奉贤其它   外环以外   \n",
       "3355530    房天下        普通住宅      9         672   奉贤其它   外环以外   \n",
       "2926754     链家          公寓      6       12680    新华路   内环以内   \n",
       "2927247     链家       住宅-公寓      9       12680    新华路   内环以内   \n",
       "2926685     链家          公寓      5       12680    新华路   内环以内   \n",
       "2926462    房天下        普通住宅      4       12680    新华路   内环以内   \n",
       "2926315     链家          公寓      3       12680    新华路   内环以内   \n",
       "\n",
       "                             Coordinates  \n",
       "3452572  121.07160410165,30.937525261652  \n",
       "3170884  121.16581491967,31.307232256388  \n",
       "3355468   121.5454573782,30.874789949594  \n",
       "3355482   121.5454573782,30.874789949594  \n",
       "3355530   121.5454573782,30.874789949594  \n",
       "2926754  121.44243002127,31.218649238629  \n",
       "2927247  121.44243002127,31.218649238629  \n",
       "2926685  121.44243002127,31.218649238629  \n",
       "2926462  121.44243002127,31.218649238629  \n",
       "2926315  121.44243002127,31.218649238629  "
      ]
     },
     "execution_count": 18,
     "metadata": {},
     "output_type": "execute_result"
    }
   ],
   "source": [
    "# 最便宜小区和最贵小区分布\n",
    "i=all_df.price.sort_values()\n",
    "all_df.loc[pd.concat((i.head(),i.tail())).index]"
   ]
  },
  {
   "cell_type": "code",
   "execution_count": 19,
   "metadata": {},
   "outputs": [
    {
     "data": {
      "text/plain": [
       "1754267    89998.30\n",
       "419321     81497.00\n",
       "1036322    80280.00\n",
       "1602669    78459.70\n",
       "819614     75397.76\n",
       "2590325    68875.00\n",
       "242697     68750.00\n",
       "1735994    62612.00\n",
       "2443064    61506.25\n",
       "1408511    60916.00\n",
       "dtype: float64"
      ]
     },
     "execution_count": 19,
     "metadata": {},
     "output_type": "execute_result"
    }
   ],
   "source": [
    "# 修复后，差价都在合理范围内?\n",
    "np.abs(all_df.unit_price*all_df.acreage-all_df.price).sort_values(ascending=False)[:10]"
   ]
  },
  {
   "cell_type": "markdown",
   "metadata": {},
   "source": [
    "* 地区因素"
   ]
  },
  {
   "cell_type": "code",
   "execution_count": 20,
   "metadata": {},
   "outputs": [
    {
     "data": {
      "text/html": [
       "<div>\n",
       "<table border=\"1\" class=\"dataframe\">\n",
       "  <thead>\n",
       "    <tr style=\"text-align: right;\">\n",
       "      <th></th>\n",
       "      <th>unit_price</th>\n",
       "    </tr>\n",
       "    <tr>\n",
       "      <th>area</th>\n",
       "      <th></th>\n",
       "    </tr>\n",
       "  </thead>\n",
       "  <tbody>\n",
       "    <tr>\n",
       "      <th>金山</th>\n",
       "      <td>19944.453228</td>\n",
       "    </tr>\n",
       "    <tr>\n",
       "      <th>崇明</th>\n",
       "      <td>24161.149679</td>\n",
       "    </tr>\n",
       "    <tr>\n",
       "      <th>奉贤</th>\n",
       "      <td>26959.897533</td>\n",
       "    </tr>\n",
       "    <tr>\n",
       "      <th>青浦</th>\n",
       "      <td>32490.803562</td>\n",
       "    </tr>\n",
       "    <tr>\n",
       "      <th>嘉定</th>\n",
       "      <td>36166.079650</td>\n",
       "    </tr>\n",
       "    <tr>\n",
       "      <th>松江</th>\n",
       "      <td>36180.222787</td>\n",
       "    </tr>\n",
       "    <tr>\n",
       "      <th>宝山</th>\n",
       "      <td>45447.846827</td>\n",
       "    </tr>\n",
       "    <tr>\n",
       "      <th>闵行</th>\n",
       "      <td>47096.147112</td>\n",
       "    </tr>\n",
       "    <tr>\n",
       "      <th>浦东</th>\n",
       "      <td>55634.089680</td>\n",
       "    </tr>\n",
       "    <tr>\n",
       "      <th>虹口</th>\n",
       "      <td>58546.789955</td>\n",
       "    </tr>\n",
       "    <tr>\n",
       "      <th>普陀</th>\n",
       "      <td>59207.840911</td>\n",
       "    </tr>\n",
       "    <tr>\n",
       "      <th>杨浦</th>\n",
       "      <td>63881.771017</td>\n",
       "    </tr>\n",
       "    <tr>\n",
       "      <th>徐汇</th>\n",
       "      <td>67817.104738</td>\n",
       "    </tr>\n",
       "    <tr>\n",
       "      <th>长宁</th>\n",
       "      <td>68040.064189</td>\n",
       "    </tr>\n",
       "    <tr>\n",
       "      <th>静安</th>\n",
       "      <td>71642.979172</td>\n",
       "    </tr>\n",
       "    <tr>\n",
       "      <th>黄浦</th>\n",
       "      <td>82569.894967</td>\n",
       "    </tr>\n",
       "  </tbody>\n",
       "</table>\n",
       "</div>"
      ],
      "text/plain": [
       "        unit_price\n",
       "area              \n",
       "金山    19944.453228\n",
       "崇明    24161.149679\n",
       "奉贤    26959.897533\n",
       "青浦    32490.803562\n",
       "嘉定    36166.079650\n",
       "松江    36180.222787\n",
       "宝山    45447.846827\n",
       "闵行    47096.147112\n",
       "浦东    55634.089680\n",
       "虹口    58546.789955\n",
       "普陀    59207.840911\n",
       "杨浦    63881.771017\n",
       "徐汇    67817.104738\n",
       "长宁    68040.064189\n",
       "静安    71642.979172\n",
       "黄浦    82569.894967"
      ]
     },
     "execution_count": 20,
     "metadata": {},
     "output_type": "execute_result"
    }
   ],
   "source": [
    "# 各地区的均价\n",
    "all_df[['unit_price','area']].groupby('area').mean().sort_values('unit_price')"
   ]
  },
  {
   "cell_type": "code",
   "execution_count": 21,
   "metadata": {},
   "outputs": [
    {
     "name": "stdout",
     "output_type": "stream",
     "text": [
      "          unit_price\n",
      "Module              \n",
      "外环以外    36630.411421\n",
      "中外环间    53456.406572\n",
      "内中环间    61522.008448\n",
      "内环以内    74633.204999\n"
     ]
    },
    {
     "data": {
      "text/plain": [
       "<matplotlib.axes._subplots.AxesSubplot at 0x1232aa5c0>"
      ]
     },
     "execution_count": 21,
     "metadata": {},
     "output_type": "execute_result"
    },
    {
     "data": {
      "image/png": "[encoded data removed]",
      "text/plain": [
       "<matplotlib.figure.Figure at 0x1239ec550>"
      ]
     },
     "metadata": {
      "image/png": {
       "height": 262,
       "width": 509
      }
     },
     "output_type": "display_data"
    }
   ],
   "source": [
    "# 环线\n",
    "all_df.loc[all_df[all_df.Module=='所有'].index,'Module']='内环以内'\n",
    "sorted_module=all_df[['unit_price','Module']].groupby('Module').mean().sort_values('unit_price')\n",
    "print(sorted_module)\n",
    "sns.barplot(x=sorted_module.index,y='unit_price',data=sorted_module)"
   ]
  },
  {
   "cell_type": "code",
   "execution_count": 22,
   "metadata": {},
   "outputs": [
    {
     "data": {
      "text/plain": [
       "{'中外环间': 1, '内中环间': 2, '内环以内': 3, '外环以外': 0}"
      ]
     },
     "execution_count": 22,
     "metadata": {},
     "output_type": "execute_result"
    }
   ],
   "source": [
    "# id映射\n",
    "i=pd.Series(range(0,sorted_module.shape[0]),index=sorted_module.index)\n",
    "i.to_dict()"
   ]
  },
  {
   "cell_type": "code",
   "execution_count": 23,
   "metadata": {
    "collapsed": true
   },
   "outputs": [],
   "source": [
    "all_df.Module=all_df.Module.map(i.to_dict())"
   ]
  },
  {
   "cell_type": "code",
   "execution_count": 24,
   "metadata": {
    "scrolled": true
   },
   "outputs": [
    {
     "data": {
      "text/html": [
       "<div>\n",
       "<table border=\"1\" class=\"dataframe\">\n",
       "  <thead>\n",
       "    <tr style=\"text-align: right;\">\n",
       "      <th></th>\n",
       "      <th>area</th>\n",
       "      <th>Plate</th>\n",
       "      <th>mean_price</th>\n",
       "    </tr>\n",
       "  </thead>\n",
       "  <tbody>\n",
       "    <tr>\n",
       "      <th>118</th>\n",
       "      <td>静安</td>\n",
       "      <td>南京西路</td>\n",
       "      <td>101690.139235</td>\n",
       "    </tr>\n",
       "    <tr>\n",
       "      <th>122</th>\n",
       "      <td>静安</td>\n",
       "      <td>江宁路</td>\n",
       "      <td>93659.761332</td>\n",
       "    </tr>\n",
       "    <tr>\n",
       "      <th>127</th>\n",
       "      <td>黄浦</td>\n",
       "      <td>黄浦滨江</td>\n",
       "      <td>92746.878046</td>\n",
       "    </tr>\n",
       "    <tr>\n",
       "      <th>75</th>\n",
       "      <td>浦东</td>\n",
       "      <td>联洋</td>\n",
       "      <td>92064.211643</td>\n",
       "    </tr>\n",
       "    <tr>\n",
       "      <th>125</th>\n",
       "      <td>黄浦</td>\n",
       "      <td>淮海中路</td>\n",
       "      <td>90570.883054</td>\n",
       "    </tr>\n",
       "    <tr>\n",
       "      <th>123</th>\n",
       "      <td>黄浦</td>\n",
       "      <td>人民广场</td>\n",
       "      <td>88484.018745</td>\n",
       "    </tr>\n",
       "    <tr>\n",
       "      <th>31</th>\n",
       "      <td>徐汇</td>\n",
       "      <td>徐汇滨江</td>\n",
       "      <td>84439.270609</td>\n",
       "    </tr>\n",
       "    <tr>\n",
       "      <th>80</th>\n",
       "      <td>浦东</td>\n",
       "      <td>陆家嘴</td>\n",
       "      <td>84054.709781</td>\n",
       "    </tr>\n",
       "    <tr>\n",
       "      <th>94</th>\n",
       "      <td>长宁</td>\n",
       "      <td>古北</td>\n",
       "      <td>80570.764804</td>\n",
       "    </tr>\n",
       "    <tr>\n",
       "      <th>124</th>\n",
       "      <td>黄浦</td>\n",
       "      <td>打浦桥</td>\n",
       "      <td>80185.976647</td>\n",
       "    </tr>\n",
       "    <tr>\n",
       "      <th>126</th>\n",
       "      <td>黄浦</td>\n",
       "      <td>老西门</td>\n",
       "      <td>79020.572353</td>\n",
       "    </tr>\n",
       "    <tr>\n",
       "      <th>30</th>\n",
       "      <td>徐汇</td>\n",
       "      <td>徐汇中心</td>\n",
       "      <td>77903.311180</td>\n",
       "    </tr>\n",
       "    <tr>\n",
       "      <th>121</th>\n",
       "      <td>静安</td>\n",
       "      <td>曹家渡</td>\n",
       "      <td>76606.272657</td>\n",
       "    </tr>\n",
       "    <tr>\n",
       "      <th>70</th>\n",
       "      <td>浦东</td>\n",
       "      <td>洋泾</td>\n",
       "      <td>76105.895637</td>\n",
       "    </tr>\n",
       "    <tr>\n",
       "      <th>95</th>\n",
       "      <td>长宁</td>\n",
       "      <td>新华路</td>\n",
       "      <td>75670.060323</td>\n",
       "    </tr>\n",
       "    <tr>\n",
       "      <th>93</th>\n",
       "      <td>长宁</td>\n",
       "      <td>中山公园</td>\n",
       "      <td>74790.640833</td>\n",
       "    </tr>\n",
       "    <tr>\n",
       "      <th>58</th>\n",
       "      <td>浦东</td>\n",
       "      <td>东城</td>\n",
       "      <td>72293.304613</td>\n",
       "    </tr>\n",
       "    <tr>\n",
       "      <th>77</th>\n",
       "      <td>浦东</td>\n",
       "      <td>花木</td>\n",
       "      <td>72116.348070</td>\n",
       "    </tr>\n",
       "    <tr>\n",
       "      <th>73</th>\n",
       "      <td>浦东</td>\n",
       "      <td>碧云</td>\n",
       "      <td>71622.923109</td>\n",
       "    </tr>\n",
       "    <tr>\n",
       "      <th>44</th>\n",
       "      <td>杨浦</td>\n",
       "      <td>东外滩</td>\n",
       "      <td>68952.392049</td>\n",
       "    </tr>\n",
       "    <tr>\n",
       "      <th>47</th>\n",
       "      <td>杨浦</td>\n",
       "      <td>新江湾城</td>\n",
       "      <td>67491.255487</td>\n",
       "    </tr>\n",
       "    <tr>\n",
       "      <th>39</th>\n",
       "      <td>普陀</td>\n",
       "      <td>武宁</td>\n",
       "      <td>66682.440927</td>\n",
       "    </tr>\n",
       "    <tr>\n",
       "      <th>96</th>\n",
       "      <td>长宁</td>\n",
       "      <td>虹桥</td>\n",
       "      <td>66349.750850</td>\n",
       "    </tr>\n",
       "    <tr>\n",
       "      <th>117</th>\n",
       "      <td>静安</td>\n",
       "      <td>不夜城</td>\n",
       "      <td>65270.416370</td>\n",
       "    </tr>\n",
       "    <tr>\n",
       "      <th>34</th>\n",
       "      <td>徐汇</td>\n",
       "      <td>龙华</td>\n",
       "      <td>65269.763169</td>\n",
       "    </tr>\n",
       "    <tr>\n",
       "      <th>119</th>\n",
       "      <td>静安</td>\n",
       "      <td>大宁</td>\n",
       "      <td>64955.276111</td>\n",
       "    </tr>\n",
       "    <tr>\n",
       "      <th>83</th>\n",
       "      <td>虹口</td>\n",
       "      <td>北外滩</td>\n",
       "      <td>64606.466612</td>\n",
       "    </tr>\n",
       "    <tr>\n",
       "      <th>48</th>\n",
       "      <td>杨浦</td>\n",
       "      <td>鞍山</td>\n",
       "      <td>64406.423318</td>\n",
       "    </tr>\n",
       "    <tr>\n",
       "      <th>32</th>\n",
       "      <td>徐汇</td>\n",
       "      <td>田林</td>\n",
       "      <td>63863.976025</td>\n",
       "    </tr>\n",
       "    <tr>\n",
       "      <th>46</th>\n",
       "      <td>杨浦</td>\n",
       "      <td>五角场</td>\n",
       "      <td>63713.987802</td>\n",
       "    </tr>\n",
       "    <tr>\n",
       "      <th>...</th>\n",
       "      <td>...</td>\n",
       "      <td>...</td>\n",
       "      <td>...</td>\n",
       "    </tr>\n",
       "    <tr>\n",
       "      <th>51</th>\n",
       "      <td>松江</td>\n",
       "      <td>佘山</td>\n",
       "      <td>30201.435323</td>\n",
       "    </tr>\n",
       "    <tr>\n",
       "      <th>6</th>\n",
       "      <td>奉贤</td>\n",
       "      <td>南桥新城</td>\n",
       "      <td>29643.774154</td>\n",
       "    </tr>\n",
       "    <tr>\n",
       "      <th>3</th>\n",
       "      <td>嘉定</td>\n",
       "      <td>安亭汽车城</td>\n",
       "      <td>28553.829627</td>\n",
       "    </tr>\n",
       "    <tr>\n",
       "      <th>114</th>\n",
       "      <td>青浦</td>\n",
       "      <td>重固</td>\n",
       "      <td>28069.555798</td>\n",
       "    </tr>\n",
       "    <tr>\n",
       "      <th>26</th>\n",
       "      <td>崇明</td>\n",
       "      <td>长兴岛</td>\n",
       "      <td>27775.212099</td>\n",
       "    </tr>\n",
       "    <tr>\n",
       "      <th>8</th>\n",
       "      <td>奉贤</td>\n",
       "      <td>奉贤其它</td>\n",
       "      <td>26092.704258</td>\n",
       "    </tr>\n",
       "    <tr>\n",
       "      <th>59</th>\n",
       "      <td>浦东</td>\n",
       "      <td>临港新城</td>\n",
       "      <td>25478.964740</td>\n",
       "    </tr>\n",
       "    <tr>\n",
       "      <th>23</th>\n",
       "      <td>崇明</td>\n",
       "      <td>堡镇</td>\n",
       "      <td>25110.133333</td>\n",
       "    </tr>\n",
       "    <tr>\n",
       "      <th>21</th>\n",
       "      <td>宝山</td>\n",
       "      <td>罗泾</td>\n",
       "      <td>24394.711042</td>\n",
       "    </tr>\n",
       "    <tr>\n",
       "      <th>111</th>\n",
       "      <td>青浦</td>\n",
       "      <td>朱家角</td>\n",
       "      <td>24061.171609</td>\n",
       "    </tr>\n",
       "    <tr>\n",
       "      <th>12</th>\n",
       "      <td>奉贤</td>\n",
       "      <td>金汇</td>\n",
       "      <td>23714.506539</td>\n",
       "    </tr>\n",
       "    <tr>\n",
       "      <th>25</th>\n",
       "      <td>崇明</td>\n",
       "      <td>崇明新城</td>\n",
       "      <td>22689.935726</td>\n",
       "    </tr>\n",
       "    <tr>\n",
       "      <th>27</th>\n",
       "      <td>崇明</td>\n",
       "      <td>陈家镇</td>\n",
       "      <td>21801.500000</td>\n",
       "    </tr>\n",
       "    <tr>\n",
       "      <th>112</th>\n",
       "      <td>青浦</td>\n",
       "      <td>白鹤</td>\n",
       "      <td>20977.140713</td>\n",
       "    </tr>\n",
       "    <tr>\n",
       "      <th>2</th>\n",
       "      <td>嘉定</td>\n",
       "      <td>嘉定北部</td>\n",
       "      <td>20922.883753</td>\n",
       "    </tr>\n",
       "    <tr>\n",
       "      <th>115</th>\n",
       "      <td>青浦</td>\n",
       "      <td>青浦其它</td>\n",
       "      <td>20906.302319</td>\n",
       "    </tr>\n",
       "    <tr>\n",
       "      <th>92</th>\n",
       "      <td>金山</td>\n",
       "      <td>金山新城</td>\n",
       "      <td>20723.709652</td>\n",
       "    </tr>\n",
       "    <tr>\n",
       "      <th>10</th>\n",
       "      <td>奉贤</td>\n",
       "      <td>柘林</td>\n",
       "      <td>20463.018719</td>\n",
       "    </tr>\n",
       "    <tr>\n",
       "      <th>72</th>\n",
       "      <td>浦东</td>\n",
       "      <td>浦东其它</td>\n",
       "      <td>20296.540892</td>\n",
       "    </tr>\n",
       "    <tr>\n",
       "      <th>87</th>\n",
       "      <td>金山</td>\n",
       "      <td>朱泾</td>\n",
       "      <td>20186.242124</td>\n",
       "    </tr>\n",
       "    <tr>\n",
       "      <th>90</th>\n",
       "      <td>金山</td>\n",
       "      <td>石化</td>\n",
       "      <td>19624.338491</td>\n",
       "    </tr>\n",
       "    <tr>\n",
       "      <th>11</th>\n",
       "      <td>奉贤</td>\n",
       "      <td>海湾</td>\n",
       "      <td>19480.780401</td>\n",
       "    </tr>\n",
       "    <tr>\n",
       "      <th>88</th>\n",
       "      <td>金山</td>\n",
       "      <td>枫泾</td>\n",
       "      <td>19057.813869</td>\n",
       "    </tr>\n",
       "    <tr>\n",
       "      <th>9</th>\n",
       "      <td>奉贤</td>\n",
       "      <td>庄行</td>\n",
       "      <td>18411.669770</td>\n",
       "    </tr>\n",
       "    <tr>\n",
       "      <th>24</th>\n",
       "      <td>崇明</td>\n",
       "      <td>崇明其它</td>\n",
       "      <td>18351.213362</td>\n",
       "    </tr>\n",
       "    <tr>\n",
       "      <th>86</th>\n",
       "      <td>金山</td>\n",
       "      <td>亭林</td>\n",
       "      <td>18274.511628</td>\n",
       "    </tr>\n",
       "    <tr>\n",
       "      <th>7</th>\n",
       "      <td>奉贤</td>\n",
       "      <td>奉城</td>\n",
       "      <td>18177.567990</td>\n",
       "    </tr>\n",
       "    <tr>\n",
       "      <th>54</th>\n",
       "      <td>松江</td>\n",
       "      <td>松江南部</td>\n",
       "      <td>18087.056911</td>\n",
       "    </tr>\n",
       "    <tr>\n",
       "      <th>91</th>\n",
       "      <td>金山</td>\n",
       "      <td>金山中部</td>\n",
       "      <td>17998.397546</td>\n",
       "    </tr>\n",
       "    <tr>\n",
       "      <th>89</th>\n",
       "      <td>金山</td>\n",
       "      <td>漕泾</td>\n",
       "      <td>14706.700000</td>\n",
       "    </tr>\n",
       "  </tbody>\n",
       "</table>\n",
       "<p>128 rows × 3 columns</p>\n",
       "</div>"
      ],
      "text/plain": [
       "    area  Plate     mean_price\n",
       "118   静安   南京西路  101690.139235\n",
       "122   静安    江宁路   93659.761332\n",
       "127   黄浦   黄浦滨江   92746.878046\n",
       "75    浦东     联洋   92064.211643\n",
       "125   黄浦   淮海中路   90570.883054\n",
       "123   黄浦   人民广场   88484.018745\n",
       "31    徐汇   徐汇滨江   84439.270609\n",
       "80    浦东    陆家嘴   84054.709781\n",
       "94    长宁     古北   80570.764804\n",
       "124   黄浦    打浦桥   80185.976647\n",
       "126   黄浦    老西门   79020.572353\n",
       "30    徐汇   徐汇中心   77903.311180\n",
       "121   静安    曹家渡   76606.272657\n",
       "70    浦东     洋泾   76105.895637\n",
       "95    长宁    新华路   75670.060323\n",
       "93    长宁   中山公园   74790.640833\n",
       "58    浦东     东城   72293.304613\n",
       "77    浦东     花木   72116.348070\n",
       "73    浦东     碧云   71622.923109\n",
       "44    杨浦    东外滩   68952.392049\n",
       "47    杨浦   新江湾城   67491.255487\n",
       "39    普陀     武宁   66682.440927\n",
       "96    长宁     虹桥   66349.750850\n",
       "117   静安    不夜城   65270.416370\n",
       "34    徐汇     龙华   65269.763169\n",
       "119   静安     大宁   64955.276111\n",
       "83    虹口    北外滩   64606.466612\n",
       "48    杨浦     鞍山   64406.423318\n",
       "32    徐汇     田林   63863.976025\n",
       "46    杨浦    五角场   63713.987802\n",
       "..   ...    ...            ...\n",
       "51    松江     佘山   30201.435323\n",
       "6     奉贤   南桥新城   29643.774154\n",
       "3     嘉定  安亭汽车城   28553.829627\n",
       "114   青浦     重固   28069.555798\n",
       "26    崇明    长兴岛   27775.212099\n",
       "8     奉贤   奉贤其它   26092.704258\n",
       "59    浦东   临港新城   25478.964740\n",
       "23    崇明     堡镇   25110.133333\n",
       "21    宝山     罗泾   24394.711042\n",
       "111   青浦    朱家角   24061.171609\n",
       "12    奉贤     金汇   23714.506539\n",
       "25    崇明   崇明新城   22689.935726\n",
       "27    崇明    陈家镇   21801.500000\n",
       "112   青浦     白鹤   20977.140713\n",
       "2     嘉定   嘉定北部   20922.883753\n",
       "115   青浦   青浦其它   20906.302319\n",
       "92    金山   金山新城   20723.709652\n",
       "10    奉贤     柘林   20463.018719\n",
       "72    浦东   浦东其它   20296.540892\n",
       "87    金山     朱泾   20186.242124\n",
       "90    金山     石化   19624.338491\n",
       "11    奉贤     海湾   19480.780401\n",
       "88    金山     枫泾   19057.813869\n",
       "9     奉贤     庄行   18411.669770\n",
       "24    崇明   崇明其它   18351.213362\n",
       "86    金山     亭林   18274.511628\n",
       "7     奉贤     奉城   18177.567990\n",
       "54    松江   松江南部   18087.056911\n",
       "91    金山   金山中部   17998.397546\n",
       "89    金山     漕泾   14706.700000\n",
       "\n",
       "[128 rows x 3 columns]"
      ]
     },
     "execution_count": 24,
     "metadata": {},
     "output_type": "execute_result"
    }
   ],
   "source": [
    "# 板块均价排序\n",
    "all_df.groupby(['area','Plate'],as_index=False)['unit_price'].agg({'mean_price':'mean'}).sort_values('mean_price',ascending=False)"
   ]
  },
  {
   "cell_type": "markdown",
   "metadata": {},
   "source": [
    "* 楼层因素"
   ]
  },
  {
   "cell_type": "code",
   "execution_count": 25,
   "metadata": {
    "scrolled": true
   },
   "outputs": [
    {
     "data": {
      "text/html": [
       "<div>\n",
       "<table border=\"1\" class=\"dataframe\">\n",
       "  <thead>\n",
       "    <tr style=\"text-align: right;\">\n",
       "      <th></th>\n",
       "      <th>all_floor</th>\n",
       "      <th>floor</th>\n",
       "    </tr>\n",
       "  </thead>\n",
       "  <tbody>\n",
       "    <tr>\n",
       "      <th>count</th>\n",
       "      <td>2.827734e+06</td>\n",
       "      <td>2.827734e+06</td>\n",
       "    </tr>\n",
       "    <tr>\n",
       "      <th>mean</th>\n",
       "      <td>1.165609e+01</td>\n",
       "      <td>5.542646e+00</td>\n",
       "    </tr>\n",
       "    <tr>\n",
       "      <th>std</th>\n",
       "      <td>8.323804e+00</td>\n",
       "      <td>5.425400e+00</td>\n",
       "    </tr>\n",
       "    <tr>\n",
       "      <th>min</th>\n",
       "      <td>1.000000e+00</td>\n",
       "      <td>-5.000000e+00</td>\n",
       "    </tr>\n",
       "    <tr>\n",
       "      <th>25%</th>\n",
       "      <td>6.000000e+00</td>\n",
       "      <td>2.000000e+00</td>\n",
       "    </tr>\n",
       "    <tr>\n",
       "      <th>50%</th>\n",
       "      <td>6.000000e+00</td>\n",
       "      <td>4.000000e+00</td>\n",
       "    </tr>\n",
       "    <tr>\n",
       "      <th>75%</th>\n",
       "      <td>1.600000e+01</td>\n",
       "      <td>7.000000e+00</td>\n",
       "    </tr>\n",
       "    <tr>\n",
       "      <th>max</th>\n",
       "      <td>9.000000e+01</td>\n",
       "      <td>6.200000e+01</td>\n",
       "    </tr>\n",
       "  </tbody>\n",
       "</table>\n",
       "</div>"
      ],
      "text/plain": [
       "          all_floor         floor\n",
       "count  2.827734e+06  2.827734e+06\n",
       "mean   1.165609e+01  5.542646e+00\n",
       "std    8.323804e+00  5.425400e+00\n",
       "min    1.000000e+00 -5.000000e+00\n",
       "25%    6.000000e+00  2.000000e+00\n",
       "50%    6.000000e+00  4.000000e+00\n",
       "75%    1.600000e+01  7.000000e+00\n",
       "max    9.000000e+01  6.200000e+01"
      ]
     },
     "execution_count": 25,
     "metadata": {},
     "output_type": "execute_result"
    }
   ],
   "source": [
    "all_df[['all_floor','floor']].describe()"
   ]
  },
  {
   "cell_type": "code",
   "execution_count": 26,
   "metadata": {
    "collapsed": true
   },
   "outputs": [],
   "source": [
    "all_df.loc[all_df.floor<0,'floor']=np.nan"
   ]
  },
  {
   "cell_type": "code",
   "execution_count": 28,
   "metadata": {
    "scrolled": true
   },
   "outputs": [
    {
     "data": {
      "text/html": [
       "<div>\n",
       "<table border=\"1\" class=\"dataframe\">\n",
       "  <thead>\n",
       "    <tr style=\"text-align: right;\">\n",
       "      <th></th>\n",
       "      <th>floor_section</th>\n",
       "      <th>count</th>\n",
       "    </tr>\n",
       "  </thead>\n",
       "  <tbody>\n",
       "    <tr>\n",
       "      <th>0</th>\n",
       "      <td>低层</td>\n",
       "      <td>1351903</td>\n",
       "    </tr>\n",
       "    <tr>\n",
       "      <th>1</th>\n",
       "      <td>多层</td>\n",
       "      <td>753097</td>\n",
       "    </tr>\n",
       "    <tr>\n",
       "      <th>2</th>\n",
       "      <td>小高层</td>\n",
       "      <td>259292</td>\n",
       "    </tr>\n",
       "    <tr>\n",
       "      <th>3</th>\n",
       "      <td>高层</td>\n",
       "      <td>460219</td>\n",
       "    </tr>\n",
       "  </tbody>\n",
       "</table>\n",
       "</div>"
      ],
      "text/plain": [
       "  floor_section    count\n",
       "0            低层  1351903\n",
       "1            多层   753097\n",
       "2           小高层   259292\n",
       "3            高层   460219"
      ]
     },
     "execution_count": 28,
     "metadata": {},
     "output_type": "execute_result"
    }
   ],
   "source": [
    "# 分段映射\n",
    "all_df['floor_section']=floor_map(all_df.floor)\n",
    "\n",
    "# 统计\n",
    "all_df.groupby('floor_section',as_index=False)['floor_section'].agg({'count':'count'})"
   ]
  },
  {
   "cell_type": "markdown",
   "metadata": {},
   "source": [
    "* 朝向因素"
   ]
  },
  {
   "cell_type": "code",
   "execution_count": 29,
   "metadata": {},
   "outputs": [
    {
     "data": {
      "text/plain": [
       "array(['南北', '南', '东南', '', '西', '北', '东', '东西', '西北', '西南', '暂无', '东北',\n",
       "       '暂无数据', '      '], dtype=object)"
      ]
     },
     "execution_count": 29,
     "metadata": {},
     "output_type": "execute_result"
    }
   ],
   "source": [
    "all_df.shore.unique()"
   ]
  },
  {
   "cell_type": "code",
   "execution_count": 30,
   "metadata": {
    "scrolled": true
   },
   "outputs": [
    {
     "data": {
      "text/plain": [
       "array(['南北', '南', '东南', '暂无', '西', '北', '东', '东西', '西北', '西南', '东北'], dtype=object)"
      ]
     },
     "execution_count": 30,
     "metadata": {},
     "output_type": "execute_result"
    }
   ],
   "source": [
    "# 暂无为缺省字段\n",
    "all_df.shore.replace({'暂无数据':'暂无','      ':'暂无','':'暂无'},inplace=True)\n",
    "all_df.shore.unique()"
   ]
  },
  {
   "cell_type": "code",
   "execution_count": 31,
   "metadata": {},
   "outputs": [
    {
     "name": "stdout",
     "output_type": "stream",
     "text": [
      "         unit_price\n",
      "shore              \n",
      "暂无     48782.679633\n",
      "北      50138.356956\n",
      "南北     52538.638495\n",
      "南      55006.973440\n",
      "东      60253.361448\n",
      "东北     60258.427901\n",
      "西北     65856.878815\n",
      "东南     67386.994897\n",
      "东西     69483.038531\n",
      "西南     69977.788498\n",
      "西      70376.650338\n"
     ]
    },
    {
     "data": {
      "text/plain": [
       "<matplotlib.axes._subplots.AxesSubplot at 0x12293bb00>"
      ]
     },
     "execution_count": 31,
     "metadata": {},
     "output_type": "execute_result"
    },
    {
     "data": {
      "image/png": "[encoded data removed]",
      "text/plain": [
       "<matplotlib.figure.Figure at 0x12296a6d8>"
      ]
     },
     "metadata": {
      "image/png": {
       "height": 262,
       "width": 509
      }
     },
     "output_type": "display_data"
    }
   ],
   "source": [
    "sorted_shore=all_df[['unit_price','shore']].groupby('shore').mean().sort_values('unit_price')\n",
    "print(sorted_shore)\n",
    "sns.barplot(x=sorted_shore.index,y='unit_price',data=sorted_shore)"
   ]
  },
  {
   "cell_type": "code",
   "execution_count": 32,
   "metadata": {
    "scrolled": true
   },
   "outputs": [
    {
     "data": {
      "text/plain": [
       "{'东': 4,\n",
       " '东北': 5,\n",
       " '东南': 7,\n",
       " '东西': 8,\n",
       " '北': 1,\n",
       " '南': 3,\n",
       " '南北': 2,\n",
       " '暂无': 0,\n",
       " '西': 10,\n",
       " '西北': 6,\n",
       " '西南': 9}"
      ]
     },
     "execution_count": 32,
     "metadata": {},
     "output_type": "execute_result"
    }
   ],
   "source": [
    "i=pd.Series(range(0,sorted_shore.shape[0]),index=sorted_shore.index)\n",
    "i.to_dict()"
   ]
  },
  {
   "cell_type": "code",
   "execution_count": 33,
   "metadata": {
    "collapsed": true
   },
   "outputs": [],
   "source": [
    "all_df.shore=all_df.shore.map(i.to_dict())"
   ]
  },
  {
   "cell_type": "markdown",
   "metadata": {},
   "source": [
    "* 房屋类型"
   ]
  },
  {
   "cell_type": "code",
   "execution_count": 34,
   "metadata": {},
   "outputs": [
    {
     "data": {
      "text/plain": [
       "array(['公寓', '商铺', '别墅洋房', '办公楼', '其它', '里弄房'], dtype=object)"
      ]
     },
     "execution_count": 34,
     "metadata": {},
     "output_type": "execute_result"
    }
   ],
   "source": [
    "all_df.house_type.unique()"
   ]
  },
  {
   "cell_type": "code",
   "execution_count": 35,
   "metadata": {},
   "outputs": [
    {
     "data": {
      "text/plain": [
       "公寓      2768417\n",
       "别墅洋房      40838\n",
       "商铺        17484\n",
       "办公楼         652\n",
       "其它          299\n",
       "里弄房          44\n",
       "Name: house_type, dtype: int64"
      ]
     },
     "execution_count": 35,
     "metadata": {},
     "output_type": "execute_result"
    }
   ],
   "source": [
    "# 统计计数\n",
    "all_df.house_type.value_counts()"
   ]
  },
  {
   "cell_type": "code",
   "execution_count": 36,
   "metadata": {},
   "outputs": [
    {
     "data": {
      "text/plain": [
       "array(['公寓', '商铺', '别墅洋房', '办公楼', '里弄房'], dtype=object)"
      ]
     },
     "execution_count": 36,
     "metadata": {},
     "output_type": "execute_result"
    }
   ],
   "source": [
    "all_df.loc[all_df[(all_df.house_type=='其它') | (all_df.house_type=='工厂')].index,'house_type']='公寓'\n",
    "all_df.house_type.unique()"
   ]
  },
  {
   "cell_type": "code",
   "execution_count": 37,
   "metadata": {},
   "outputs": [
    {
     "data": {
      "text/html": [
       "<div>\n",
       "<table border=\"1\" class=\"dataframe\">\n",
       "  <thead>\n",
       "    <tr style=\"text-align: right;\">\n",
       "      <th></th>\n",
       "      <th>unit_price</th>\n",
       "    </tr>\n",
       "    <tr>\n",
       "      <th>house_type</th>\n",
       "      <th></th>\n",
       "    </tr>\n",
       "  </thead>\n",
       "  <tbody>\n",
       "    <tr>\n",
       "      <th>办公楼</th>\n",
       "      <td>37708.558282</td>\n",
       "    </tr>\n",
       "    <tr>\n",
       "      <th>别墅洋房</th>\n",
       "      <td>42080.108551</td>\n",
       "    </tr>\n",
       "    <tr>\n",
       "      <th>公寓</th>\n",
       "      <td>53812.589408</td>\n",
       "    </tr>\n",
       "    <tr>\n",
       "      <th>商铺</th>\n",
       "      <td>56390.958762</td>\n",
       "    </tr>\n",
       "    <tr>\n",
       "      <th>里弄房</th>\n",
       "      <td>60121.522727</td>\n",
       "    </tr>\n",
       "  </tbody>\n",
       "</table>\n",
       "</div>"
      ],
      "text/plain": [
       "              unit_price\n",
       "house_type              \n",
       "办公楼         37708.558282\n",
       "别墅洋房        42080.108551\n",
       "公寓          53812.589408\n",
       "商铺          56390.958762\n",
       "里弄房         60121.522727"
      ]
     },
     "execution_count": 37,
     "metadata": {},
     "output_type": "execute_result"
    }
   ],
   "source": [
    "sorted_house_type=all_df[['house_type','unit_price']].groupby('house_type').mean().sort_values('unit_price')\n",
    "sorted_house_type"
   ]
  },
  {
   "cell_type": "code",
   "execution_count": 38,
   "metadata": {},
   "outputs": [
    {
     "data": {
      "text/plain": [
       "<matplotlib.axes._subplots.AxesSubplot at 0x1260be710>"
      ]
     },
     "execution_count": 38,
     "metadata": {},
     "output_type": "execute_result"
    },
    {
     "data": {
      "image/png": "[encoded data removed]",
      "text/plain": [
       "<matplotlib.figure.Figure at 0x1260eacf8>"
      ]
     },
     "metadata": {
      "image/png": {
       "height": 262,
       "width": 509
      }
     },
     "output_type": "display_data"
    }
   ],
   "source": [
    "sns.barplot(x=sorted_house_type.index,y='unit_price',data=sorted_house_type)"
   ]
  },
  {
   "cell_type": "code",
   "execution_count": 39,
   "metadata": {},
   "outputs": [
    {
     "data": {
      "text/plain": [
       "{'公寓': 2, '别墅洋房': 1, '办公楼': 0, '商铺': 3, '里弄房': 4}"
      ]
     },
     "execution_count": 39,
     "metadata": {},
     "output_type": "execute_result"
    }
   ],
   "source": [
    "i=pd.Series(range(0,sorted_house_type.shape[0]),index=sorted_house_type.index)\n",
    "i.to_dict()"
   ]
  },
  {
   "cell_type": "code",
   "execution_count": 40,
   "metadata": {
    "collapsed": true
   },
   "outputs": [],
   "source": [
    "all_df.house_type=all_df.house_type.map(i.to_dict())"
   ]
  },
  {
   "cell_type": "markdown",
   "metadata": {},
   "source": [
    "* 装修情况"
   ]
  },
  {
   "cell_type": "code",
   "execution_count": 41,
   "metadata": {},
   "outputs": [
    {
     "data": {
      "text/plain": [
       "array(['中装修', '简装修', '精装修', '毛坯', '简装', '中装', '豪华装修', '精装', '豪装', '',\n",
       "       '暂无数据', '暂无'], dtype=object)"
      ]
     },
     "execution_count": 41,
     "metadata": {},
     "output_type": "execute_result"
    }
   ],
   "source": [
    "all_df.fitment.unique()"
   ]
  },
  {
   "cell_type": "code",
   "execution_count": 42,
   "metadata": {},
   "outputs": [
    {
     "data": {
      "text/plain": [
       "array(['中装', '简装', '精装', '毛坯', '豪华装', '豪装', '暂无'], dtype=object)"
      ]
     },
     "execution_count": 42,
     "metadata": {},
     "output_type": "execute_result"
    }
   ],
   "source": [
    "# 缺省字段填充\n",
    "default_fit='暂无'\n",
    "all_df.fitment.replace({'':default_fit,'暂无数据':default_fit,'豪华装':'豪装'},inplace=True)\n",
    "all_df.fitment=all_df.fitment.apply(lambda x:x.strip('修'))\n",
    "all_df.fitment.unique()"
   ]
  },
  {
   "cell_type": "code",
   "execution_count": 43,
   "metadata": {
    "scrolled": false
   },
   "outputs": [
    {
     "name": "stdout",
     "output_type": "stream",
     "text": [
      "         unit_price\n",
      "fitment            \n",
      "毛坯          37143.0\n",
      "简装          51835.5\n",
      "精装          52276.0\n",
      "中装          53421.0\n",
      "暂无          55126.0\n",
      "豪华装         61871.0\n",
      "豪装          68160.0\n"
     ]
    },
    {
     "data": {
      "text/plain": [
       "<matplotlib.axes._subplots.AxesSubplot at 0x12a2ea390>"
      ]
     },
     "execution_count": 43,
     "metadata": {},
     "output_type": "execute_result"
    },
    {
     "data": {
      "image/png": "[encoded data removed]",
      "text/plain": [
       "<matplotlib.figure.Figure at 0x12a300da0>"
      ]
     },
     "metadata": {
      "image/png": {
       "height": 262,
       "width": 509
      }
     },
     "output_type": "display_data"
    }
   ],
   "source": [
    "sorted_fitment=all_df[['fitment','unit_price']].groupby('fitment').median().sort_values('unit_price')\n",
    "print(sorted_fitment)\n",
    "sns.barplot(x=sorted_fitment.index,y='unit_price',data=sorted_fitment)"
   ]
  },
  {
   "cell_type": "code",
   "execution_count": 44,
   "metadata": {},
   "outputs": [
    {
     "data": {
      "text/plain": [
       "{'中装': 3, '暂无': 4, '毛坯': 0, '简装': 1, '精装': 2, '豪华装': 5, '豪装': 6}"
      ]
     },
     "execution_count": 44,
     "metadata": {},
     "output_type": "execute_result"
    }
   ],
   "source": [
    "i=pd.Series(range(0,sorted_fitment.shape[0]),index=sorted_fitment.index)\n",
    "i.to_dict()"
   ]
  },
  {
   "cell_type": "code",
   "execution_count": 45,
   "metadata": {
    "collapsed": true
   },
   "outputs": [],
   "source": [
    "all_df.fitment=all_df.fitment.map(i.to_dict())"
   ]
  },
  {
   "cell_type": "markdown",
   "metadata": {},
   "source": [
    "* 房型"
   ]
  },
  {
   "cell_type": "code",
   "execution_count": 46,
   "metadata": {
    "collapsed": true
   },
   "outputs": [],
   "source": [
    "import re\n",
    "\n",
    "# 正则提取房型数据\n",
    "r=re.compile('室|厅|厨|卫')\n",
    "l=[map(int,r.split(i)[:-1]) for i in all_df.room_type]\n",
    "room_type_df=pd.DataFrame(l,index=all_df.index,columns=['室','厅','厨','卫'])"
   ]
  },
  {
   "cell_type": "code",
   "execution_count": 47,
   "metadata": {
    "collapsed": true
   },
   "outputs": [],
   "source": [
    "# idx=room_type_df[room_type_df['卫'].isnull()].index\n",
    "# room_type_df.loc[idx,'卫']=room_type_df.loc[idx,'厨']\n",
    "# room_type_df.loc[idx,'厨']=np.nan"
   ]
  },
  {
   "cell_type": "code",
   "execution_count": 48,
   "metadata": {
    "collapsed": true,
    "scrolled": true
   },
   "outputs": [],
   "source": [
    "from sklearn.preprocessing import Imputer\n",
    "\n",
    "# 中位数填补\n",
    "# imp = Imputer(missing_values='NaN', strategy='median', axis=0) \n",
    "# room_type_df[['室','厅','厨','卫']]=imp.fit_transform(room_type_df[['室','厅','厨','卫']])\n",
    "\n",
    "# 零填补\n",
    "# room_type_df.fillna(0)\n",
    "# room_type_df.describe()"
   ]
  },
  {
   "cell_type": "code",
   "execution_count": 2,
   "metadata": {},
   "outputs": [],
   "source": [
    "all_df=pd.concat((all_df,room_type_df),axis=1)\n",
    "all_df.head()"
   ]
  },
  {
   "cell_type": "markdown",
   "metadata": {},
   "source": [
    "* 时间"
   ]
  },
  {
   "cell_type": "code",
   "execution_count": 50,
   "metadata": {
    "scrolled": true
   },
   "outputs": [
    {
     "data": {
      "text/plain": [
       "['1901-01-01',\n",
       " '1905-01-01',\n",
       " '1906-01-01',\n",
       " '1910-01-01',\n",
       " '1912-01-01',\n",
       " '1913-01-01',\n",
       " '1914-01-01',\n",
       " '1918-01-01',\n",
       " '1920-01-01',\n",
       " '1922-01-01',\n",
       " '1923-01-01',\n",
       " '1924-01-01',\n",
       " '1925-01-01',\n",
       " '1926-01-01',\n",
       " '1928-01-01',\n",
       " '1929-01-01',\n",
       " '1930-01-01',\n",
       " '1931-01-01',\n",
       " '1932-01-01',\n",
       " '1933-01-01',\n",
       " '1934-01-01',\n",
       " '1935-01-01',\n",
       " '1936-01-01',\n",
       " '1937-01-01',\n",
       " '1938-01-01',\n",
       " '1939-01-01',\n",
       " '1940-01-01',\n",
       " '1941-01-01',\n",
       " '1942-01-01',\n",
       " '1945-01-01',\n",
       " '1946-01-01',\n",
       " '1947-01-01',\n",
       " '1948-01-01',\n",
       " '1949-01-01',\n",
       " '1950-01-01',\n",
       " '1951-01-01',\n",
       " '1952-01-01',\n",
       " '1953-01-01',\n",
       " '1954-01-01',\n",
       " '1955-01-01',\n",
       " '1956-01-01',\n",
       " '1957-01-01',\n",
       " '1958-01-01',\n",
       " '1959-01-01',\n",
       " '1960-01-01',\n",
       " '1961-01-01',\n",
       " '1962-01-01',\n",
       " '1963-01-01',\n",
       " '1964-01-01',\n",
       " '1965-01-01',\n",
       " '1966-01-01',\n",
       " '1967-01-01',\n",
       " '1968-01-01',\n",
       " '1969-01-01',\n",
       " '1970-01-01',\n",
       " '1971-01-01',\n",
       " '1972-01-01',\n",
       " '1973-01-01',\n",
       " '1974-01-01',\n",
       " '1975-01-01',\n",
       " '1976-01-01',\n",
       " '1977-01-01',\n",
       " '1978-01-01',\n",
       " '1979-01-01',\n",
       " '1980-01-01',\n",
       " '1981-01-01',\n",
       " '1982-01-01',\n",
       " '1983-01-01',\n",
       " '1984-01-01',\n",
       " '1985-01-01',\n",
       " '1986-01-01',\n",
       " '1987-01-01',\n",
       " '1988-01-01',\n",
       " '1989-01-01',\n",
       " '1990-01-01',\n",
       " '1991-01-01',\n",
       " '1992-01-01',\n",
       " '1993-01-01',\n",
       " '1994-01-01',\n",
       " '1995-01-01',\n",
       " '1996-01-01',\n",
       " '1997-01-01',\n",
       " '1998-01-01',\n",
       " '1999-01-01',\n",
       " '2000-01-01',\n",
       " '2001-01-01',\n",
       " '2002-01-01',\n",
       " '2003-01-01',\n",
       " '2004-01-01',\n",
       " '2005-01-01',\n",
       " '2006-01-01',\n",
       " '2007-01-01',\n",
       " '2008-01-01',\n",
       " '2009-01-01',\n",
       " '2010-01-01',\n",
       " '2011-01-01',\n",
       " '2012-01-01',\n",
       " '2013-01-01',\n",
       " '2014-01-01',\n",
       " '2015-01-01',\n",
       " '2016-01-01',\n",
       " '2017-01-01',\n",
       " '2018-01-01',\n",
       " '2019-01-01',\n",
       " '2020-01-01',\n",
       " '2022-01-01',\n",
       " '2023-01-01',\n",
       " '2028-01-01',\n",
       " '2073-01-01',\n",
       " '2084-01-01',\n",
       " '2099-01-01',\n",
       " '2103-01-01',\n",
       " '2107-01-01',\n",
       " '2198-01-01',\n",
       " '2208-01-01',\n",
       " '8007-01-01']"
      ]
     },
     "execution_count": 50,
     "metadata": {},
     "output_type": "execute_result"
    }
   ],
   "source": [
    "sorted(all_df.time.unique())"
   ]
  },
  {
   "cell_type": "code",
   "execution_count": 51,
   "metadata": {
    "collapsed": true
   },
   "outputs": [],
   "source": [
    "all_df.time=all_df.time.apply(lambda x:x.split('-')[0]).astype(int)"
   ]
  },
  {
   "cell_type": "code",
   "execution_count": 52,
   "metadata": {
    "scrolled": false
   },
   "outputs": [
    {
     "data": {
      "text/plain": [
       "(array([  0,   1,   2,   3,   4,   5,   6,   7,   8,   9,  10,  11,  12,\n",
       "         13,  14,  15,  16,  17,  18,  19,  20,  21,  22,  23,  24,  25,\n",
       "         26,  27,  28,  29,  30,  31,  32,  33,  34,  35,  36,  37,  38,\n",
       "         39,  40,  41,  42,  43,  44,  45,  46,  47,  48,  49,  50,  51,\n",
       "         52,  53,  54,  55,  56,  57,  58,  59,  60,  61,  62,  63,  64,\n",
       "         65,  66,  67,  68,  69,  70,  71,  72,  73,  74,  75,  76,  77,\n",
       "         78,  79,  80,  81,  82,  83,  84,  85,  86,  87,  88,  89,  90,\n",
       "         91,  92,  93,  94,  95,  96,  97,  98,  99, 100, 101, 102, 103,\n",
       "        104, 105, 106, 107, 108, 109, 110, 111, 112, 113, 114, 115]),\n",
       " <a list of 116 Text xticklabel objects>)"
      ]
     },
     "execution_count": 52,
     "metadata": {},
     "output_type": "execute_result"
    },
    {
     "data": {
      "image/png": "[encoded data removed]",
      "text/plain": [
       "<matplotlib.figure.Figure at 0x1232ba7f0>"
      ]
     },
     "metadata": {
      "image/png": {
       "height": 383,
       "width": 962
      }
     },
     "output_type": "display_data"
    }
   ],
   "source": [
    "# 房价与单价关系\n",
    "time_unit_price=all_df[['unit_price','time']].groupby('time').mean()\n",
    "sns.set({'figure.figsize':(18,6)})\n",
    "sns.barplot(x=time_unit_price.index,y='unit_price',data=time_unit_price)\n",
    "plt.xticks(rotation=90)"
   ]
  },
  {
   "cell_type": "code",
   "execution_count": 2,
   "metadata": {},
   "outputs": [
    {
     "ename": "NameError",
     "evalue": "name 'all_df' is not defined",
     "output_type": "error",
     "traceback": [
      "\u001b[0;31m---------------------------------------------------------------------------\u001b[0m",
      "\u001b[0;31mNameError\u001b[0m                                 Traceback (most recent call last)",
      "\u001b[0;32m<ipython-input-2-36455af56025>\u001b[0m in \u001b[0;36m<module>\u001b[0;34m()\u001b[0m\n\u001b[0;32m----> 1\u001b[0;31m \u001b[0mall_df\u001b[0m\u001b[0;34m.\u001b[0m\u001b[0mtime\u001b[0m\u001b[0;34m=\u001b[0m\u001b[0mall_df\u001b[0m\u001b[0;34m.\u001b[0m\u001b[0mtime\u001b[0m\u001b[0;34m.\u001b[0m\u001b[0mapply\u001b[0m\u001b[0;34m(\u001b[0m\u001b[0;32mlambda\u001b[0m \u001b[0mx\u001b[0m\u001b[0;34m:\u001b[0m\u001b[0;36m2017\u001b[0m\u001b[0;34m-\u001b[0m\u001b[0mx\u001b[0m \u001b[0;32mif\u001b[0m \u001b[0mx\u001b[0m\u001b[0;34m<=\u001b[0m\u001b[0;36m2017\u001b[0m \u001b[0;32melse\u001b[0m \u001b[0;36m0\u001b[0m\u001b[0;34m)\u001b[0m\u001b[0;34m\u001b[0m\u001b[0m\n\u001b[0m",
      "\u001b[0;31mNameError\u001b[0m: name 'all_df' is not defined"
     ]
    }
   ],
   "source": [
    "all_df.time=all_df.time.apply(lambda x:2017-x if x<=2017 else 0)"
   ]
  },
  {
   "cell_type": "code",
   "execution_count": 3,
   "metadata": {},
   "outputs": [
    {
     "ename": "NameError",
     "evalue": "name 'all_df' is not defined",
     "output_type": "error",
     "traceback": [
      "\u001b[0;31m---------------------------------------------------------------------------\u001b[0m",
      "\u001b[0;31mNameError\u001b[0m                                 Traceback (most recent call last)",
      "\u001b[0;32m<ipython-input-3-167ccb105cf3>\u001b[0m in \u001b[0;36m<module>\u001b[0;34m()\u001b[0m\n\u001b[1;32m      1\u001b[0m \u001b[0;31m# 房龄分布\u001b[0m\u001b[0;34m\u001b[0m\u001b[0;34m\u001b[0m\u001b[0m\n\u001b[1;32m      2\u001b[0m \u001b[0msns\u001b[0m\u001b[0;34m.\u001b[0m\u001b[0mset\u001b[0m\u001b[0;34m(\u001b[0m\u001b[0;34m{\u001b[0m\u001b[0;34m'figure.figsize'\u001b[0m\u001b[0;34m:\u001b[0m\u001b[0;34m(\u001b[0m\u001b[0;36m10\u001b[0m\u001b[0;34m,\u001b[0m\u001b[0;36m4\u001b[0m\u001b[0;34m)\u001b[0m\u001b[0;34m}\u001b[0m\u001b[0;34m)\u001b[0m\u001b[0;34m\u001b[0m\u001b[0m\n\u001b[0;32m----> 3\u001b[0;31m \u001b[0mall_df\u001b[0m\u001b[0;34m.\u001b[0m\u001b[0mtime\u001b[0m\u001b[0;34m.\u001b[0m\u001b[0mhist\u001b[0m\u001b[0;34m(\u001b[0m\u001b[0mbins\u001b[0m\u001b[0;34m=\u001b[0m\u001b[0;36m100\u001b[0m\u001b[0;34m)\u001b[0m\u001b[0;34m\u001b[0m\u001b[0m\n\u001b[0m",
      "\u001b[0;31mNameError\u001b[0m: name 'all_df' is not defined"
     ]
    }
   ],
   "source": [
    "# 房龄分布\n",
    "sns.set({'figure.figsize':(10,4)})\n",
    "all_df.time.hist(bins=100)"
   ]
  },
  {
   "cell_type": "markdown",
   "metadata": {},
   "source": [
    "* 经纬度"
   ]
  },
  {
   "cell_type": "code",
   "execution_count": 153,
   "metadata": {},
   "outputs": [
    {
     "data": {
      "text/html": [
       "<div>\n",
       "<table border=\"1\" class=\"dataframe\">\n",
       "  <thead>\n",
       "    <tr style=\"text-align: right;\">\n",
       "      <th></th>\n",
       "      <th>loc_x</th>\n",
       "      <th>loc_y</th>\n",
       "    </tr>\n",
       "  </thead>\n",
       "  <tbody>\n",
       "    <tr>\n",
       "      <th>0</th>\n",
       "      <td>121.708554</td>\n",
       "      <td>31.198135</td>\n",
       "    </tr>\n",
       "    <tr>\n",
       "      <th>1</th>\n",
       "      <td>121.708554</td>\n",
       "      <td>31.198135</td>\n",
       "    </tr>\n",
       "    <tr>\n",
       "      <th>2</th>\n",
       "      <td>121.708554</td>\n",
       "      <td>31.198135</td>\n",
       "    </tr>\n",
       "    <tr>\n",
       "      <th>3</th>\n",
       "      <td>121.708554</td>\n",
       "      <td>31.198135</td>\n",
       "    </tr>\n",
       "    <tr>\n",
       "      <th>4</th>\n",
       "      <td>121.708554</td>\n",
       "      <td>31.198135</td>\n",
       "    </tr>\n",
       "  </tbody>\n",
       "</table>\n",
       "</div>"
      ],
      "text/plain": [
       "        loc_x      loc_y\n",
       "0  121.708554  31.198135\n",
       "1  121.708554  31.198135\n",
       "2  121.708554  31.198135\n",
       "3  121.708554  31.198135\n",
       "4  121.708554  31.198135"
      ]
     },
     "execution_count": 153,
     "metadata": {},
     "output_type": "execute_result"
    }
   ],
   "source": [
    "coors=pd.DataFrame([coor.split(',') for coor in all_df.Coordinates],columns=['loc_x','loc_y'],index=all_df.index)\n",
    "coors=coors.astype(float)\n",
    "coors.head()"
   ]
  },
  {
   "cell_type": "code",
   "execution_count": 154,
   "metadata": {},
   "outputs": [
    {
     "data": {
      "text/html": [
       "<div>\n",
       "<table border=\"1\" class=\"dataframe\">\n",
       "  <thead>\n",
       "    <tr style=\"text-align: right;\">\n",
       "      <th></th>\n",
       "      <th>area</th>\n",
       "      <th>address</th>\n",
       "      <th>name</th>\n",
       "      <th>price</th>\n",
       "      <th>unit_price</th>\n",
       "      <th>acreage</th>\n",
       "      <th>room_type</th>\n",
       "      <th>all_floor</th>\n",
       "      <th>floor</th>\n",
       "      <th>shore</th>\n",
       "      <th>...</th>\n",
       "      <th>PropertyID</th>\n",
       "      <th>Plate</th>\n",
       "      <th>Module</th>\n",
       "      <th>floor_section</th>\n",
       "      <th>室</th>\n",
       "      <th>厅</th>\n",
       "      <th>厨</th>\n",
       "      <th>卫</th>\n",
       "      <th>loc_x</th>\n",
       "      <th>loc_y</th>\n",
       "    </tr>\n",
       "  </thead>\n",
       "  <tbody>\n",
       "    <tr>\n",
       "      <th>0</th>\n",
       "      <td>浦东</td>\n",
       "      <td>城南路359号</td>\n",
       "      <td>东都小区</td>\n",
       "      <td>1920000.0</td>\n",
       "      <td>39024.0</td>\n",
       "      <td>49.2</td>\n",
       "      <td>2室1厅1厨1卫</td>\n",
       "      <td>5.0</td>\n",
       "      <td>4.0</td>\n",
       "      <td>2</td>\n",
       "      <td>...</td>\n",
       "      <td>4781</td>\n",
       "      <td>川沙</td>\n",
       "      <td>0</td>\n",
       "      <td>多层</td>\n",
       "      <td>2.0</td>\n",
       "      <td>1.0</td>\n",
       "      <td>1.0</td>\n",
       "      <td>1.0</td>\n",
       "      <td>121.708554</td>\n",
       "      <td>31.198135</td>\n",
       "    </tr>\n",
       "    <tr>\n",
       "      <th>1</th>\n",
       "      <td>浦东</td>\n",
       "      <td>城南路329弄</td>\n",
       "      <td>东都小区</td>\n",
       "      <td>1900000.0</td>\n",
       "      <td>38618.0</td>\n",
       "      <td>49.2</td>\n",
       "      <td>2室1厅1厨1卫</td>\n",
       "      <td>6.0</td>\n",
       "      <td>2.0</td>\n",
       "      <td>2</td>\n",
       "      <td>...</td>\n",
       "      <td>4781</td>\n",
       "      <td>川沙</td>\n",
       "      <td>0</td>\n",
       "      <td>低层</td>\n",
       "      <td>2.0</td>\n",
       "      <td>1.0</td>\n",
       "      <td>1.0</td>\n",
       "      <td>1.0</td>\n",
       "      <td>121.708554</td>\n",
       "      <td>31.198135</td>\n",
       "    </tr>\n",
       "    <tr>\n",
       "      <th>2</th>\n",
       "      <td>浦东</td>\n",
       "      <td>城南路341弄</td>\n",
       "      <td>东都小区</td>\n",
       "      <td>1920000.0</td>\n",
       "      <td>38400.0</td>\n",
       "      <td>50.0</td>\n",
       "      <td>2室1厅1厨1卫</td>\n",
       "      <td>6.0</td>\n",
       "      <td>2.0</td>\n",
       "      <td>2</td>\n",
       "      <td>...</td>\n",
       "      <td>4781</td>\n",
       "      <td>川沙</td>\n",
       "      <td>0</td>\n",
       "      <td>低层</td>\n",
       "      <td>2.0</td>\n",
       "      <td>1.0</td>\n",
       "      <td>1.0</td>\n",
       "      <td>1.0</td>\n",
       "      <td>121.708554</td>\n",
       "      <td>31.198135</td>\n",
       "    </tr>\n",
       "    <tr>\n",
       "      <th>3</th>\n",
       "      <td>浦东</td>\n",
       "      <td>城南路359号</td>\n",
       "      <td>东都小区</td>\n",
       "      <td>1850000.0</td>\n",
       "      <td>37000.0</td>\n",
       "      <td>50.0</td>\n",
       "      <td>1室1厅1厨1卫</td>\n",
       "      <td>6.0</td>\n",
       "      <td>6.0</td>\n",
       "      <td>2</td>\n",
       "      <td>...</td>\n",
       "      <td>4781</td>\n",
       "      <td>川沙</td>\n",
       "      <td>0</td>\n",
       "      <td>多层</td>\n",
       "      <td>1.0</td>\n",
       "      <td>1.0</td>\n",
       "      <td>1.0</td>\n",
       "      <td>1.0</td>\n",
       "      <td>121.708554</td>\n",
       "      <td>31.198135</td>\n",
       "    </tr>\n",
       "    <tr>\n",
       "      <th>4</th>\n",
       "      <td>浦东</td>\n",
       "      <td>城南路359号</td>\n",
       "      <td>东都小区</td>\n",
       "      <td>1920000.0</td>\n",
       "      <td>39184.0</td>\n",
       "      <td>49.0</td>\n",
       "      <td>2室1厅1厨1卫</td>\n",
       "      <td>5.0</td>\n",
       "      <td>4.0</td>\n",
       "      <td>3</td>\n",
       "      <td>...</td>\n",
       "      <td>4781</td>\n",
       "      <td>川沙</td>\n",
       "      <td>0</td>\n",
       "      <td>多层</td>\n",
       "      <td>2.0</td>\n",
       "      <td>1.0</td>\n",
       "      <td>1.0</td>\n",
       "      <td>1.0</td>\n",
       "      <td>121.708554</td>\n",
       "      <td>31.198135</td>\n",
       "    </tr>\n",
       "  </tbody>\n",
       "</table>\n",
       "<p>5 rows × 26 columns</p>\n",
       "</div>"
      ],
      "text/plain": [
       "  area  address  name      price  unit_price  acreage room_type  all_floor  \\\n",
       "0   浦东  城南路359号  东都小区  1920000.0     39024.0     49.2  2室1厅1厨1卫        5.0   \n",
       "1   浦东  城南路329弄  东都小区  1900000.0     38618.0     49.2  2室1厅1厨1卫        6.0   \n",
       "2   浦东  城南路341弄  东都小区  1920000.0     38400.0     50.0  2室1厅1厨1卫        6.0   \n",
       "3   浦东  城南路359号  东都小区  1850000.0     37000.0     50.0  1室1厅1厨1卫        6.0   \n",
       "4   浦东  城南路359号  东都小区  1920000.0     39184.0     49.0  2室1厅1厨1卫        5.0   \n",
       "\n",
       "   floor  shore    ...      PropertyID  Plate  Module floor_section    室    厅  \\\n",
       "0    4.0      2    ...            4781     川沙       0            多层  2.0  1.0   \n",
       "1    2.0      2    ...            4781     川沙       0            低层  2.0  1.0   \n",
       "2    2.0      2    ...            4781     川沙       0            低层  2.0  1.0   \n",
       "3    6.0      2    ...            4781     川沙       0            多层  1.0  1.0   \n",
       "4    4.0      3    ...            4781     川沙       0            多层  2.0  1.0   \n",
       "\n",
       "     厨    卫       loc_x      loc_y  \n",
       "0  1.0  1.0  121.708554  31.198135  \n",
       "1  1.0  1.0  121.708554  31.198135  \n",
       "2  1.0  1.0  121.708554  31.198135  \n",
       "3  1.0  1.0  121.708554  31.198135  \n",
       "4  1.0  1.0  121.708554  31.198135  \n",
       "\n",
       "[5 rows x 26 columns]"
      ]
     },
     "execution_count": 154,
     "metadata": {},
     "output_type": "execute_result"
    }
   ],
   "source": [
    "all_df=pd.concat((all_df,coors),axis=1).drop('Coordinates',axis=1)\n",
    "all_df.head()"
   ]
  },
  {
   "cell_type": "code",
   "execution_count": 190,
   "metadata": {},
   "outputs": [
    {
     "name": "stderr",
     "output_type": "stream",
     "text": [
      "/usr/local/lib/python3.6/site-packages/pandas/core/generic.py:1138: PerformanceWarning: \n",
      "your performance may suffer as PyTables will pickle object types that it cannot\n",
      "map directly to c-types [inferred_type->mixed,key->block0_values] [items->['area', 'address', 'name', 'room_type', 'Source', 'house_trait', 'Plate', 'floor_section']]\n",
      "\n",
      "  return pytables.to_hdf(path_or_buf, key, self, **kwargs)\n"
     ]
    }
   ],
   "source": [
    "# 缓存特征矩阵\n",
    "all_df.to_hdf('./cache/feats.hdf','data')"
   ]
  },
  {
   "cell_type": "code",
   "execution_count": 4,
   "metadata": {},
   "outputs": [
    {
     "data": {
      "text/html": [
       "<div>\n",
       "<table border=\"1\" class=\"dataframe\">\n",
       "  <thead>\n",
       "    <tr style=\"text-align: right;\">\n",
       "      <th></th>\n",
       "      <th>area</th>\n",
       "      <th>address</th>\n",
       "      <th>name</th>\n",
       "      <th>price</th>\n",
       "      <th>unit_price</th>\n",
       "      <th>acreage</th>\n",
       "      <th>room_type</th>\n",
       "      <th>all_floor</th>\n",
       "      <th>floor</th>\n",
       "      <th>shore</th>\n",
       "      <th>...</th>\n",
       "      <th>PropertyID</th>\n",
       "      <th>Plate</th>\n",
       "      <th>Module</th>\n",
       "      <th>floor_section</th>\n",
       "      <th>室</th>\n",
       "      <th>厅</th>\n",
       "      <th>厨</th>\n",
       "      <th>卫</th>\n",
       "      <th>loc_x</th>\n",
       "      <th>loc_y</th>\n",
       "    </tr>\n",
       "  </thead>\n",
       "  <tbody>\n",
       "    <tr>\n",
       "      <th>0</th>\n",
       "      <td>浦东</td>\n",
       "      <td>城南路359号</td>\n",
       "      <td>东都小区</td>\n",
       "      <td>1920000.0</td>\n",
       "      <td>39024.0</td>\n",
       "      <td>49.2</td>\n",
       "      <td>2室1厅1厨1卫</td>\n",
       "      <td>5.0</td>\n",
       "      <td>4.0</td>\n",
       "      <td>2</td>\n",
       "      <td>...</td>\n",
       "      <td>4781</td>\n",
       "      <td>川沙</td>\n",
       "      <td>0</td>\n",
       "      <td>多层</td>\n",
       "      <td>2.0</td>\n",
       "      <td>1.0</td>\n",
       "      <td>1.0</td>\n",
       "      <td>1.0</td>\n",
       "      <td>121.708554</td>\n",
       "      <td>31.198135</td>\n",
       "    </tr>\n",
       "    <tr>\n",
       "      <th>1</th>\n",
       "      <td>浦东</td>\n",
       "      <td>城南路329弄</td>\n",
       "      <td>东都小区</td>\n",
       "      <td>1900000.0</td>\n",
       "      <td>38618.0</td>\n",
       "      <td>49.2</td>\n",
       "      <td>2室1厅1厨1卫</td>\n",
       "      <td>6.0</td>\n",
       "      <td>2.0</td>\n",
       "      <td>2</td>\n",
       "      <td>...</td>\n",
       "      <td>4781</td>\n",
       "      <td>川沙</td>\n",
       "      <td>0</td>\n",
       "      <td>低层</td>\n",
       "      <td>2.0</td>\n",
       "      <td>1.0</td>\n",
       "      <td>1.0</td>\n",
       "      <td>1.0</td>\n",
       "      <td>121.708554</td>\n",
       "      <td>31.198135</td>\n",
       "    </tr>\n",
       "    <tr>\n",
       "      <th>2</th>\n",
       "      <td>浦东</td>\n",
       "      <td>城南路341弄</td>\n",
       "      <td>东都小区</td>\n",
       "      <td>1920000.0</td>\n",
       "      <td>38400.0</td>\n",
       "      <td>50.0</td>\n",
       "      <td>2室1厅1厨1卫</td>\n",
       "      <td>6.0</td>\n",
       "      <td>2.0</td>\n",
       "      <td>2</td>\n",
       "      <td>...</td>\n",
       "      <td>4781</td>\n",
       "      <td>川沙</td>\n",
       "      <td>0</td>\n",
       "      <td>低层</td>\n",
       "      <td>2.0</td>\n",
       "      <td>1.0</td>\n",
       "      <td>1.0</td>\n",
       "      <td>1.0</td>\n",
       "      <td>121.708554</td>\n",
       "      <td>31.198135</td>\n",
       "    </tr>\n",
       "    <tr>\n",
       "      <th>3</th>\n",
       "      <td>浦东</td>\n",
       "      <td>城南路359号</td>\n",
       "      <td>东都小区</td>\n",
       "      <td>1850000.0</td>\n",
       "      <td>37000.0</td>\n",
       "      <td>50.0</td>\n",
       "      <td>1室1厅1厨1卫</td>\n",
       "      <td>6.0</td>\n",
       "      <td>6.0</td>\n",
       "      <td>2</td>\n",
       "      <td>...</td>\n",
       "      <td>4781</td>\n",
       "      <td>川沙</td>\n",
       "      <td>0</td>\n",
       "      <td>多层</td>\n",
       "      <td>1.0</td>\n",
       "      <td>1.0</td>\n",
       "      <td>1.0</td>\n",
       "      <td>1.0</td>\n",
       "      <td>121.708554</td>\n",
       "      <td>31.198135</td>\n",
       "    </tr>\n",
       "    <tr>\n",
       "      <th>4</th>\n",
       "      <td>浦东</td>\n",
       "      <td>城南路359号</td>\n",
       "      <td>东都小区</td>\n",
       "      <td>1920000.0</td>\n",
       "      <td>39184.0</td>\n",
       "      <td>49.0</td>\n",
       "      <td>2室1厅1厨1卫</td>\n",
       "      <td>5.0</td>\n",
       "      <td>4.0</td>\n",
       "      <td>3</td>\n",
       "      <td>...</td>\n",
       "      <td>4781</td>\n",
       "      <td>川沙</td>\n",
       "      <td>0</td>\n",
       "      <td>多层</td>\n",
       "      <td>2.0</td>\n",
       "      <td>1.0</td>\n",
       "      <td>1.0</td>\n",
       "      <td>1.0</td>\n",
       "      <td>121.708554</td>\n",
       "      <td>31.198135</td>\n",
       "    </tr>\n",
       "  </tbody>\n",
       "</table>\n",
       "<p>5 rows × 26 columns</p>\n",
       "</div>"
      ],
      "text/plain": [
       "  area  address  name      price  unit_price  acreage room_type  all_floor  \\\n",
       "0   浦东  城南路359号  东都小区  1920000.0     39024.0     49.2  2室1厅1厨1卫        5.0   \n",
       "1   浦东  城南路329弄  东都小区  1900000.0     38618.0     49.2  2室1厅1厨1卫        6.0   \n",
       "2   浦东  城南路341弄  东都小区  1920000.0     38400.0     50.0  2室1厅1厨1卫        6.0   \n",
       "3   浦东  城南路359号  东都小区  1850000.0     37000.0     50.0  1室1厅1厨1卫        6.0   \n",
       "4   浦东  城南路359号  东都小区  1920000.0     39184.0     49.0  2室1厅1厨1卫        5.0   \n",
       "\n",
       "   floor  shore    ...      PropertyID  Plate  Module floor_section    室    厅  \\\n",
       "0    4.0      2    ...            4781     川沙       0            多层  2.0  1.0   \n",
       "1    2.0      2    ...            4781     川沙       0            低层  2.0  1.0   \n",
       "2    2.0      2    ...            4781     川沙       0            低层  2.0  1.0   \n",
       "3    6.0      2    ...            4781     川沙       0            多层  1.0  1.0   \n",
       "4    4.0      3    ...            4781     川沙       0            多层  2.0  1.0   \n",
       "\n",
       "     厨    卫       loc_x      loc_y  \n",
       "0  1.0  1.0  121.708554  31.198135  \n",
       "1  1.0  1.0  121.708554  31.198135  \n",
       "2  1.0  1.0  121.708554  31.198135  \n",
       "3  1.0  1.0  121.708554  31.198135  \n",
       "4  1.0  1.0  121.708554  31.198135  \n",
       "\n",
       "[5 rows x 26 columns]"
      ]
     },
     "execution_count": 4,
     "metadata": {},
     "output_type": "execute_result"
    }
   ],
   "source": [
    "all_df=pd.read_hdf('./cache/feats.hdf','data')\n",
    "all_df.head()"
   ]
  },
  {
   "cell_type": "code",
   "execution_count": 5,
   "metadata": {},
   "outputs": [
    {
     "name": "stdout",
     "output_type": "stream",
     "text": [
      "共有2827734条训练数据\n"
     ]
    }
   ],
   "source": [
    "print('共有%d条训练数据'%all_df.shape[0])"
   ]
  },
  {
   "cell_type": "markdown",
   "metadata": {},
   "source": [
    "* 处理测试集"
   ]
  },
  {
   "cell_type": "code",
   "execution_count": 6,
   "metadata": {},
   "outputs": [
    {
     "data": {
      "text/plain": [
       "1497"
      ]
     },
     "execution_count": 6,
     "metadata": {},
     "output_type": "execute_result"
    }
   ],
   "source": [
    "test_11=pd.read_excel('../../数据/楼盘基价_201711.xls')\n",
    "test_12=pd.read_excel('../../数据/楼盘基价_201712.xlsx')\n",
    "test_11['Month']=11\n",
    "test_12['Month']=12\n",
    "test_df=pd.concat((test_11,test_12))\n",
    "test_df.head()\n",
    "\n",
    "del test_11,test_12\n",
    "gc.collect()"
   ]
  },
  {
   "cell_type": "code",
   "execution_count": 7,
   "metadata": {},
   "outputs": [
    {
     "name": "stdout",
     "output_type": "stream",
     "text": [
      "11月份数据量:528\n",
      "12月份数据量:620\n"
     ]
    }
   ],
   "source": [
    "print('11月份数据量:%d'%test_df[test_df.Month==11].shape[0])\n",
    "print('12月份数据量:%d'%test_df[test_df.Month==12].shape[0])"
   ]
  },
  {
   "cell_type": "code",
   "execution_count": 8,
   "metadata": {},
   "outputs": [
    {
     "name": "stdout",
     "output_type": "stream",
     "text": [
      "11月份数据量:497\n",
      "12月份数据量:578\n"
     ]
    }
   ],
   "source": [
    "# 去掉无信息数据后\n",
    "test_df.dropna(inplace=True)\n",
    "print('11月份数据量:%d'%test_df[test_df.Month==11].shape[0])\n",
    "print('12月份数据量:%d'%test_df[test_df.Month==12].shape[0])"
   ]
  },
  {
   "cell_type": "code",
   "execution_count": 9,
   "metadata": {
    "collapsed": true
   },
   "outputs": [],
   "source": [
    "test_df.rename(columns={'楼盘名称':'name'},inplace=True)\n",
    "test_df.name=test_df.name.apply(name_filter)"
   ]
  },
  {
   "cell_type": "code",
   "execution_count": 10,
   "metadata": {},
   "outputs": [
    {
     "data": {
      "text/html": [
       "<div>\n",
       "<table border=\"1\" class=\"dataframe\">\n",
       "  <thead>\n",
       "    <tr style=\"text-align: right;\">\n",
       "      <th></th>\n",
       "      <th>地址</th>\n",
       "      <th>房屋类型</th>\n",
       "      <th>竣工日期</th>\n",
       "      <th>所在楼层</th>\n",
       "      <th>总楼层</th>\n",
       "      <th>面积</th>\n",
       "      <th>正常价格</th>\n",
       "      <th>楼盘ID</th>\n",
       "      <th>name</th>\n",
       "      <th>Month</th>\n",
       "    </tr>\n",
       "  </thead>\n",
       "  <tbody>\n",
       "    <tr>\n",
       "      <th>1</th>\n",
       "      <td>宝山区淞南九村220号101室</td>\n",
       "      <td>住宅</td>\n",
       "      <td>1997</td>\n",
       "      <td>1</td>\n",
       "      <td>6</td>\n",
       "      <td>69.40</td>\n",
       "      <td>47500</td>\n",
       "      <td>11922.0</td>\n",
       "      <td>淞南九村</td>\n",
       "      <td>11</td>\n",
       "    </tr>\n",
       "    <tr>\n",
       "      <th>2</th>\n",
       "      <td>宝山区淞南九村221号101室</td>\n",
       "      <td>住宅</td>\n",
       "      <td>1997</td>\n",
       "      <td>1</td>\n",
       "      <td>6</td>\n",
       "      <td>62.27</td>\n",
       "      <td>47500</td>\n",
       "      <td>11922.0</td>\n",
       "      <td>淞南九村</td>\n",
       "      <td>11</td>\n",
       "    </tr>\n",
       "    <tr>\n",
       "      <th>4</th>\n",
       "      <td>奉贤区青村镇北唐新苑21号401室</td>\n",
       "      <td>住宅</td>\n",
       "      <td>2006</td>\n",
       "      <td>4</td>\n",
       "      <td>4</td>\n",
       "      <td>127.66</td>\n",
       "      <td>16100</td>\n",
       "      <td>9824.0</td>\n",
       "      <td>北唐新苑</td>\n",
       "      <td>11</td>\n",
       "    </tr>\n",
       "    <tr>\n",
       "      <th>5</th>\n",
       "      <td>奉贤区西渡镇鸿宝二村别墅15幢全幢</td>\n",
       "      <td>花园住宅</td>\n",
       "      <td>1994</td>\n",
       "      <td>1</td>\n",
       "      <td>2</td>\n",
       "      <td>287.54</td>\n",
       "      <td>33000</td>\n",
       "      <td>5383.0</td>\n",
       "      <td>鸿宝二村</td>\n",
       "      <td>11</td>\n",
       "    </tr>\n",
       "    <tr>\n",
       "      <th>6</th>\n",
       "      <td>虹口区东体育会路992弄1号1202室</td>\n",
       "      <td>住宅</td>\n",
       "      <td>2002</td>\n",
       "      <td>12</td>\n",
       "      <td>29</td>\n",
       "      <td>141.63</td>\n",
       "      <td>72500</td>\n",
       "      <td>11021.0</td>\n",
       "      <td>曲阳豪庭</td>\n",
       "      <td>11</td>\n",
       "    </tr>\n",
       "  </tbody>\n",
       "</table>\n",
       "</div>"
      ],
      "text/plain": [
       "                    地址  房屋类型  竣工日期  所在楼层  总楼层      面积   正常价格     楼盘ID  name  \\\n",
       "1      宝山区淞南九村220号101室    住宅  1997     1    6   69.40  47500  11922.0  淞南九村   \n",
       "2      宝山区淞南九村221号101室    住宅  1997     1    6   62.27  47500  11922.0  淞南九村   \n",
       "4    奉贤区青村镇北唐新苑21号401室    住宅  2006     4    4  127.66  16100   9824.0  北唐新苑   \n",
       "5    奉贤区西渡镇鸿宝二村别墅15幢全幢  花园住宅  1994     1    2  287.54  33000   5383.0  鸿宝二村   \n",
       "6  虹口区东体育会路992弄1号1202室    住宅  2002    12   29  141.63  72500  11021.0  曲阳豪庭   \n",
       "\n",
       "   Month  \n",
       "1     11  \n",
       "2     11  \n",
       "4     11  \n",
       "5     11  \n",
       "6     11  "
      ]
     },
     "execution_count": 10,
     "metadata": {},
     "output_type": "execute_result"
    }
   ],
   "source": [
    "test_df.head()"
   ]
  },
  {
   "cell_type": "code",
   "execution_count": 11,
   "metadata": {},
   "outputs": [
    {
     "data": {
      "text/plain": [
       "584"
      ]
     },
     "execution_count": 11,
     "metadata": {},
     "output_type": "execute_result"
    }
   ],
   "source": [
    "# 交集个数\n",
    "len(set(test_df.name)&set(all_df.name))"
   ]
  },
  {
   "cell_type": "markdown",
   "metadata": {},
   "source": [
    "## 模型训练"
   ]
  },
  {
   "cell_type": "code",
   "execution_count": 12,
   "metadata": {
    "collapsed": true,
    "scrolled": true
   },
   "outputs": [],
   "source": [
    "def make_train_test():\n",
    "    \"\"\"构造用于模型训练的训练集和测试集\"\"\"\n",
    "    # 训练集\n",
    "    x_train=all_df.drop(['area','unit_price','price','address','room_type','house_trait','month','Source','PropertyID'],axis=1)\n",
    "    y_train=all_df.loc[x_train.index].unit_price\n",
    "    # 计算小区房价中位数\n",
    "    med_price=pd.concat((x_train.name,y_train),axis=1)\n",
    "    med_price=med_price.groupby('name',as_index=False)['unit_price'].agg({'median':'median'})\n",
    "    x_train=pd.merge(x_train,med_price,on='name',how='left')\n",
    "    # 计算经纬度geohash信息\n",
    "    geo=[]\n",
    "    for i in tqdm(x_train[['loc_y','loc_x']].values):\n",
    "        geo.append(encode(i[0],i[1],6))\n",
    "    x_train['geo']=[i[:-1] for i in geo]\n",
    "\n",
    "    # 测试集\n",
    "    x_test=test_df[['竣工日期','所在楼层','总楼层','面积','正常价格','name']]\n",
    "    x_test.columns=['time','floor','all_floor','acreage','unit_price','name']\n",
    "    x_test=pd.merge(x_test,x_train.drop(['time','acreage','floor','all_floor'],axis=1),on='name',how='left').dropna()\n",
    "    x_test['floor_section']=floor_map(x_test.floor)\n",
    "    x_test['time']=x_test.time.apply(lambda x:int(x.strip('年')) if type(x)==str else int(x))\n",
    "    x_test['time']=x_test.time.apply(lambda x:2017-x if x<=2017 else 0)\n",
    "    y_test=x_test.unit_price\n",
    "    x_test.drop('unit_price',axis=1,inplace=True)\n",
    "    return x_train,y_train,x_test,y_test"
   ]
  },
  {
   "cell_type": "markdown",
   "metadata": {},
   "source": [
    "* LightGBM"
   ]
  },
  {
   "cell_type": "code",
   "execution_count": 13,
   "metadata": {},
   "outputs": [
    {
     "name": "stderr",
     "output_type": "stream",
     "text": [
      "100%|██████████| 2827734/2827734 [00:43<00:00, 65051.71it/s]\n"
     ]
    }
   ],
   "source": [
    "x_train,y_train,x_test,y_test=make_train_test()\n",
    "\n",
    "# 将离散型变量转换成整型，用于lgb训练\n",
    "from sklearn.preprocessing import LabelEncoder\n",
    "\n",
    "name_le=LabelEncoder() # 小区名\n",
    "plate_le=LabelEncoder() # 小板块\n",
    "geo_le=LabelEncoder() # 经纬度\n",
    "\n",
    "x_train.name=name_le.fit_transform(x_train.name)\n",
    "x_test.name=name_le.transform(x_test.name)\n",
    "\n",
    "x_train.Plate=plate_le.fit_transform(x_train.Plate)\n",
    "x_test.Plate=plate_le.transform(x_test.Plate)\n",
    "\n",
    "x_train.geo=geo_le.fit_transform(x_train.geo)\n",
    "x_test.geo=geo_le.transform(x_test.geo)\n",
    "\n",
    "section_map={'低层':0,'小高层':1,'多层':2,'高层':3}\n",
    "x_train.floor_section=x_train.floor_section.replace(section_map)\n",
    "x_test.floor_section=x_test.floor_section.replace(section_map)\n",
    "\n",
    "x_train.drop('name',inplace=True,axis=1)\n",
    "x_test.drop('name',inplace=True,axis=1)"
   ]
  },
  {
   "cell_type": "code",
   "execution_count": 89,
   "metadata": {},
   "outputs": [],
   "source": [
    "# 分割训练/验证集\n",
    "x1,x2,y1,y2=train_test_split(x_train,y_train,train_size=0.9,random_state=0)\n",
    "\n",
    "# 缩放标签数据\n",
    "# price_zoom=10000\n",
    "# y1/=price_zoom\n",
    "# y2/=price_zoom\n",
    "\n",
    "# 删除重要性较低的特征\n",
    "# x1.drop(['house_type','Module','floor_section'],axis=1,inplace=True)\n",
    "# x2.drop(['house_type','Module','floor_section'],axis=1,inplace=True)"
   ]
  },
  {
   "cell_type": "code",
   "execution_count": 134,
   "metadata": {
    "scrolled": true
   },
   "outputs": [
    {
     "name": "stderr",
     "output_type": "stream",
     "text": [
      "/usr/local/lib/python3.6/site-packages/lightgbm/basic.py:1005: UserWarning: Using categorical_feature in Dataset.\n",
      "  warnings.warn('Using categorical_feature in Dataset.')\n",
      "/usr/local/lib/python3.6/site-packages/lightgbm/basic.py:1007: UserWarning: categorical_feature in Dataset is overrided. New categorical_feature is ['Plate', 'floor_section', 'geo']\n",
      "  warnings.warn('categorical_feature in Dataset is overrided. New categorical_feature is {}'.format(sorted(list(categorical_feature))))\n"
     ]
    },
    {
     "name": "stdout",
     "output_type": "stream",
     "text": [
      "[1]\tvalid_0's l2: 3.61595e+08\tvalid_0's mse: 3.61595e+08\n",
      "Training until validation scores don't improve for 10 rounds.\n",
      "[2]\tvalid_0's l2: 3.58988e+08\tvalid_0's mse: 3.58988e+08\n",
      "[3]\tvalid_0's l2: 3.56333e+08\tvalid_0's mse: 3.56333e+08\n",
      "[4]\tvalid_0's l2: 3.536e+08\tvalid_0's mse: 3.536e+08\n",
      "[5]\tvalid_0's l2: 3.51028e+08\tvalid_0's mse: 3.51028e+08\n",
      "[6]\tvalid_0's l2: 3.48322e+08\tvalid_0's mse: 3.48322e+08\n",
      "[7]\tvalid_0's l2: 3.45765e+08\tvalid_0's mse: 3.45765e+08\n",
      "[8]\tvalid_0's l2: 3.43199e+08\tvalid_0's mse: 3.43199e+08\n",
      "[9]\tvalid_0's l2: 3.40663e+08\tvalid_0's mse: 3.40663e+08\n",
      "[10]\tvalid_0's l2: 3.3802e+08\tvalid_0's mse: 3.3802e+08\n",
      "[11]\tvalid_0's l2: 3.35401e+08\tvalid_0's mse: 3.35401e+08\n",
      "[12]\tvalid_0's l2: 3.32906e+08\tvalid_0's mse: 3.32906e+08\n",
      "[13]\tvalid_0's l2: 3.30317e+08\tvalid_0's mse: 3.30317e+08\n",
      "[14]\tvalid_0's l2: 3.27751e+08\tvalid_0's mse: 3.27751e+08\n",
      "[15]\tvalid_0's l2: 3.25204e+08\tvalid_0's mse: 3.25204e+08\n",
      "[16]\tvalid_0's l2: 3.22774e+08\tvalid_0's mse: 3.22774e+08\n",
      "[17]\tvalid_0's l2: 3.20415e+08\tvalid_0's mse: 3.20415e+08\n",
      "[18]\tvalid_0's l2: 3.17917e+08\tvalid_0's mse: 3.17917e+08\n",
      "[19]\tvalid_0's l2: 3.1557e+08\tvalid_0's mse: 3.1557e+08\n",
      "[20]\tvalid_0's l2: 3.1311e+08\tvalid_0's mse: 3.1311e+08\n",
      "[21]\tvalid_0's l2: 3.10794e+08\tvalid_0's mse: 3.10794e+08\n",
      "[22]\tvalid_0's l2: 3.08488e+08\tvalid_0's mse: 3.08488e+08\n",
      "[23]\tvalid_0's l2: 3.06177e+08\tvalid_0's mse: 3.06177e+08\n",
      "[24]\tvalid_0's l2: 3.03777e+08\tvalid_0's mse: 3.03777e+08\n",
      "[25]\tvalid_0's l2: 3.01552e+08\tvalid_0's mse: 3.01552e+08\n",
      "[26]\tvalid_0's l2: 2.99303e+08\tvalid_0's mse: 2.99303e+08\n",
      "[27]\tvalid_0's l2: 2.97098e+08\tvalid_0's mse: 2.97098e+08\n",
      "[28]\tvalid_0's l2: 2.94875e+08\tvalid_0's mse: 2.94875e+08\n",
      "[29]\tvalid_0's l2: 2.92661e+08\tvalid_0's mse: 2.92661e+08\n",
      "[30]\tvalid_0's l2: 2.90343e+08\tvalid_0's mse: 2.90343e+08\n",
      "[31]\tvalid_0's l2: 2.88039e+08\tvalid_0's mse: 2.88039e+08\n",
      "[32]\tvalid_0's l2: 2.85875e+08\tvalid_0's mse: 2.85875e+08\n",
      "[33]\tvalid_0's l2: 2.83739e+08\tvalid_0's mse: 2.83739e+08\n",
      "[34]\tvalid_0's l2: 2.8148e+08\tvalid_0's mse: 2.8148e+08\n",
      "[35]\tvalid_0's l2: 2.79378e+08\tvalid_0's mse: 2.79378e+08\n",
      "[36]\tvalid_0's l2: 2.77296e+08\tvalid_0's mse: 2.77296e+08\n",
      "[37]\tvalid_0's l2: 2.75078e+08\tvalid_0's mse: 2.75078e+08\n",
      "[38]\tvalid_0's l2: 2.72881e+08\tvalid_0's mse: 2.72881e+08\n",
      "[39]\tvalid_0's l2: 2.70839e+08\tvalid_0's mse: 2.70839e+08\n",
      "[40]\tvalid_0's l2: 2.68676e+08\tvalid_0's mse: 2.68676e+08\n",
      "[41]\tvalid_0's l2: 2.66528e+08\tvalid_0's mse: 2.66528e+08\n",
      "[42]\tvalid_0's l2: 2.64524e+08\tvalid_0's mse: 2.64524e+08\n",
      "[43]\tvalid_0's l2: 2.62528e+08\tvalid_0's mse: 2.62528e+08\n",
      "[44]\tvalid_0's l2: 2.60551e+08\tvalid_0's mse: 2.60551e+08\n",
      "[45]\tvalid_0's l2: 2.58458e+08\tvalid_0's mse: 2.58458e+08\n",
      "[46]\tvalid_0's l2: 2.56387e+08\tvalid_0's mse: 2.56387e+08\n",
      "[47]\tvalid_0's l2: 2.54442e+08\tvalid_0's mse: 2.54442e+08\n",
      "[48]\tvalid_0's l2: 2.52398e+08\tvalid_0's mse: 2.52398e+08\n",
      "[49]\tvalid_0's l2: 2.50496e+08\tvalid_0's mse: 2.50496e+08\n",
      "[50]\tvalid_0's l2: 2.48474e+08\tvalid_0's mse: 2.48474e+08\n",
      "[51]\tvalid_0's l2: 2.46471e+08\tvalid_0's mse: 2.46471e+08\n",
      "[52]\tvalid_0's l2: 2.44482e+08\tvalid_0's mse: 2.44482e+08\n",
      "[53]\tvalid_0's l2: 2.42511e+08\tvalid_0's mse: 2.42511e+08\n",
      "[54]\tvalid_0's l2: 2.40563e+08\tvalid_0's mse: 2.40563e+08\n",
      "[55]\tvalid_0's l2: 2.38625e+08\tvalid_0's mse: 2.38625e+08\n",
      "[56]\tvalid_0's l2: 2.36702e+08\tvalid_0's mse: 2.36702e+08\n",
      "[57]\tvalid_0's l2: 2.34901e+08\tvalid_0's mse: 2.34901e+08\n",
      "[58]\tvalid_0's l2: 2.33007e+08\tvalid_0's mse: 2.33007e+08\n",
      "[59]\tvalid_0's l2: 2.31126e+08\tvalid_0's mse: 2.31126e+08\n",
      "[60]\tvalid_0's l2: 2.29246e+08\tvalid_0's mse: 2.29246e+08\n",
      "[61]\tvalid_0's l2: 2.27509e+08\tvalid_0's mse: 2.27509e+08\n",
      "[62]\tvalid_0's l2: 2.25672e+08\tvalid_0's mse: 2.25672e+08\n",
      "[63]\tvalid_0's l2: 2.23958e+08\tvalid_0's mse: 2.23958e+08\n",
      "[64]\tvalid_0's l2: 2.22256e+08\tvalid_0's mse: 2.22256e+08\n",
      "[65]\tvalid_0's l2: 2.20461e+08\tvalid_0's mse: 2.20461e+08\n",
      "[66]\tvalid_0's l2: 2.18798e+08\tvalid_0's mse: 2.18798e+08\n",
      "[67]\tvalid_0's l2: 2.17158e+08\tvalid_0's mse: 2.17158e+08\n",
      "[68]\tvalid_0's l2: 2.15516e+08\tvalid_0's mse: 2.15516e+08\n",
      "[69]\tvalid_0's l2: 2.13888e+08\tvalid_0's mse: 2.13888e+08\n",
      "[70]\tvalid_0's l2: 2.1216e+08\tvalid_0's mse: 2.1216e+08\n",
      "[71]\tvalid_0's l2: 2.10439e+08\tvalid_0's mse: 2.10439e+08\n",
      "[72]\tvalid_0's l2: 2.08731e+08\tvalid_0's mse: 2.08731e+08\n",
      "[73]\tvalid_0's l2: 2.07147e+08\tvalid_0's mse: 2.07147e+08\n",
      "[74]\tvalid_0's l2: 2.05473e+08\tvalid_0's mse: 2.05473e+08\n",
      "[75]\tvalid_0's l2: 2.03803e+08\tvalid_0's mse: 2.03803e+08\n",
      "[76]\tvalid_0's l2: 2.02252e+08\tvalid_0's mse: 2.02252e+08\n",
      "[77]\tvalid_0's l2: 2.00728e+08\tvalid_0's mse: 2.00728e+08\n",
      "[78]\tvalid_0's l2: 1.99101e+08\tvalid_0's mse: 1.99101e+08\n",
      "[79]\tvalid_0's l2: 1.9761e+08\tvalid_0's mse: 1.9761e+08\n",
      "[80]\tvalid_0's l2: 1.96011e+08\tvalid_0's mse: 1.96011e+08\n",
      "[81]\tvalid_0's l2: 1.94413e+08\tvalid_0's mse: 1.94413e+08\n",
      "[82]\tvalid_0's l2: 1.92937e+08\tvalid_0's mse: 1.92937e+08\n",
      "[83]\tvalid_0's l2: 1.91487e+08\tvalid_0's mse: 1.91487e+08\n",
      "[84]\tvalid_0's l2: 1.90054e+08\tvalid_0's mse: 1.90054e+08\n",
      "[85]\tvalid_0's l2: 1.88514e+08\tvalid_0's mse: 1.88514e+08\n",
      "[86]\tvalid_0's l2: 1.87089e+08\tvalid_0's mse: 1.87089e+08\n",
      "[87]\tvalid_0's l2: 1.85685e+08\tvalid_0's mse: 1.85685e+08\n",
      "[88]\tvalid_0's l2: 1.8429e+08\tvalid_0's mse: 1.8429e+08\n",
      "[89]\tvalid_0's l2: 1.82915e+08\tvalid_0's mse: 1.82915e+08\n",
      "[90]\tvalid_0's l2: 1.81423e+08\tvalid_0's mse: 1.81423e+08\n",
      "[91]\tvalid_0's l2: 1.79949e+08\tvalid_0's mse: 1.79949e+08\n",
      "[92]\tvalid_0's l2: 1.78494e+08\tvalid_0's mse: 1.78494e+08\n",
      "[93]\tvalid_0's l2: 1.77177e+08\tvalid_0's mse: 1.77177e+08\n",
      "[94]\tvalid_0's l2: 1.75731e+08\tvalid_0's mse: 1.75731e+08\n",
      "[95]\tvalid_0's l2: 1.74306e+08\tvalid_0's mse: 1.74306e+08\n",
      "[96]\tvalid_0's l2: 1.72996e+08\tvalid_0's mse: 1.72996e+08\n",
      "[97]\tvalid_0's l2: 1.71585e+08\tvalid_0's mse: 1.71585e+08\n",
      "[98]\tvalid_0's l2: 1.70301e+08\tvalid_0's mse: 1.70301e+08\n",
      "[99]\tvalid_0's l2: 1.69033e+08\tvalid_0's mse: 1.69033e+08\n",
      "[100]\tvalid_0's l2: 1.67672e+08\tvalid_0's mse: 1.67672e+08\n",
      "[101]\tvalid_0's l2: 1.66424e+08\tvalid_0's mse: 1.66424e+08\n",
      "[102]\tvalid_0's l2: 1.65161e+08\tvalid_0's mse: 1.65161e+08\n",
      "[103]\tvalid_0's l2: 1.63824e+08\tvalid_0's mse: 1.63824e+08\n",
      "[104]\tvalid_0's l2: 1.62609e+08\tvalid_0's mse: 1.62609e+08\n",
      "[105]\tvalid_0's l2: 1.61406e+08\tvalid_0's mse: 1.61406e+08\n",
      "[106]\tvalid_0's l2: 1.60068e+08\tvalid_0's mse: 1.60068e+08\n",
      "[107]\tvalid_0's l2: 1.58769e+08\tvalid_0's mse: 1.58769e+08\n",
      "[108]\tvalid_0's l2: 1.57492e+08\tvalid_0's mse: 1.57492e+08\n",
      "[109]\tvalid_0's l2: 1.56332e+08\tvalid_0's mse: 1.56332e+08\n",
      "[110]\tvalid_0's l2: 1.55077e+08\tvalid_0's mse: 1.55077e+08\n",
      "[111]\tvalid_0's l2: 1.5383e+08\tvalid_0's mse: 1.5383e+08\n",
      "[112]\tvalid_0's l2: 1.52668e+08\tvalid_0's mse: 1.52668e+08\n",
      "[113]\tvalid_0's l2: 1.51437e+08\tvalid_0's mse: 1.51437e+08\n",
      "[114]\tvalid_0's l2: 1.50204e+08\tvalid_0's mse: 1.50204e+08\n",
      "[115]\tvalid_0's l2: 1.48995e+08\tvalid_0's mse: 1.48995e+08\n",
      "[116]\tvalid_0's l2: 1.47803e+08\tvalid_0's mse: 1.47803e+08\n",
      "[117]\tvalid_0's l2: 1.46627e+08\tvalid_0's mse: 1.46627e+08\n",
      "[118]\tvalid_0's l2: 1.4555e+08\tvalid_0's mse: 1.4555e+08\n",
      "[119]\tvalid_0's l2: 1.44381e+08\tvalid_0's mse: 1.44381e+08\n",
      "[120]\tvalid_0's l2: 1.43323e+08\tvalid_0's mse: 1.43323e+08\n",
      "[121]\tvalid_0's l2: 1.42248e+08\tvalid_0's mse: 1.42248e+08\n",
      "[122]\tvalid_0's l2: 1.41122e+08\tvalid_0's mse: 1.41122e+08\n",
      "[123]\tvalid_0's l2: 1.40097e+08\tvalid_0's mse: 1.40097e+08\n",
      "[124]\tvalid_0's l2: 1.38989e+08\tvalid_0's mse: 1.38989e+08\n",
      "[125]\tvalid_0's l2: 1.37893e+08\tvalid_0's mse: 1.37893e+08\n",
      "[126]\tvalid_0's l2: 1.3681e+08\tvalid_0's mse: 1.3681e+08\n",
      "[127]\tvalid_0's l2: 1.3574e+08\tvalid_0's mse: 1.3574e+08\n",
      "[128]\tvalid_0's l2: 1.34755e+08\tvalid_0's mse: 1.34755e+08\n",
      "[129]\tvalid_0's l2: 1.33705e+08\tvalid_0's mse: 1.33705e+08\n",
      "[130]\tvalid_0's l2: 1.32721e+08\tvalid_0's mse: 1.32721e+08\n",
      "[131]\tvalid_0's l2: 1.31686e+08\tvalid_0's mse: 1.31686e+08\n",
      "[132]\tvalid_0's l2: 1.30737e+08\tvalid_0's mse: 1.30737e+08\n",
      "[133]\tvalid_0's l2: 1.29718e+08\tvalid_0's mse: 1.29718e+08\n",
      "[134]\tvalid_0's l2: 1.28712e+08\tvalid_0's mse: 1.28712e+08\n",
      "[135]\tvalid_0's l2: 1.27707e+08\tvalid_0's mse: 1.27707e+08\n",
      "[136]\tvalid_0's l2: 1.26713e+08\tvalid_0's mse: 1.26713e+08\n",
      "[137]\tvalid_0's l2: 1.25739e+08\tvalid_0's mse: 1.25739e+08\n",
      "[138]\tvalid_0's l2: 1.24775e+08\tvalid_0's mse: 1.24775e+08\n",
      "[139]\tvalid_0's l2: 1.23784e+08\tvalid_0's mse: 1.23784e+08\n",
      "[140]\tvalid_0's l2: 1.22839e+08\tvalid_0's mse: 1.22839e+08\n",
      "[141]\tvalid_0's l2: 1.21967e+08\tvalid_0's mse: 1.21967e+08\n"
     ]
    },
    {
     "name": "stdout",
     "output_type": "stream",
     "text": [
      "[142]\tvalid_0's l2: 1.21036e+08\tvalid_0's mse: 1.21036e+08\n",
      "[143]\tvalid_0's l2: 1.20183e+08\tvalid_0's mse: 1.20183e+08\n",
      "[144]\tvalid_0's l2: 1.1932e+08\tvalid_0's mse: 1.1932e+08\n",
      "[145]\tvalid_0's l2: 1.18417e+08\tvalid_0's mse: 1.18417e+08\n",
      "[146]\tvalid_0's l2: 1.17595e+08\tvalid_0's mse: 1.17595e+08\n",
      "[147]\tvalid_0's l2: 1.16779e+08\tvalid_0's mse: 1.16779e+08\n",
      "[148]\tvalid_0's l2: 1.15895e+08\tvalid_0's mse: 1.15895e+08\n",
      "[149]\tvalid_0's l2: 1.1501e+08\tvalid_0's mse: 1.1501e+08\n",
      "[150]\tvalid_0's l2: 1.1422e+08\tvalid_0's mse: 1.1422e+08\n",
      "[151]\tvalid_0's l2: 1.13373e+08\tvalid_0's mse: 1.13373e+08\n",
      "[152]\tvalid_0's l2: 1.12599e+08\tvalid_0's mse: 1.12599e+08\n",
      "[153]\tvalid_0's l2: 1.11767e+08\tvalid_0's mse: 1.11767e+08\n",
      "[154]\tvalid_0's l2: 1.11003e+08\tvalid_0's mse: 1.11003e+08\n",
      "[155]\tvalid_0's l2: 1.10254e+08\tvalid_0's mse: 1.10254e+08\n",
      "[156]\tvalid_0's l2: 1.09436e+08\tvalid_0's mse: 1.09436e+08\n",
      "[157]\tvalid_0's l2: 1.08626e+08\tvalid_0's mse: 1.08626e+08\n",
      "[158]\tvalid_0's l2: 1.07837e+08\tvalid_0's mse: 1.07837e+08\n",
      "[159]\tvalid_0's l2: 1.07118e+08\tvalid_0's mse: 1.07118e+08\n",
      "[160]\tvalid_0's l2: 1.06404e+08\tvalid_0's mse: 1.06404e+08\n",
      "[161]\tvalid_0's l2: 1.05703e+08\tvalid_0's mse: 1.05703e+08\n",
      "[162]\tvalid_0's l2: 1.04998e+08\tvalid_0's mse: 1.04998e+08\n",
      "[163]\tvalid_0's l2: 1.04316e+08\tvalid_0's mse: 1.04316e+08\n",
      "[164]\tvalid_0's l2: 1.03635e+08\tvalid_0's mse: 1.03635e+08\n",
      "[165]\tvalid_0's l2: 1.02884e+08\tvalid_0's mse: 1.02884e+08\n",
      "[166]\tvalid_0's l2: 1.02142e+08\tvalid_0's mse: 1.02142e+08\n",
      "[167]\tvalid_0's l2: 1.01494e+08\tvalid_0's mse: 1.01494e+08\n",
      "[168]\tvalid_0's l2: 1.00854e+08\tvalid_0's mse: 1.00854e+08\n",
      "[169]\tvalid_0's l2: 1.00126e+08\tvalid_0's mse: 1.00126e+08\n",
      "[170]\tvalid_0's l2: 9.9492e+07\tvalid_0's mse: 9.9492e+07\n",
      "[171]\tvalid_0's l2: 9.88479e+07\tvalid_0's mse: 9.88479e+07\n",
      "[172]\tvalid_0's l2: 9.81394e+07\tvalid_0's mse: 9.81394e+07\n",
      "[173]\tvalid_0's l2: 9.744e+07\tvalid_0's mse: 9.744e+07\n",
      "[174]\tvalid_0's l2: 9.67564e+07\tvalid_0's mse: 9.67564e+07\n",
      "[175]\tvalid_0's l2: 9.60639e+07\tvalid_0's mse: 9.60639e+07\n",
      "[176]\tvalid_0's l2: 9.53953e+07\tvalid_0's mse: 9.53953e+07\n",
      "[177]\tvalid_0's l2: 9.47998e+07\tvalid_0's mse: 9.47998e+07\n",
      "[178]\tvalid_0's l2: 9.42049e+07\tvalid_0's mse: 9.42049e+07\n",
      "[179]\tvalid_0's l2: 9.35507e+07\tvalid_0's mse: 9.35507e+07\n",
      "[180]\tvalid_0's l2: 9.2974e+07\tvalid_0's mse: 9.2974e+07\n",
      "[181]\tvalid_0's l2: 9.23207e+07\tvalid_0's mse: 9.23207e+07\n",
      "[182]\tvalid_0's l2: 9.16894e+07\tvalid_0's mse: 9.16894e+07\n",
      "[183]\tvalid_0's l2: 9.10712e+07\tvalid_0's mse: 9.10712e+07\n",
      "[184]\tvalid_0's l2: 9.05176e+07\tvalid_0's mse: 9.05176e+07\n",
      "[185]\tvalid_0's l2: 8.99781e+07\tvalid_0's mse: 8.99781e+07\n",
      "[186]\tvalid_0's l2: 8.94423e+07\tvalid_0's mse: 8.94423e+07\n",
      "[187]\tvalid_0's l2: 8.89053e+07\tvalid_0's mse: 8.89053e+07\n",
      "[188]\tvalid_0's l2: 8.83099e+07\tvalid_0's mse: 8.83099e+07\n",
      "[189]\tvalid_0's l2: 8.7721e+07\tvalid_0's mse: 8.7721e+07\n",
      "[190]\tvalid_0's l2: 8.71903e+07\tvalid_0's mse: 8.71903e+07\n",
      "[191]\tvalid_0's l2: 8.66808e+07\tvalid_0's mse: 8.66808e+07\n",
      "[192]\tvalid_0's l2: 8.61681e+07\tvalid_0's mse: 8.61681e+07\n",
      "[193]\tvalid_0's l2: 8.56764e+07\tvalid_0's mse: 8.56764e+07\n",
      "[194]\tvalid_0's l2: 8.51814e+07\tvalid_0's mse: 8.51814e+07\n",
      "[195]\tvalid_0's l2: 8.46969e+07\tvalid_0's mse: 8.46969e+07\n",
      "[196]\tvalid_0's l2: 8.41277e+07\tvalid_0's mse: 8.41277e+07\n",
      "[197]\tvalid_0's l2: 8.35721e+07\tvalid_0's mse: 8.35721e+07\n",
      "[198]\tvalid_0's l2: 8.30228e+07\tvalid_0's mse: 8.30228e+07\n",
      "[199]\tvalid_0's l2: 8.25561e+07\tvalid_0's mse: 8.25561e+07\n",
      "[200]\tvalid_0's l2: 8.20876e+07\tvalid_0's mse: 8.20876e+07\n",
      "[201]\tvalid_0's l2: 8.16581e+07\tvalid_0's mse: 8.16581e+07\n",
      "[202]\tvalid_0's l2: 8.12031e+07\tvalid_0's mse: 8.12031e+07\n",
      "[203]\tvalid_0's l2: 8.06748e+07\tvalid_0's mse: 8.06748e+07\n",
      "[204]\tvalid_0's l2: 8.01589e+07\tvalid_0's mse: 8.01589e+07\n",
      "[205]\tvalid_0's l2: 7.97171e+07\tvalid_0's mse: 7.97171e+07\n",
      "[206]\tvalid_0's l2: 7.92108e+07\tvalid_0's mse: 7.92108e+07\n",
      "[207]\tvalid_0's l2: 7.87128e+07\tvalid_0's mse: 7.87128e+07\n",
      "[208]\tvalid_0's l2: 7.82315e+07\tvalid_0's mse: 7.82315e+07\n",
      "[209]\tvalid_0's l2: 7.77422e+07\tvalid_0's mse: 7.77422e+07\n",
      "[210]\tvalid_0's l2: 7.72603e+07\tvalid_0's mse: 7.72603e+07\n",
      "[211]\tvalid_0's l2: 7.67857e+07\tvalid_0's mse: 7.67857e+07\n",
      "[212]\tvalid_0's l2: 7.6383e+07\tvalid_0's mse: 7.6383e+07\n",
      "[213]\tvalid_0's l2: 7.59211e+07\tvalid_0's mse: 7.59211e+07\n",
      "[214]\tvalid_0's l2: 7.5472e+07\tvalid_0's mse: 7.5472e+07\n",
      "[215]\tvalid_0's l2: 7.50177e+07\tvalid_0's mse: 7.50177e+07\n",
      "[216]\tvalid_0's l2: 7.46236e+07\tvalid_0's mse: 7.46236e+07\n",
      "[217]\tvalid_0's l2: 7.42773e+07\tvalid_0's mse: 7.42773e+07\n",
      "[218]\tvalid_0's l2: 7.38497e+07\tvalid_0's mse: 7.38497e+07\n",
      "[219]\tvalid_0's l2: 7.34743e+07\tvalid_0's mse: 7.34743e+07\n",
      "[220]\tvalid_0's l2: 7.30389e+07\tvalid_0's mse: 7.30389e+07\n",
      "[221]\tvalid_0's l2: 7.26759e+07\tvalid_0's mse: 7.26759e+07\n",
      "[222]\tvalid_0's l2: 7.2261e+07\tvalid_0's mse: 7.2261e+07\n",
      "[223]\tvalid_0's l2: 7.18446e+07\tvalid_0's mse: 7.18446e+07\n",
      "[224]\tvalid_0's l2: 7.1489e+07\tvalid_0's mse: 7.1489e+07\n",
      "[225]\tvalid_0's l2: 7.11419e+07\tvalid_0's mse: 7.11419e+07\n",
      "[226]\tvalid_0's l2: 7.0748e+07\tvalid_0's mse: 7.0748e+07\n",
      "[227]\tvalid_0's l2: 7.04104e+07\tvalid_0's mse: 7.04104e+07\n",
      "[228]\tvalid_0's l2: 7.00777e+07\tvalid_0's mse: 7.00777e+07\n",
      "[229]\tvalid_0's l2: 6.97494e+07\tvalid_0's mse: 6.97494e+07\n",
      "[230]\tvalid_0's l2: 6.93643e+07\tvalid_0's mse: 6.93643e+07\n",
      "[231]\tvalid_0's l2: 6.89825e+07\tvalid_0's mse: 6.89825e+07\n",
      "[232]\tvalid_0's l2: 6.86643e+07\tvalid_0's mse: 6.86643e+07\n",
      "[233]\tvalid_0's l2: 6.82912e+07\tvalid_0's mse: 6.82912e+07\n",
      "[234]\tvalid_0's l2: 6.78876e+07\tvalid_0's mse: 6.78876e+07\n",
      "[235]\tvalid_0's l2: 6.75838e+07\tvalid_0's mse: 6.75838e+07\n",
      "[236]\tvalid_0's l2: 6.7263e+07\tvalid_0's mse: 6.7263e+07\n",
      "[237]\tvalid_0's l2: 6.69575e+07\tvalid_0's mse: 6.69575e+07\n",
      "[238]\tvalid_0's l2: 6.6608e+07\tvalid_0's mse: 6.6608e+07\n",
      "[239]\tvalid_0's l2: 6.62655e+07\tvalid_0's mse: 6.62655e+07\n",
      "[240]\tvalid_0's l2: 6.5918e+07\tvalid_0's mse: 6.5918e+07\n",
      "[241]\tvalid_0's l2: 6.55797e+07\tvalid_0's mse: 6.55797e+07\n",
      "[242]\tvalid_0's l2: 6.52979e+07\tvalid_0's mse: 6.52979e+07\n",
      "[243]\tvalid_0's l2: 6.49716e+07\tvalid_0's mse: 6.49716e+07\n",
      "[244]\tvalid_0's l2: 6.46786e+07\tvalid_0's mse: 6.46786e+07\n",
      "[245]\tvalid_0's l2: 6.4347e+07\tvalid_0's mse: 6.4347e+07\n",
      "[246]\tvalid_0's l2: 6.40799e+07\tvalid_0's mse: 6.40799e+07\n",
      "[247]\tvalid_0's l2: 6.38194e+07\tvalid_0's mse: 6.38194e+07\n",
      "[248]\tvalid_0's l2: 6.35102e+07\tvalid_0's mse: 6.35102e+07\n",
      "[249]\tvalid_0's l2: 6.32042e+07\tvalid_0's mse: 6.32042e+07\n",
      "[250]\tvalid_0's l2: 6.28954e+07\tvalid_0's mse: 6.28954e+07\n",
      "[251]\tvalid_0's l2: 6.26417e+07\tvalid_0's mse: 6.26417e+07\n",
      "[252]\tvalid_0's l2: 6.23937e+07\tvalid_0's mse: 6.23937e+07\n",
      "[253]\tvalid_0's l2: 6.21062e+07\tvalid_0's mse: 6.21062e+07\n",
      "[254]\tvalid_0's l2: 6.18654e+07\tvalid_0's mse: 6.18654e+07\n",
      "[255]\tvalid_0's l2: 6.15715e+07\tvalid_0's mse: 6.15715e+07\n",
      "[256]\tvalid_0's l2: 6.13328e+07\tvalid_0's mse: 6.13328e+07\n",
      "[257]\tvalid_0's l2: 6.10491e+07\tvalid_0's mse: 6.10491e+07\n",
      "[258]\tvalid_0's l2: 6.08177e+07\tvalid_0's mse: 6.08177e+07\n",
      "[259]\tvalid_0's l2: 6.05359e+07\tvalid_0's mse: 6.05359e+07\n",
      "[260]\tvalid_0's l2: 6.02725e+07\tvalid_0's mse: 6.02725e+07\n",
      "[261]\tvalid_0's l2: 6.00527e+07\tvalid_0's mse: 6.00527e+07\n",
      "[262]\tvalid_0's l2: 5.97631e+07\tvalid_0's mse: 5.97631e+07\n",
      "[263]\tvalid_0's l2: 5.95432e+07\tvalid_0's mse: 5.95432e+07\n",
      "[264]\tvalid_0's l2: 5.93518e+07\tvalid_0's mse: 5.93518e+07\n",
      "[265]\tvalid_0's l2: 5.90953e+07\tvalid_0's mse: 5.90953e+07\n",
      "[266]\tvalid_0's l2: 5.88871e+07\tvalid_0's mse: 5.88871e+07\n",
      "[267]\tvalid_0's l2: 5.86204e+07\tvalid_0's mse: 5.86204e+07\n",
      "[268]\tvalid_0's l2: 5.84123e+07\tvalid_0's mse: 5.84123e+07\n",
      "[269]\tvalid_0's l2: 5.81537e+07\tvalid_0's mse: 5.81537e+07\n",
      "[270]\tvalid_0's l2: 5.79152e+07\tvalid_0's mse: 5.79152e+07\n",
      "[271]\tvalid_0's l2: 5.76943e+07\tvalid_0's mse: 5.76943e+07\n",
      "[272]\tvalid_0's l2: 5.7497e+07\tvalid_0's mse: 5.7497e+07\n",
      "[273]\tvalid_0's l2: 5.7264e+07\tvalid_0's mse: 5.7264e+07\n",
      "[274]\tvalid_0's l2: 5.70178e+07\tvalid_0's mse: 5.70178e+07\n",
      "[275]\tvalid_0's l2: 5.67807e+07\tvalid_0's mse: 5.67807e+07\n",
      "[276]\tvalid_0's l2: 5.65529e+07\tvalid_0's mse: 5.65529e+07\n",
      "[277]\tvalid_0's l2: 5.63204e+07\tvalid_0's mse: 5.63204e+07\n",
      "[278]\tvalid_0's l2: 5.61356e+07\tvalid_0's mse: 5.61356e+07\n",
      "[279]\tvalid_0's l2: 5.59242e+07\tvalid_0's mse: 5.59242e+07\n",
      "[280]\tvalid_0's l2: 5.57436e+07\tvalid_0's mse: 5.57436e+07\n",
      "[281]\tvalid_0's l2: 5.55671e+07\tvalid_0's mse: 5.55671e+07\n"
     ]
    },
    {
     "name": "stdout",
     "output_type": "stream",
     "text": [
      "[282]\tvalid_0's l2: 5.53914e+07\tvalid_0's mse: 5.53914e+07\n",
      "[283]\tvalid_0's l2: 5.51875e+07\tvalid_0's mse: 5.51875e+07\n",
      "[284]\tvalid_0's l2: 5.50221e+07\tvalid_0's mse: 5.50221e+07\n",
      "[285]\tvalid_0's l2: 5.48541e+07\tvalid_0's mse: 5.48541e+07\n",
      "[286]\tvalid_0's l2: 5.46888e+07\tvalid_0's mse: 5.46888e+07\n",
      "[287]\tvalid_0's l2: 5.44777e+07\tvalid_0's mse: 5.44777e+07\n",
      "[288]\tvalid_0's l2: 5.43184e+07\tvalid_0's mse: 5.43184e+07\n",
      "[289]\tvalid_0's l2: 5.41566e+07\tvalid_0's mse: 5.41566e+07\n",
      "[290]\tvalid_0's l2: 5.40021e+07\tvalid_0's mse: 5.40021e+07\n",
      "[291]\tvalid_0's l2: 5.37988e+07\tvalid_0's mse: 5.37988e+07\n",
      "[292]\tvalid_0's l2: 5.35957e+07\tvalid_0's mse: 5.35957e+07\n",
      "[293]\tvalid_0's l2: 5.34081e+07\tvalid_0's mse: 5.34081e+07\n",
      "[294]\tvalid_0's l2: 5.32136e+07\tvalid_0's mse: 5.32136e+07\n",
      "[295]\tvalid_0's l2: 5.30255e+07\tvalid_0's mse: 5.30255e+07\n",
      "[296]\tvalid_0's l2: 5.28781e+07\tvalid_0's mse: 5.28781e+07\n",
      "[297]\tvalid_0's l2: 5.26863e+07\tvalid_0's mse: 5.26863e+07\n",
      "[298]\tvalid_0's l2: 5.25396e+07\tvalid_0's mse: 5.25396e+07\n",
      "[299]\tvalid_0's l2: 5.23952e+07\tvalid_0's mse: 5.23952e+07\n",
      "[300]\tvalid_0's l2: 5.22578e+07\tvalid_0's mse: 5.22578e+07\n",
      "[301]\tvalid_0's l2: 5.21246e+07\tvalid_0's mse: 5.21246e+07\n",
      "[302]\tvalid_0's l2: 5.19925e+07\tvalid_0's mse: 5.19925e+07\n",
      "[303]\tvalid_0's l2: 5.18217e+07\tvalid_0's mse: 5.18217e+07\n",
      "[304]\tvalid_0's l2: 5.16179e+07\tvalid_0's mse: 5.16179e+07\n",
      "[305]\tvalid_0's l2: 5.14485e+07\tvalid_0's mse: 5.14485e+07\n",
      "[306]\tvalid_0's l2: 5.13193e+07\tvalid_0's mse: 5.13193e+07\n",
      "[307]\tvalid_0's l2: 5.11961e+07\tvalid_0's mse: 5.11961e+07\n",
      "[308]\tvalid_0's l2: 5.1019e+07\tvalid_0's mse: 5.1019e+07\n",
      "[309]\tvalid_0's l2: 5.0863e+07\tvalid_0's mse: 5.0863e+07\n",
      "[310]\tvalid_0's l2: 5.07407e+07\tvalid_0's mse: 5.07407e+07\n",
      "[311]\tvalid_0's l2: 5.06163e+07\tvalid_0's mse: 5.06163e+07\n",
      "[312]\tvalid_0's l2: 5.04656e+07\tvalid_0's mse: 5.04656e+07\n",
      "[313]\tvalid_0's l2: 5.03167e+07\tvalid_0's mse: 5.03167e+07\n",
      "[314]\tvalid_0's l2: 5.02026e+07\tvalid_0's mse: 5.02026e+07\n",
      "[315]\tvalid_0's l2: 5.00896e+07\tvalid_0's mse: 5.00896e+07\n",
      "[316]\tvalid_0's l2: 4.99808e+07\tvalid_0's mse: 4.99808e+07\n",
      "[317]\tvalid_0's l2: 4.98341e+07\tvalid_0's mse: 4.98341e+07\n",
      "[318]\tvalid_0's l2: 4.97196e+07\tvalid_0's mse: 4.97196e+07\n",
      "[319]\tvalid_0's l2: 4.96105e+07\tvalid_0's mse: 4.96105e+07\n",
      "[320]\tvalid_0's l2: 4.94652e+07\tvalid_0's mse: 4.94652e+07\n",
      "[321]\tvalid_0's l2: 4.93318e+07\tvalid_0's mse: 4.93318e+07\n",
      "[322]\tvalid_0's l2: 4.9225e+07\tvalid_0's mse: 4.9225e+07\n",
      "[323]\tvalid_0's l2: 4.91222e+07\tvalid_0's mse: 4.91222e+07\n",
      "[324]\tvalid_0's l2: 4.89732e+07\tvalid_0's mse: 4.89732e+07\n",
      "[325]\tvalid_0's l2: 4.88205e+07\tvalid_0's mse: 4.88205e+07\n",
      "[326]\tvalid_0's l2: 4.86947e+07\tvalid_0's mse: 4.86947e+07\n",
      "[327]\tvalid_0's l2: 4.85963e+07\tvalid_0's mse: 4.85963e+07\n",
      "[328]\tvalid_0's l2: 4.84726e+07\tvalid_0's mse: 4.84726e+07\n",
      "[329]\tvalid_0's l2: 4.83428e+07\tvalid_0's mse: 4.83428e+07\n",
      "[330]\tvalid_0's l2: 4.82262e+07\tvalid_0's mse: 4.82262e+07\n",
      "[331]\tvalid_0's l2: 4.81039e+07\tvalid_0's mse: 4.81039e+07\n",
      "[332]\tvalid_0's l2: 4.80075e+07\tvalid_0's mse: 4.80075e+07\n",
      "[333]\tvalid_0's l2: 4.79203e+07\tvalid_0's mse: 4.79203e+07\n",
      "[334]\tvalid_0's l2: 4.78316e+07\tvalid_0's mse: 4.78316e+07\n",
      "[335]\tvalid_0's l2: 4.77108e+07\tvalid_0's mse: 4.77108e+07\n",
      "[336]\tvalid_0's l2: 4.76179e+07\tvalid_0's mse: 4.76179e+07\n",
      "[337]\tvalid_0's l2: 4.74674e+07\tvalid_0's mse: 4.74674e+07\n",
      "[338]\tvalid_0's l2: 4.73513e+07\tvalid_0's mse: 4.73513e+07\n",
      "[339]\tvalid_0's l2: 4.72438e+07\tvalid_0's mse: 4.72438e+07\n",
      "[340]\tvalid_0's l2: 4.7135e+07\tvalid_0's mse: 4.7135e+07\n",
      "[341]\tvalid_0's l2: 4.70246e+07\tvalid_0's mse: 4.70246e+07\n",
      "[342]\tvalid_0's l2: 4.69246e+07\tvalid_0's mse: 4.69246e+07\n",
      "[343]\tvalid_0's l2: 4.68414e+07\tvalid_0's mse: 4.68414e+07\n",
      "[344]\tvalid_0's l2: 4.67578e+07\tvalid_0's mse: 4.67578e+07\n",
      "[345]\tvalid_0's l2: 4.66741e+07\tvalid_0's mse: 4.66741e+07\n",
      "[346]\tvalid_0's l2: 4.65713e+07\tvalid_0's mse: 4.65713e+07\n",
      "[347]\tvalid_0's l2: 4.64709e+07\tvalid_0's mse: 4.64709e+07\n",
      "[348]\tvalid_0's l2: 4.63882e+07\tvalid_0's mse: 4.63882e+07\n",
      "[349]\tvalid_0's l2: 4.62882e+07\tvalid_0's mse: 4.62882e+07\n",
      "[350]\tvalid_0's l2: 4.61843e+07\tvalid_0's mse: 4.61843e+07\n",
      "[351]\tvalid_0's l2: 4.60727e+07\tvalid_0's mse: 4.60727e+07\n",
      "[352]\tvalid_0's l2: 4.59744e+07\tvalid_0's mse: 4.59744e+07\n",
      "[353]\tvalid_0's l2: 4.58693e+07\tvalid_0's mse: 4.58693e+07\n",
      "[354]\tvalid_0's l2: 4.57927e+07\tvalid_0's mse: 4.57927e+07\n",
      "[355]\tvalid_0's l2: 4.57007e+07\tvalid_0's mse: 4.57007e+07\n",
      "[356]\tvalid_0's l2: 4.56249e+07\tvalid_0's mse: 4.56249e+07\n",
      "[357]\tvalid_0's l2: 4.55499e+07\tvalid_0's mse: 4.55499e+07\n",
      "[358]\tvalid_0's l2: 4.54816e+07\tvalid_0's mse: 4.54816e+07\n",
      "[359]\tvalid_0's l2: 4.54072e+07\tvalid_0's mse: 4.54072e+07\n",
      "[360]\tvalid_0's l2: 4.53347e+07\tvalid_0's mse: 4.53347e+07\n",
      "[361]\tvalid_0's l2: 4.52521e+07\tvalid_0's mse: 4.52521e+07\n",
      "[362]\tvalid_0's l2: 4.51766e+07\tvalid_0's mse: 4.51766e+07\n",
      "[363]\tvalid_0's l2: 4.50936e+07\tvalid_0's mse: 4.50936e+07\n",
      "[364]\tvalid_0's l2: 4.50039e+07\tvalid_0's mse: 4.50039e+07\n",
      "[365]\tvalid_0's l2: 4.49198e+07\tvalid_0's mse: 4.49198e+07\n",
      "[366]\tvalid_0's l2: 4.48287e+07\tvalid_0's mse: 4.48287e+07\n",
      "[367]\tvalid_0's l2: 4.47507e+07\tvalid_0's mse: 4.47507e+07\n",
      "[368]\tvalid_0's l2: 4.46704e+07\tvalid_0's mse: 4.46704e+07\n",
      "[369]\tvalid_0's l2: 4.46083e+07\tvalid_0's mse: 4.46083e+07\n",
      "[370]\tvalid_0's l2: 4.45361e+07\tvalid_0's mse: 4.45361e+07\n",
      "[371]\tvalid_0's l2: 4.44706e+07\tvalid_0's mse: 4.44706e+07\n",
      "[372]\tvalid_0's l2: 4.44e+07\tvalid_0's mse: 4.44e+07\n",
      "[373]\tvalid_0's l2: 4.43282e+07\tvalid_0's mse: 4.43282e+07\n",
      "[374]\tvalid_0's l2: 4.42449e+07\tvalid_0's mse: 4.42449e+07\n",
      "[375]\tvalid_0's l2: 4.41779e+07\tvalid_0's mse: 4.41779e+07\n",
      "[376]\tvalid_0's l2: 4.4117e+07\tvalid_0's mse: 4.4117e+07\n",
      "[377]\tvalid_0's l2: 4.40588e+07\tvalid_0's mse: 4.40588e+07\n",
      "[378]\tvalid_0's l2: 4.39896e+07\tvalid_0's mse: 4.39896e+07\n",
      "[379]\tvalid_0's l2: 4.39337e+07\tvalid_0's mse: 4.39337e+07\n",
      "[380]\tvalid_0's l2: 4.3875e+07\tvalid_0's mse: 4.3875e+07\n",
      "[381]\tvalid_0's l2: 4.38197e+07\tvalid_0's mse: 4.38197e+07\n",
      "[382]\tvalid_0's l2: 4.37537e+07\tvalid_0's mse: 4.37537e+07\n",
      "[383]\tvalid_0's l2: 4.36997e+07\tvalid_0's mse: 4.36997e+07\n",
      "[384]\tvalid_0's l2: 4.36405e+07\tvalid_0's mse: 4.36405e+07\n",
      "[385]\tvalid_0's l2: 4.35792e+07\tvalid_0's mse: 4.35792e+07\n",
      "[386]\tvalid_0's l2: 4.35121e+07\tvalid_0's mse: 4.35121e+07\n",
      "[387]\tvalid_0's l2: 4.34607e+07\tvalid_0's mse: 4.34607e+07\n",
      "[388]\tvalid_0's l2: 4.34076e+07\tvalid_0's mse: 4.34076e+07\n",
      "[389]\tvalid_0's l2: 4.33515e+07\tvalid_0's mse: 4.33515e+07\n",
      "[390]\tvalid_0's l2: 4.32878e+07\tvalid_0's mse: 4.32878e+07\n",
      "[391]\tvalid_0's l2: 4.32345e+07\tvalid_0's mse: 4.32345e+07\n",
      "[392]\tvalid_0's l2: 4.31782e+07\tvalid_0's mse: 4.31782e+07\n",
      "[393]\tvalid_0's l2: 4.3112e+07\tvalid_0's mse: 4.3112e+07\n",
      "[394]\tvalid_0's l2: 4.30441e+07\tvalid_0's mse: 4.30441e+07\n",
      "[395]\tvalid_0's l2: 4.29839e+07\tvalid_0's mse: 4.29839e+07\n",
      "[396]\tvalid_0's l2: 4.29253e+07\tvalid_0's mse: 4.29253e+07\n",
      "[397]\tvalid_0's l2: 4.28718e+07\tvalid_0's mse: 4.28718e+07\n",
      "[398]\tvalid_0's l2: 4.28152e+07\tvalid_0's mse: 4.28152e+07\n",
      "[399]\tvalid_0's l2: 4.27654e+07\tvalid_0's mse: 4.27654e+07\n",
      "[400]\tvalid_0's l2: 4.27037e+07\tvalid_0's mse: 4.27037e+07\n",
      "[401]\tvalid_0's l2: 4.26389e+07\tvalid_0's mse: 4.26389e+07\n",
      "[402]\tvalid_0's l2: 4.25935e+07\tvalid_0's mse: 4.25935e+07\n",
      "[403]\tvalid_0's l2: 4.2545e+07\tvalid_0's mse: 4.2545e+07\n",
      "[404]\tvalid_0's l2: 4.24951e+07\tvalid_0's mse: 4.24951e+07\n",
      "[405]\tvalid_0's l2: 4.24397e+07\tvalid_0's mse: 4.24397e+07\n",
      "[406]\tvalid_0's l2: 4.2395e+07\tvalid_0's mse: 4.2395e+07\n",
      "[407]\tvalid_0's l2: 4.23344e+07\tvalid_0's mse: 4.23344e+07\n",
      "[408]\tvalid_0's l2: 4.22846e+07\tvalid_0's mse: 4.22846e+07\n",
      "[409]\tvalid_0's l2: 4.22347e+07\tvalid_0's mse: 4.22347e+07\n",
      "[410]\tvalid_0's l2: 4.21935e+07\tvalid_0's mse: 4.21935e+07\n",
      "[411]\tvalid_0's l2: 4.2146e+07\tvalid_0's mse: 4.2146e+07\n",
      "[412]\tvalid_0's l2: 4.20956e+07\tvalid_0's mse: 4.20956e+07\n",
      "[413]\tvalid_0's l2: 4.20494e+07\tvalid_0's mse: 4.20494e+07\n",
      "[414]\tvalid_0's l2: 4.20009e+07\tvalid_0's mse: 4.20009e+07\n",
      "[415]\tvalid_0's l2: 4.19388e+07\tvalid_0's mse: 4.19388e+07\n",
      "[416]\tvalid_0's l2: 4.18925e+07\tvalid_0's mse: 4.18925e+07\n",
      "[417]\tvalid_0's l2: 4.18483e+07\tvalid_0's mse: 4.18483e+07\n",
      "[418]\tvalid_0's l2: 4.17907e+07\tvalid_0's mse: 4.17907e+07\n",
      "[419]\tvalid_0's l2: 4.17459e+07\tvalid_0's mse: 4.17459e+07\n",
      "[420]\tvalid_0's l2: 4.17011e+07\tvalid_0's mse: 4.17011e+07\n",
      "[421]\tvalid_0's l2: 4.16625e+07\tvalid_0's mse: 4.16625e+07\n"
     ]
    },
    {
     "name": "stdout",
     "output_type": "stream",
     "text": [
      "[422]\tvalid_0's l2: 4.16083e+07\tvalid_0's mse: 4.16083e+07\n",
      "[423]\tvalid_0's l2: 4.15664e+07\tvalid_0's mse: 4.15664e+07\n",
      "[424]\tvalid_0's l2: 4.15259e+07\tvalid_0's mse: 4.15259e+07\n",
      "[425]\tvalid_0's l2: 4.14814e+07\tvalid_0's mse: 4.14814e+07\n",
      "[426]\tvalid_0's l2: 4.1436e+07\tvalid_0's mse: 4.1436e+07\n",
      "[427]\tvalid_0's l2: 4.13886e+07\tvalid_0's mse: 4.13886e+07\n",
      "[428]\tvalid_0's l2: 4.13449e+07\tvalid_0's mse: 4.13449e+07\n",
      "[429]\tvalid_0's l2: 4.13113e+07\tvalid_0's mse: 4.13113e+07\n",
      "[430]\tvalid_0's l2: 4.12736e+07\tvalid_0's mse: 4.12736e+07\n",
      "[431]\tvalid_0's l2: 4.12379e+07\tvalid_0's mse: 4.12379e+07\n",
      "[432]\tvalid_0's l2: 4.12028e+07\tvalid_0's mse: 4.12028e+07\n",
      "[433]\tvalid_0's l2: 4.11694e+07\tvalid_0's mse: 4.11694e+07\n",
      "[434]\tvalid_0's l2: 4.11265e+07\tvalid_0's mse: 4.11265e+07\n",
      "[435]\tvalid_0's l2: 4.1096e+07\tvalid_0's mse: 4.1096e+07\n",
      "[436]\tvalid_0's l2: 4.10625e+07\tvalid_0's mse: 4.10625e+07\n",
      "[437]\tvalid_0's l2: 4.10203e+07\tvalid_0's mse: 4.10203e+07\n",
      "[438]\tvalid_0's l2: 4.09831e+07\tvalid_0's mse: 4.09831e+07\n",
      "[439]\tvalid_0's l2: 4.09453e+07\tvalid_0's mse: 4.09453e+07\n",
      "[440]\tvalid_0's l2: 4.09055e+07\tvalid_0's mse: 4.09055e+07\n",
      "[441]\tvalid_0's l2: 4.08599e+07\tvalid_0's mse: 4.08599e+07\n",
      "[442]\tvalid_0's l2: 4.08255e+07\tvalid_0's mse: 4.08255e+07\n",
      "[443]\tvalid_0's l2: 4.07863e+07\tvalid_0's mse: 4.07863e+07\n",
      "[444]\tvalid_0's l2: 4.07563e+07\tvalid_0's mse: 4.07563e+07\n",
      "[445]\tvalid_0's l2: 4.0721e+07\tvalid_0's mse: 4.0721e+07\n",
      "[446]\tvalid_0's l2: 4.06824e+07\tvalid_0's mse: 4.06824e+07\n",
      "[447]\tvalid_0's l2: 4.06488e+07\tvalid_0's mse: 4.06488e+07\n",
      "[448]\tvalid_0's l2: 4.06206e+07\tvalid_0's mse: 4.06206e+07\n",
      "[449]\tvalid_0's l2: 4.05884e+07\tvalid_0's mse: 4.05884e+07\n",
      "[450]\tvalid_0's l2: 4.05528e+07\tvalid_0's mse: 4.05528e+07\n",
      "CPU times: user 7min, sys: 38.6 s, total: 7min 39s\n",
      "Wall time: 1min 42s\n"
     ]
    }
   ],
   "source": [
    "%%time\n",
    "import lightgbm as lgb\n",
    "from sklearn.metrics import mean_squared_error\n",
    "params = {\n",
    "    'objective': 'regression',\n",
    "    'metric': 'mse',\n",
    "    'learning_rate':0.2,\n",
    "    'feature_fraction': 0.6,\n",
    "    'max_depth': 14,\n",
    "    'num_leaves':220,\n",
    "    'bagging_fraction': 0.6,\n",
    "    'bagging_freq':5,\n",
    "    'min_data_in_leaf':10,\n",
    "    'min_gain_to_split':0,\n",
    "    'lambda_l1':1,\n",
    "    'lambda_l2':1,\n",
    "    'verbose':0,\n",
    "}\n",
    "\n",
    "val_loss=[]\n",
    "\n",
    "def eval_error(pred, df):\n",
    "    \"\"\"自定义评价函数\"\"\"\n",
    "    score = mean_squared_error(df.get_label(),pred)\n",
    "    val_loss.append(score)\n",
    "    return ('mse',score,False)\n",
    "\n",
    "lgb_train = lgb.Dataset(x1,y1,categorical_feature=['geo','Plate','floor_section'])\n",
    "lgb_val=lgb.Dataset(x2,y2,reference=lgb_train)\n",
    "# gbm = lgb.cv(params,lgb_train,num_boost_round=3000,early_stopping_rounds=20,feval=eval_error,nfold=3)\n",
    "gbm = lgb.train(params,lgb_train,num_boost_round=450,valid_sets=lgb_val,early_stopping_rounds=10,feval=eval_error)"
   ]
  },
  {
   "cell_type": "code",
   "execution_count": 133,
   "metadata": {},
   "outputs": [
    {
     "data": {
      "text/plain": [
       "<matplotlib.axes._subplots.AxesSubplot at 0x1d3cab940>"
      ]
     },
     "execution_count": 133,
     "metadata": {},
     "output_type": "execute_result"
    },
    {
     "data": {
      "image/png": "[encoded data removed]",
      "text/plain": [
       "<matplotlib.figure.Figure at 0x1d3ca5198>"
      ]
     },
     "metadata": {
      "image/png": {
       "height": 313,
       "width": 593
      }
     },
     "output_type": "display_data"
    }
   ],
   "source": [
    "# 绘制测试集损失函数曲线\n",
    "pd.Series(val_loss).plot()"
   ]
  },
  {
   "cell_type": "code",
   "execution_count": 121,
   "metadata": {
    "collapsed": true
   },
   "outputs": [],
   "source": [
    "# 保存模型\n",
    "gbm.save_model('./cache/model.txt')"
   ]
  },
  {
   "cell_type": "code",
   "execution_count": 122,
   "metadata": {
    "collapsed": true
   },
   "outputs": [],
   "source": [
    "# 加载模型\n",
    "gbm=lgb.Booster(model_file='./cache/model.txt')"
   ]
  },
  {
   "cell_type": "code",
   "execution_count": 135,
   "metadata": {},
   "outputs": [
    {
     "data": {
      "text/plain": [
       "58697072.900852956"
      ]
     },
     "execution_count": 135,
     "metadata": {},
     "output_type": "execute_result"
    }
   ],
   "source": [
    "# 测试误差\n",
    "y_pred_test=gbm.predict(x_test)\n",
    "mean_squared_error(y_pred_test,y_test)"
   ]
  },
  {
   "cell_type": "code",
   "execution_count": 136,
   "metadata": {},
   "outputs": [
    {
     "data": {
      "text/plain": [
       "<matplotlib.axes._subplots.AxesSubplot at 0x1d3cd8be0>"
      ]
     },
     "execution_count": 136,
     "metadata": {},
     "output_type": "execute_result"
    },
    {
     "data": {
      "image/png": "[encoded data removed]",
      "text/plain": [
       "<matplotlib.figure.Figure at 0x1a714ab70>"
      ]
     },
     "metadata": {
      "image/png": {
       "height": 316,
       "width": 572
      }
     },
     "output_type": "display_data"
    }
   ],
   "source": [
    "# 测试误差分布图\n",
    "df_test=pd.DataFrame({'pred':y_pred_test,'true':y_test})\n",
    "df_test['diff']=np.abs(df_test.pred-df_test.true)\n",
    "sns.set({'figure.figsize':(10,5)})\n",
    "sns.boxplot(df_test['diff'])"
   ]
  },
  {
   "cell_type": "code",
   "execution_count": 137,
   "metadata": {
    "scrolled": true
   },
   "outputs": [
    {
     "data": {
      "text/plain": [
       "(0, 10]      0.742357\n",
       "(10, 15]     0.152729\n",
       "(15, 20]     0.075603\n",
       "(20, 30]     0.021440\n",
       "(30, 40]     0.003211\n",
       "(40, 100]    0.000157\n",
       "Name: ratio, dtype: float64"
      ]
     },
     "execution_count": 137,
     "metadata": {},
     "output_type": "execute_result"
    }
   ],
   "source": [
    "# 误差百分比统计\n",
    "df_test['ratio']=(df_test['diff']/df_test.true)*100\n",
    "pd.cut(df_test.ratio,[0,10,15,20,30,40,100]).value_counts()/df_test.shape[0]"
   ]
  },
  {
   "cell_type": "code",
   "execution_count": 138,
   "metadata": {},
   "outputs": [
    {
     "data": {
      "text/plain": [
       "<matplotlib.axes._subplots.AxesSubplot at 0x1a4b9cfd0>"
      ]
     },
     "execution_count": 138,
     "metadata": {},
     "output_type": "execute_result"
    },
    {
     "data": {
      "image/png": "[encoded data removed]",
      "text/plain": [
       "<matplotlib.figure.Figure at 0x1a4b1bcf8>"
      ]
     },
     "metadata": {
      "image/png": {
       "height": 479,
       "width": 984
      }
     },
     "output_type": "display_data"
    }
   ],
   "source": [
    "# 特征重要程度\n",
    "sns.set({'figure.figsize':(16,8)})\n",
    "sns.barplot(data=pd.DataFrame({'feat_name':x1.columns,'feat_importance':gbm.feature_importance()}),x='feat_importance',y='feat_name')"
   ]
  },
  {
   "cell_type": "markdown",
   "metadata": {},
   "source": [
    "* Linear Regression (Incomplete)"
   ]
  },
  {
   "cell_type": "code",
   "execution_count": 41,
   "metadata": {
    "collapsed": true,
    "scrolled": true
   },
   "outputs": [],
   "source": [
    "x_train,y_train,x_test,y_test=make_train_test()"
   ]
  },
  {
   "cell_type": "code",
   "execution_count": 25,
   "metadata": {},
   "outputs": [
    {
     "name": "stderr",
     "output_type": "stream",
     "text": [
      "100%|██████████| 2827734/2827734 [00:42<00:00, 65940.32it/s]\n"
     ]
    }
   ],
   "source": [
    "geo=[]\n",
    "for i in tqdm(x_train[['loc_y','loc_x']].values):\n",
    "    geo.append(encode(i[0],i[1],7))"
   ]
  },
  {
   "cell_type": "code",
   "execution_count": 52,
   "metadata": {
    "scrolled": true
   },
   "outputs": [
    {
     "data": {
      "text/html": [
       "<div>\n",
       "<table border=\"1\" class=\"dataframe\">\n",
       "  <thead>\n",
       "    <tr style=\"text-align: right;\">\n",
       "      <th></th>\n",
       "      <th>geo_6</th>\n",
       "      <th>geo_7</th>\n",
       "    </tr>\n",
       "  </thead>\n",
       "  <tbody>\n",
       "    <tr>\n",
       "      <th>0</th>\n",
       "      <td>wtw93x</td>\n",
       "      <td>wtw93x3</td>\n",
       "    </tr>\n",
       "    <tr>\n",
       "      <th>1</th>\n",
       "      <td>wtw93x</td>\n",
       "      <td>wtw93x3</td>\n",
       "    </tr>\n",
       "    <tr>\n",
       "      <th>2</th>\n",
       "      <td>wtw93x</td>\n",
       "      <td>wtw93x3</td>\n",
       "    </tr>\n",
       "    <tr>\n",
       "      <th>3</th>\n",
       "      <td>wtw93x</td>\n",
       "      <td>wtw93x3</td>\n",
       "    </tr>\n",
       "    <tr>\n",
       "      <th>4</th>\n",
       "      <td>wtw93x</td>\n",
       "      <td>wtw93x3</td>\n",
       "    </tr>\n",
       "  </tbody>\n",
       "</table>\n",
       "</div>"
      ],
      "text/plain": [
       "    geo_6    geo_7\n",
       "0  wtw93x  wtw93x3\n",
       "1  wtw93x  wtw93x3\n",
       "2  wtw93x  wtw93x3\n",
       "3  wtw93x  wtw93x3\n",
       "4  wtw93x  wtw93x3"
      ]
     },
     "execution_count": 52,
     "metadata": {},
     "output_type": "execute_result"
    }
   ],
   "source": [
    "geo_df=pd.DataFrame({'geo_6':[i[:-1] for i in geo],'geo_7':geo},index=x_train.index)\n",
    "geo_df.head()"
   ]
  },
  {
   "cell_type": "code",
   "execution_count": 54,
   "metadata": {
    "collapsed": true,
    "scrolled": false
   },
   "outputs": [],
   "source": [
    "x_train=pd.concat((x_train.drop(['name','loc_x','loc_y'],axis=1),geo_df[['geo_6']]),axis=1)"
   ]
  },
  {
   "cell_type": "code",
   "execution_count": null,
   "metadata": {
    "collapsed": true
   },
   "outputs": [],
   "source": [
    "geo_test=[]\n",
    "for i in tqdm(x_test[['loc_y','loc_x']].values):\n",
    "    geo_test.append(encode(i[0],i[1],7))"
   ]
  },
  {
   "cell_type": "code",
   "execution_count": null,
   "metadata": {
    "collapsed": true
   },
   "outputs": [],
   "source": [
    "geo_test_df=pd.DataFrame({'geo_6':[i[:-1] for i in geo_test],'geo_7':geo_test},index=x_test.index)\n",
    "geo_df.head()"
   ]
  },
  {
   "cell_type": "code",
   "execution_count": null,
   "metadata": {
    "collapsed": true
   },
   "outputs": [],
   "source": [
    "from sklearn.linear_model import Lasso,Ridge\n",
    "\n",
    "model=Ridge()\n",
    "model.fit(pd.get_dummies(x_train),y_train)"
   ]
  },
  {
   "cell_type": "code",
   "execution_count": null,
   "metadata": {
    "collapsed": true
   },
   "outputs": [],
   "source": [
    "# 测试误差\n",
    "y_pred_test=model.predict(x_test)\n",
    "mean_squared_error(y_pred_test,y_test)"
   ]
  }
 ],
 "metadata": {
  "kernelspec": {
   "display_name": "Python 3",
   "language": "python",
   "name": "python3"
  },
  "language_info": {
   "codemirror_mode": {
    "name": "ipython",
    "version": 3
   },
   "file_extension": ".py",
   "mimetype": "text/x-python",
   "name": "python",
   "nbconvert_exporter": "python",
   "pygments_lexer": "ipython3",
   "version": "3.6.1"
  }
 },
 "nbformat": 4,
 "nbformat_minor": 2
}
